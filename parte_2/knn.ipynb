{
 "cells": [
  {
   "cell_type": "markdown",
   "id": "89870286-7988-45b2-a9c5-9b5a28c0a1d8",
   "metadata": {},
   "source": [
    "# KNN"
   ]
  },
  {
   "cell_type": "code",
   "execution_count": 28,
   "id": "252d48ed-cb37-4226-a164-75d60e24e45d",
   "metadata": {
    "id": "252d48ed-cb37-4226-a164-75d60e24e45d"
   },
   "outputs": [],
   "source": [
    "import numpy as np\n",
    "import pandas as pd\n",
    "import matplotlib \n",
    "from matplotlib import pyplot as plt\n",
    "import seaborn as sns\n",
    "from sklearn.metrics import accuracy_score, roc_auc_score, precision_score, recall_score, f1_score, roc_curve, auc, confusion_matrix, RocCurveDisplay\n",
    "from sklearn.model_selection import GridSearchCV, RandomizedSearchCV\n",
    "\n",
    "from sklearn.neighbors import KNeighborsClassifier\n",
    "\n",
    "from preprocessing import *\n",
    "\n",
    "plt.rcParams[\"figure.dpi\"] = 60"
   ]
  },
  {
   "cell_type": "markdown",
   "id": "2492d5b7-9ac8-4601-9357-f57252fd07ad",
   "metadata": {
    "id": "2492d5b7-9ac8-4601-9357-f57252fd07ad"
   },
   "source": [
    "# Carga del dataset\n",
    "Leemos el dataset y lo separamos en datos de training y de evaluación."
   ]
  },
  {
   "cell_type": "code",
   "execution_count": 24,
   "id": "918671b8-fc01-469a-8ba3-79dd8912270c",
   "metadata": {
    "id": "918671b8-fc01-469a-8ba3-79dd8912270c"
   },
   "outputs": [],
   "source": [
    "df = pd.read_csv(\"df_train.csv\")\n",
    "X = df.drop(columns=['llovieron_hamburguesas_al_dia_siguiente'])\n",
    "y = df['llovieron_hamburguesas_al_dia_siguiente']\n",
    "X_train, X_eval, y_train, y_eval = train_test_split(X, y, random_state=117, test_size=0.1, stratify=y.astype(str))"
   ]
  },
  {
   "cell_type": "markdown",
   "id": "d7384aa6-f8a7-4788-9867-86b93df0b67a",
   "metadata": {
    "id": "d7384aa6-f8a7-4788-9867-86b93df0b67a"
   },
   "source": [
    "# Selección de modelos\n",
    "\n",
    "Para encontrar el mejor modelo, probaremos utilizando 3 preprocesamientos distintos. \n",
    "Dado que KNN depende de la posición de los puntos en el espacio, es necesario escalar los datos.\n",
    "Los preprocesamientos que usamos eliminan las variables categóricas y aplican uno de los siguientes scalers: \n",
    "\n",
    "- **StandardScaler**: transforma los datos para que tengan media 0 y varianza 1.\n",
    "- **MinMaxScaler**: transforma los datos para que tengan valores entre 0 y 1.\n",
    "- **Normalizer**: normaliza individualmente cada fila del dataset, con norma 1.\n",
    "\n",
    "Por cada uno de ellos, buscaremos la mejor combinación de hiperparámetros mediante Randomized Search, con el objetivo de maximizar la métrica AUC ROC. Dado que la búsqueda de hiperparámetros toma un tiempo mayor que otros modelos, solamente haremos 10 iteraciones con 3 folds de cross-validation en lugar de 5.\n",
    "\n",
    "Los hiperparámetros que buscaremos son:\n",
    "- **n_neighbors:** Es la cantidad (k) de vecinos más cercanos que se consideran al clasificar una instancia nueva. Para valores de k muy pequeños (cercanos a 1), el modelo tiende al overfitting, mientras que para valores muy grandes (cercanos a la cantidad de instancias) tiende al underfitting. Si se utiliza un k muy grande, el tiempo que tarda en realizar la predicción aumenta mucho, por lo tanto probaremos con valores entre 10 y 150.\n",
    "- **weights:** determina cómo se pondera la cantidad de vecinos. Puede ser *uniform* (sin ponderación) o *distance* (la importancia de un vecino es inversamente proporcional a la distancia).\n"
   ]
  },
  {
   "cell_type": "markdown",
   "id": "917a112a-6792-4154-ab2d-0f504262821a",
   "metadata": {},
   "source": [
    "Primero probamos con StandardScaler:"
   ]
  },
  {
   "cell_type": "code",
   "execution_count": 3,
   "id": "m4vMTsrX-wz9",
   "metadata": {
    "colab": {
     "base_uri": "https://localhost:8080/"
    },
    "id": "m4vMTsrX-wz9",
    "outputId": "9ecb7d7d-5acb-406b-873a-2905206574ef"
   },
   "outputs": [
    {
     "name": "stdout",
     "output_type": "stream",
     "text": [
      "Best score: 0.8693663877178902\n",
      "Best params {'weights': 'distance', 'n_neighbors': 100}\n"
     ]
    }
   ],
   "source": [
    "X_train1 = preprocessing_knn_standard(X_train)\n",
    "params = {\n",
    "    'n_neighbors': np.arange(10, 150, 10),\n",
    "    'weights': ['uniform', 'distance'],\n",
    "}\n",
    "\n",
    "knn1 = KNeighborsClassifier(algorithm='kd_tree')\n",
    "\n",
    "gscv1 = RandomizedSearchCV(\n",
    "    knn1, params, n_iter=10, scoring='roc_auc', n_jobs=-1, cv=3, return_train_score=True\n",
    ").fit(X_train1, y_train)\n",
    "\n",
    "print(f\"Best score: {gscv1.best_score_}\")\n",
    "print(f\"Best params {gscv1.best_params_}\")"
   ]
  },
  {
   "cell_type": "markdown",
   "id": "b70599cf-7d9b-4ba2-bd95-a15dc9d466b7",
   "metadata": {},
   "source": [
    "Luego probamos con MinMaxScaler:"
   ]
  },
  {
   "cell_type": "code",
   "execution_count": 4,
   "id": "Dia5nw-BXK-s",
   "metadata": {
    "colab": {
     "base_uri": "https://localhost:8080/"
    },
    "id": "Dia5nw-BXK-s",
    "outputId": "44767f41-88a9-4dd8-8428-1d7c27a75990"
   },
   "outputs": [
    {
     "name": "stdout",
     "output_type": "stream",
     "text": [
      "Best score: 0.8675784662465255\n",
      "Best params {'weights': 'distance', 'n_neighbors': 120}\n"
     ]
    }
   ],
   "source": [
    "X_train2 = preprocessing_knn_min_max(X_train)\n",
    "params = {\n",
    "    'n_neighbors': np.arange(10, 150, 10),\n",
    "    'weights': ['uniform', 'distance'],\n",
    "}\n",
    "\n",
    "knn2 = KNeighborsClassifier(algorithm='kd_tree')\n",
    "\n",
    "gscv2 = RandomizedSearchCV(\n",
    "    knn2, params, n_iter=10, scoring='roc_auc', n_jobs=-1, cv=3, return_train_score=True\n",
    ").fit(X_train2, y_train)\n",
    "\n",
    "print(f\"Best score: {gscv2.best_score_}\")\n",
    "print(f\"Best params {gscv2.best_params_}\")"
   ]
  },
  {
   "cell_type": "markdown",
   "id": "e5640136-2472-4567-8a8a-12c4670b0368",
   "metadata": {},
   "source": [
    "Por último, utilizamos Normalizer:"
   ]
  },
  {
   "cell_type": "code",
   "execution_count": 5,
   "id": "vceBZ4A1XLD_",
   "metadata": {
    "colab": {
     "base_uri": "https://localhost:8080/"
    },
    "id": "vceBZ4A1XLD_",
    "outputId": "5e2b134d-d54e-4c48-e132-6450062d7d9b"
   },
   "outputs": [
    {
     "name": "stdout",
     "output_type": "stream",
     "text": [
      "Best score: 0.8570203863271639\n",
      "Best params {'weights': 'distance', 'n_neighbors': 140}\n"
     ]
    }
   ],
   "source": [
    "X_train3 = preprocessing_knn_normalizer(X_train)\n",
    "params = {\n",
    "    'n_neighbors': np.arange(10, 150, 10),\n",
    "    'weights': ['uniform', 'distance'],\n",
    "}\n",
    "\n",
    "knn3 = KNeighborsClassifier(algorithm='kd_tree')\n",
    "\n",
    "gscv3 = RandomizedSearchCV(\n",
    "    knn3, params, n_iter=10, scoring='roc_auc', n_jobs=-1, cv=3, return_train_score=True\n",
    ").fit(X_train3, y_train)\n",
    "\n",
    "print(f\"Best score: {gscv3.best_score_}\")\n",
    "print(f\"Best params {gscv3.best_params_}\")"
   ]
  },
  {
   "cell_type": "markdown",
   "id": "c4210a52-87ca-4c41-aa21-ea4908fd1218",
   "metadata": {
    "id": "c4210a52-87ca-4c41-aa21-ea4908fd1218"
   },
   "source": [
    "# Evaluación del modelo final\n",
    "\n",
    "El mejor modelo encontrado corresponde al preprocesamiento preprocessing_knn_standard, con weights': 'distance', 'n_neighbors': 100.\n",
    "Entrenamos el modelo y evaluamos utilizando el set de evaluacion."
   ]
  },
  {
   "cell_type": "code",
   "execution_count": 25,
   "id": "LLcZrJqZT7e3",
   "metadata": {
    "id": "LLcZrJqZT7e3"
   },
   "outputs": [],
   "source": [
    "X_eval = preprocessing_knn_standard(X_eval)\n",
    "\n",
    "knn = KNeighborsClassifier(algorithm='kd_tree', n_neighbors=100, weights='distance')\n",
    "knn.fit(X_train1, y_train)\n",
    "\n",
    "y_pred = knn.predict(X_eval)\n",
    "y_pred_proba = knn.predict_proba(X_eval)[:,1]"
   ]
  },
  {
   "cell_type": "code",
   "execution_count": 26,
   "id": "67a12d78-42c4-4a32-a6cd-86b274a1dca9",
   "metadata": {
    "colab": {
     "base_uri": "https://localhost:8080/"
    },
    "id": "67a12d78-42c4-4a32-a6cd-86b274a1dca9",
    "outputId": "29ea9396-90df-40d5-bdc6-409c663e3e81"
   },
   "outputs": [
    {
     "name": "stdout",
     "output_type": "stream",
     "text": [
      "Auc Roc: 0.8765817477528707\n",
      "Accuracy: 0.8474068152293395\n",
      "Precision: 0.7593297791317594\n",
      "Recall: 0.45153985507246375\n",
      "F1 Score: 0.566316387389946\n"
     ]
    }
   ],
   "source": [
    "print(f\"Auc Roc: {roc_auc_score(y_eval, y_pred_proba)}\")\n",
    "print(f\"Accuracy: {accuracy_score(y_eval, y_pred)}\")\n",
    "print(f\"Precision: {precision_score(y_eval, y_pred)}\")\n",
    "print(f\"Recall: {recall_score(y_eval, y_pred)}\")\n",
    "print(f\"F1 Score: {f1_score(y_eval, y_pred)}\")"
   ]
  },
  {
   "cell_type": "markdown",
   "id": "60df8ddb-42e1-4a08-835e-36d9a2389a0d",
   "metadata": {},
   "source": [
    "De las métricas podemos destacar que se obtuvo un accuracy de 0.85, mayor que el accuracy del baseline obtenido en el TP1 (0.83). Dado que el accuracy no es una buena métrica para evaluar un modelo cuando se usa un dataset desbalanceado como este, la métrica que usamos para comparar los modelos es AUC, la cual tiene un valor de 0.88.\n",
    "\n",
    "También vemos que el recall obtenido (0.45) es mucho menor que el precision (0.76). Esto significa que, de todas las instancias que son realmente positivas (es decir, llueven hamburguesas al día siguiente), el modelo solo detecta correctamente el 45% de ellas. Por otro lado, de las que el modelo predice como positivas, el 76% eran realmente positivas.\n",
    "\n",
    "Lo que se destaca de esto es que el recall es el más bajo obtenido en este TP, y a su vez el precision es el más alto. Esto se debe a que KNN predice muy pocos positivos, pero tiende a hacerlo correctamente. En el caso del modelo de Naive Bayes que utilizamos en este TP, por ejemplo, sucede lo contrario: el modelo predice una cantidad muy grande de positivos, lo cual hace que su recall sea alto pero su precision sea bajo.\n",
    "\n",
    "Por último, el F1 Score permite tener una única métrica para evaluar el modelo, teniendo en cuenta el recall y el precision:\n",
    "\n",
    "    F1 = 2 x (precision x recall) / (precision + recall) = 0.57\n",
    "\n",
    "Para analizar con más detalle estas métricas, graficaremos la matriz de confusión y la curva ROC."
   ]
  },
  {
   "cell_type": "markdown",
   "id": "07e4eaaa-6ce0-48c1-9fa0-ae660a786fb0",
   "metadata": {
    "id": "07e4eaaa-6ce0-48c1-9fa0-ae660a786fb0"
   },
   "source": [
    "## Matriz de confusión"
   ]
  },
  {
   "cell_type": "code",
   "execution_count": 29,
   "id": "ff74de6c-54cd-4eb7-9559-a8445a31300e",
   "metadata": {
    "colab": {
     "base_uri": "https://localhost:8080/",
     "height": 497
    },
    "id": "ff74de6c-54cd-4eb7-9559-a8445a31300e",
    "outputId": "c289fdfd-f234-4218-f5e5-0dc77ca92398"
   },
   "outputs": [
    {
     "data": {
      "image/png": "[encoded data removed]",
      "text/plain": [
       "<Figure size 600x400 with 2 Axes>"
      ]
     },
     "metadata": {
      "needs_background": "light"
     },
     "output_type": "display_data"
    }
   ],
   "source": [
    "names = sorted(set(y_eval))\n",
    "cm = confusion_matrix(y_eval, y_pred)\n",
    "df_cm = pd.DataFrame(cm, names, names)\n",
    "\n",
    "plt.figure(dpi=100)\n",
    "plt.title(\"Matriz de confusion\")\n",
    "sns.heatmap(df_cm, annot=True, annot_kws={\"size\": 16}, fmt='g', square=True)\n",
    "plt.ylabel(\"True label\")\n",
    "plt.xlabel(\"Predicted label\")\n",
    "plt.show()"
   ]
  },
  {
   "cell_type": "markdown",
   "id": "10de6f51-6dec-4def-88ea-24a365e217a1",
   "metadata": {},
   "source": [
    "En la matriz de confusión podemos observar exactamente cuántas instancias fueron predichas como True Positive, True Negative, False Positive y False Negative. Nuevamente destacamos la baja cantidad de instancias predecidas como positivas. A partir de estos datos se pueden calcular las métricas, verificando los resultados obtenidos anteriormente:\n",
    "- Recall = TP/(TP+FN) = 997/(997+1211) = 0.45\n",
    "- Precision = TP/(TP+FP) = 997/(997+316) = 0.76\n",
    "- Accuracy = (TP+TN)/total = 8480/10007 = 0.85"
   ]
  },
  {
   "cell_type": "markdown",
   "id": "b2684fe3-a9cf-47fb-a896-e16e263d6be0",
   "metadata": {
    "id": "b2684fe3-a9cf-47fb-a896-e16e263d6be0"
   },
   "source": [
    "## Curva ROC"
   ]
  },
  {
   "cell_type": "markdown",
   "id": "1e0afd6c-e754-45ad-8325-14ceb916e256",
   "metadata": {},
   "source": [
    "La curva ROC se obtiene al graficar el True Positive Rate (Recall) vs el False Positive Rate, variando el umbral de detección entre 0 y 100%. Si las predicciones hechas fueran completamente aleatorias, la curva sería una recta, con un área bajo la curva de 0.5. El área bajo la curva es la métrica que se obtiene de la curva, y por eso se busca obtener valores mayores que 0.5. En este caso se obtuvo un AUC = 0.88, el cual es un buen valor comparado con otros modelos utilizados en este TP."
   ]
  },
  {
   "cell_type": "code",
   "execution_count": 30,
   "id": "43513d4b-89e6-458e-ad4e-0b580c581f08",
   "metadata": {
    "colab": {
     "base_uri": "https://localhost:8080/",
     "height": 279
    },
    "id": "43513d4b-89e6-458e-ad4e-0b580c581f08",
    "outputId": "7f54b0b2-e4c2-457e-b408-79203b9472d5"
   },
   "outputs": [
    {
     "data": {
      "image/png": "[encoded data removed]",
      "text/plain": [
       "<Figure size 360x240 with 1 Axes>"
      ]
     },
     "metadata": {
      "needs_background": "light"
     },
     "output_type": "display_data"
    }
   ],
   "source": [
    "fpr, tpr, thresholds = roc_curve(y_eval, y_pred_proba)\n",
    "roc_auc = auc(fpr, tpr)\n",
    "display = RocCurveDisplay(fpr=fpr, tpr=tpr, roc_auc=roc_auc)\n",
    "display.plot()\n",
    "plt.show()"
   ]
  },
  {
   "cell_type": "markdown",
   "id": "99695d16-85c8-4e10-bf8b-b822bd53ef12",
   "metadata": {
    "id": "99695d16-85c8-4e10-bf8b-b822bd53ef12"
   },
   "source": [
    "# Predicciones finales\n",
    "Finalmente, utilizaremos el modelo para predecir la lluvia de hamburguesas a partir de datos que no fueron usados en el entrenamiento. Guardaremos las predicciones en un archivo csv."
   ]
  },
  {
   "cell_type": "code",
   "execution_count": 31,
   "id": "2e0ae43d-3ab5-4e15-b857-f63653cb1ec7",
   "metadata": {
    "colab": {
     "base_uri": "https://localhost:8080/"
    },
    "id": "2e0ae43d-3ab5-4e15-b857-f63653cb1ec7",
    "outputId": "7b4a029f-f1f2-42e8-bbfb-8d43a01fbf2b"
   },
   "outputs": [],
   "source": [
    "X_train1 = preprocessing_knn_standard(X_train)\n",
    "\n",
    "knn = KNeighborsClassifier(algorithm='kd_tree', n_neighbors=100, weights='distance')\n",
    "knn.fit(X_train1, y_train)\n",
    "\n",
    "df_pred = pd.read_csv(\"pred.csv\")\n",
    "df_pred_preprocess = basic_preprocessing(df_pred, prediction_dataset=True)\n",
    "df_pred_preprocess = fill_numerical_missings(df_pred_preprocess, X_train)\n",
    "df_pred_preprocess = df_pred_preprocess.drop(columns = ['id'])\n",
    "df_pred_preprocess = preprocessing_knn_standard(df_pred_preprocess)\n",
    "\n",
    "y_pred_final = knn.predict(df_pred_preprocess)\n",
    "df_pred_final = pd.DataFrame({'id': df_pred['id'], 'llovieron_hamburguesas_al_dia_siguiente': y_pred_final})\n",
    "df_pred_final.loc[df_pred_final['llovieron_hamburguesas_al_dia_siguiente'] == 1, 'llovieron_hamburguesas_al_dia_siguiente'] = 'si'\n",
    "df_pred_final.loc[df_pred_final['llovieron_hamburguesas_al_dia_siguiente'] == 0, 'llovieron_hamburguesas_al_dia_siguiente'] = 'no'"
   ]
  },
  {
   "cell_type": "code",
   "execution_count": 32,
   "id": "c80e96c4-fa72-4d55-adc2-b4cc515a53d7",
   "metadata": {
    "id": "c80e96c4-fa72-4d55-adc2-b4cc515a53d7"
   },
   "outputs": [],
   "source": [
    "df_pred_final.to_csv('predicciones/knn.csv', index=False)"
   ]
  },
  {
   "cell_type": "code",
   "execution_count": null,
   "id": "1c603880-5e9c-47a5-8dae-d94c7e4aa49a",
   "metadata": {
    "id": "1c603880-5e9c-47a5-8dae-d94c7e4aa49a"
   },
   "outputs": [],
   "source": []
  }
 ],
 "metadata": {
  "colab": {
   "collapsed_sections": [],
   "name": "knn.ipynb",
   "provenance": [],
   "toc_visible": true
  },
  "kernelspec": {
   "display_name": "Python 3 (ipykernel)",
   "language": "python",
   "name": "python3"
  },
  "language_info": {
   "codemirror_mode": {
    "name": "ipython",
    "version": 3
   },
   "file_extension": ".py",
   "mimetype": "text/x-python",
   "name": "python",
   "nbconvert_exporter": "python",
   "pygments_lexer": "ipython3",
   "version": "3.9.9"
  }
 },
 "nbformat": 4,
 "nbformat_minor": 5
}
