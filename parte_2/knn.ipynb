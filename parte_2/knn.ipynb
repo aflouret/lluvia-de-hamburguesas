{
  "nbformat": 4,
  "nbformat_minor": 5,
  "metadata": {
    "kernelspec": {
      "display_name": "Python 3 (ipykernel)",
      "language": "python",
      "name": "python3"
    },
    "language_info": {
      "codemirror_mode": {
        "name": "ipython",
        "version": 3
      },
      "file_extension": ".py",
      "mimetype": "text/x-python",
      "name": "python",
      "nbconvert_exporter": "python",
      "pygments_lexer": "ipython3",
      "version": "3.10.0"
    },
    "colab": {
      "name": "knn.ipynb",
      "provenance": [],
      "collapsed_sections": []
    }
  },
  "cells": [
    {
      "cell_type": "code",
      "metadata": {
        "id": "252d48ed-cb37-4226-a164-75d60e24e45d"
      },
      "source": [
        "import numpy as np\n",
        "import pandas as pd\n",
        "import matplotlib \n",
        "from matplotlib import pyplot as plt\n",
        "import seaborn as sns\n",
        "from sklearn import preprocessing, tree\n",
        "from sklearn.preprocessing import OneHotEncoder, LabelEncoder\n",
        "from sklearn.metrics import accuracy_score, roc_auc_score, precision_score, recall_score, roc_curve, auc\n",
        "from sklearn.dummy import DummyClassifier\n",
        "from sklearn.model_selection import train_test_split\n",
        "from sklearn.model_selection import GridSearchCV, RandomizedSearchCV\n",
        "from sklearn.neighbors import KNeighborsClassifier\n",
        "\n",
        "#from preprocessing import preprocess\n",
        "plt.rcParams[\"figure.dpi\"] = 150"
      ],
      "id": "252d48ed-cb37-4226-a164-75d60e24e45d",
      "execution_count": 1,
      "outputs": []
    },
    {
      "cell_type": "code",
      "metadata": {
        "id": "918671b8-fc01-469a-8ba3-79dd8912270c"
      },
      "source": [
        "from collections import Counter\n",
        "import requests\n",
        "\n",
        "with requests.get(\n",
        "    \"https://docs.google.com/spreadsheets/d/1wduqo5WyYmCpaGnE81sLNGU0VSodIekMfpmEwU0fGqs/export?format=csv\") as r, open(\"features.csv\", \"wb\") as f:\n",
        "    for chunk in r.iter_content():\n",
        "        f.write(chunk)\n",
        "\n",
        "with requests.get(\n",
        "    \"https://docs.google.com/spreadsheets/d/1gvZ03uAL6THwd04Y98GtIj6SeAHiKyQY5UisuuyFSUs/export?format=csv\") as r, open(\"target.csv\", \"wb\") as f:\n",
        "    for chunk in r.iter_content():\n",
        "        f.write(chunk)"
      ],
      "id": "918671b8-fc01-469a-8ba3-79dd8912270c",
      "execution_count": 2,
      "outputs": []
    },
    {
      "cell_type": "code",
      "metadata": {
        "colab": {
          "base_uri": "https://localhost:8080/"
        },
        "id": "6594b067-2d34-4ce7-a63e-c32c065d5b5c",
        "outputId": "76f1652d-9335-4069-edc4-ecccd3bbbf42"
      },
      "source": [
        "df_features = pd.read_csv(\"features.csv\")\n",
        "df_target = pd.read_csv(\"target.csv\")\n",
        "df = df_features.merge(df_target, left_on='id', right_on='id')"
      ],
      "id": "6594b067-2d34-4ce7-a63e-c32c065d5b5c",
      "execution_count": 3,
      "outputs": [
        {
          "output_type": "stream",
          "name": "stderr",
          "text": [
            "/usr/local/lib/python3.7/dist-packages/IPython/core/interactiveshell.py:2718: DtypeWarning: Columns (13) have mixed types.Specify dtype option on import or set low_memory=False.\n",
            "  interactivity=interactivity, compiler=compiler, result=result)\n"
          ]
        }
      ]
    },
    {
      "cell_type": "code",
      "metadata": {
        "id": "576c7d84-ac17-4cbd-bb3b-28b3adf6a5b7"
      },
      "source": [
        "def basic_preprocessing(df: pd.DataFrame):\n",
        "    df['presion_atmosferica_tarde'] = pd.to_numeric(df['presion_atmosferica_tarde'],errors='coerce')    \n",
        "    df['dia'] = pd.to_datetime(df['dia'])\n",
        "    df = df.dropna(subset=['llovieron_hamburguesas_al_dia_siguiente']) \n",
        "    df = df.dropna(subset=['llovieron_hamburguesas_hoy'])\n",
        "    df = df.drop(columns = ['id', 'barrio', 'mm_evaporados_agua'])\n",
        "    df['mes'] = df['dia'].dt.month\n",
        "    df = df.drop(columns = ['dia']) \n",
        "    df = df[df.isnull().mean(1) < 0.4]\n",
        "    \n",
        "    label_encoder = preprocessing.LabelEncoder()\n",
        "    \n",
        "    label_encoder.fit(df['llovieron_hamburguesas_hoy'])\n",
        "    df['llovieron_hamburguesas_hoy'] = label_encoder.transform(df['llovieron_hamburguesas_hoy'])\n",
        "\n",
        "    label_encoder.fit(df['llovieron_hamburguesas_al_dia_siguiente'])\n",
        "    df['llovieron_hamburguesas_al_dia_siguiente'] = label_encoder.transform(df['llovieron_hamburguesas_al_dia_siguiente'])\n",
        "\n",
        "    df['horas_de_sol'] = df['horas_de_sol'].fillna(df['horas_de_sol'].mean())\n",
        "    df['nubosidad_tarde'] = df['nubosidad_tarde'].fillna(df['nubosidad_tarde'].mean())\n",
        "    df['nubosidad_temprano'] = df['nubosidad_temprano'].fillna(df['nubosidad_temprano'].mean())\n",
        "    df['presion_atmosferica_temprano'] = df['presion_atmosferica_temprano'].fillna(df['presion_atmosferica_temprano'].mean())\n",
        "    df['presion_atmosferica_tarde'] = df['presion_atmosferica_tarde'].fillna(df['presion_atmosferica_tarde'].mean())\n",
        "    df['rafaga_viento_max_velocidad'] = df['rafaga_viento_max_velocidad'].fillna(df['rafaga_viento_max_velocidad'].mean())\n",
        "    df['humedad_tarde'] = df['humedad_tarde'].fillna(df['humedad_tarde'].mean())\n",
        "    df['temperatura_tarde'] = df['temperatura_tarde'].fillna(df['temperatura_tarde'].mean())\n",
        "    df['mm_lluvia_dia'] = df['mm_lluvia_dia'].fillna(df['mm_lluvia_dia'].median())\n",
        "    df['velocidad_viendo_tarde'] = df['velocidad_viendo_tarde'].fillna(df['velocidad_viendo_tarde'].mean())\n",
        "    df['humedad_temprano'] = df['humedad_temprano'].fillna(df['humedad_temprano'].mean())\n",
        "    df['velocidad_viendo_temprano'] = df['velocidad_viendo_temprano'].fillna(df['velocidad_viendo_temprano'].mean())\n",
        "    df['temperatura_temprano'] = df['temperatura_temprano'].fillna(df['temperatura_temprano'].mean())\n",
        "    df['temp_min'] = df['temp_min'].fillna(df['temp_min'].mean())\n",
        "    df['temp_max'] = df['temp_max'].fillna(df['temp_max'].mean())\n",
        "    \n",
        "    return df"
      ],
      "id": "576c7d84-ac17-4cbd-bb3b-28b3adf6a5b7",
      "execution_count": 4,
      "outputs": []
    },
    {
      "cell_type": "code",
      "metadata": {
        "id": "fe2f9dd3-d3e3-471f-b7cb-c41f26c5e99c"
      },
      "source": [
        "def preprocessing1(df: pd.DataFrame):\n",
        "    df = basic_preprocessing(df)\n",
        "\n",
        "    df = df.drop(columns = ['direccion_viento_temprano', 'rafaga_viento_max_direccion', 'direccion_viento_tarde', 'mes', 'llovieron_hamburguesas_hoy', 'velocidad_viendo_temprano', 'temperatura_temprano'])  \n",
        "\n",
        "    features = ['horas_de_sol', 'nubosidad_tarde', 'nubosidad_temprano', 'presion_atmosferica_temprano', 'presion_atmosferica_tarde', 'rafaga_viento_max_velocidad',\n",
        "                                        'humedad_tarde', 'temperatura_tarde', 'mm_lluvia_dia', 'velocidad_viendo_tarde', 'humedad_temprano',\n",
        "                                        'temp_min', 'temp_max']\n",
        "    scaler = preprocessing.StandardScaler()\n",
        "\n",
        "    df[features] = scaler.fit_transform(df[features])\n",
        "        \n",
        "    return df"
      ],
      "id": "fe2f9dd3-d3e3-471f-b7cb-c41f26c5e99c",
      "execution_count": 5,
      "outputs": []
    },
    {
      "cell_type": "code",
      "metadata": {
        "id": "7436898b-51f3-4249-a97a-7a568e4b04c9"
      },
      "source": [
        "def preprocessing2(df: pd.DataFrame):\n",
        "    df = basic_preprocessing(df)\n",
        "    \n",
        "    df = df.drop(columns = ['direccion_viento_temprano', 'rafaga_viento_max_direccion', 'direccion_viento_tarde', 'mes', 'llovieron_hamburguesas_hoy', 'velocidad_viendo_temprano', 'temperatura_temprano'])\n",
        "\n",
        "    features = ['horas_de_sol', 'nubosidad_tarde', 'nubosidad_temprano', 'presion_atmosferica_temprano', 'presion_atmosferica_tarde', 'rafaga_viento_max_velocidad',\n",
        "                                        'humedad_tarde', 'temperatura_tarde', 'mm_lluvia_dia', 'velocidad_viendo_tarde', 'humedad_temprano',\n",
        "                                        'temp_min', 'temp_max']\n",
        "    scaler = preprocessing.MinMaxScaler()\n",
        "\n",
        "    df[features] = scaler.fit_transform(df[features])\n",
        "\n",
        "    return df"
      ],
      "id": "7436898b-51f3-4249-a97a-7a568e4b04c9",
      "execution_count": 6,
      "outputs": []
    },
    {
      "cell_type": "code",
      "metadata": {
        "id": "78TYXXAAVgx5"
      },
      "source": [
        "def preprocessing3(df: pd.DataFrame):\n",
        "    df = basic_preprocessing(df)\n",
        "    \n",
        "    df = df.drop(columns = ['direccion_viento_temprano', 'rafaga_viento_max_direccion', 'direccion_viento_tarde', 'mes', 'llovieron_hamburguesas_hoy', 'velocidad_viendo_temprano', 'temperatura_temprano'])\n",
        "\n",
        "    features = ['horas_de_sol', 'nubosidad_tarde', 'nubosidad_temprano', 'presion_atmosferica_temprano', 'presion_atmosferica_tarde', 'rafaga_viento_max_velocidad',\n",
        "                                        'humedad_tarde', 'temperatura_tarde', 'mm_lluvia_dia', 'velocidad_viendo_tarde', 'humedad_temprano',\n",
        "                                        'temp_min', 'temp_max']\n",
        "    scaler = preprocessing.Normalizer()\n",
        "\n",
        "    df[features] = scaler.fit_transform(df[features])\n",
        "\n",
        "    return df"
      ],
      "id": "78TYXXAAVgx5",
      "execution_count": 7,
      "outputs": []
    },
    {
      "cell_type": "code",
      "metadata": {
        "id": "f0d6c542-0fa1-494b-a7ed-1e5e06cec118"
      },
      "source": [
        "def split(df):\n",
        "    \n",
        "    X = df.drop(columns=['llovieron_hamburguesas_al_dia_siguiente'])\n",
        "    y = df['llovieron_hamburguesas_al_dia_siguiente']\n",
        "    \n",
        "    X_train, X_test, y_train, y_test = train_test_split(X, y, random_state=117, test_size=0.2, stratify=y)\n",
        "\n",
        "    return X_train, X_test, y_train, y_test"
      ],
      "id": "f0d6c542-0fa1-494b-a7ed-1e5e06cec118",
      "execution_count": 8,
      "outputs": []
    },
    {
      "cell_type": "code",
      "metadata": {
        "id": "a8ce7aa4-8430-4601-8355-e2cfce4970c7"
      },
      "source": [
        "def plot_roc(_fpr, _tpr, x):\n",
        "\n",
        "    roc_auc = auc(_fpr, _tpr)\n",
        "\n",
        "    plt.figure(figsize=(15, 10))\n",
        "    plt.plot(\n",
        "        _fpr, _tpr, color='darkorange', lw=2, label=f'ROC curve (area = {roc_auc:.2f})'\n",
        "    )\n",
        "    plt.scatter(_fpr, x)\n",
        "    plt.plot([0, 1], [0, 1], color='navy', lw=2, linestyle='--')\n",
        "    plt.xlim([0.0, 1.0])\n",
        "    plt.ylim([0.0, 1.05])\n",
        "    plt.xlabel('False Positive Rate')\n",
        "    plt.ylabel('True Positive Rate')\n",
        "    plt.title('Receiver operating characteristic')\n",
        "    plt.legend(loc=\"lower right\")\n",
        "    plt.show()\n",
        "\n"
      ],
      "id": "a8ce7aa4-8430-4601-8355-e2cfce4970c7",
      "execution_count": 9,
      "outputs": []
    },
    {
      "cell_type": "code",
      "metadata": {
        "id": "skIOLG-B3b-j"
      },
      "source": [
        "df1 = preprocessing1(df)\n",
        "X_train1, X_test1, y_train1, y_test1 = split(df1)"
      ],
      "id": "skIOLG-B3b-j",
      "execution_count": 10,
      "outputs": []
    },
    {
      "cell_type": "code",
      "metadata": {
        "colab": {
          "base_uri": "https://localhost:8080/"
        },
        "id": "m4vMTsrX-wz9",
        "outputId": "da232499-61dc-4d19-89d6-92597999439e"
      },
      "source": [
        "params = {\n",
        "    'n_neighbors': np.arange(10, 150, 10),\n",
        "    'weights': ['uniform', 'distance'],\n",
        "}\n",
        "\n",
        "knn1 = KNeighborsClassifier(algorithm='kd_tree')\n",
        "\n",
        "gscv1 = GridSearchCV(\n",
        "    knn1, params, scoring='roc_auc', n_jobs=-1, cv=3, return_train_score=True\n",
        ").fit(X_train1, y_train1)\n",
        "\n",
        "print(f\"Best score: {gscv1.best_score_}\")\n",
        "print(f\"Best params {gscv1.best_params_}\")"
      ],
      "id": "m4vMTsrX-wz9",
      "execution_count": 11,
      "outputs": [
        {
          "output_type": "stream",
          "name": "stdout",
          "text": [
            "Best score: 0.8692052531038073\n",
            "Best params {'n_neighbors': 100, 'weights': 'distance'}\n"
          ]
        }
      ]
    },
    {
      "cell_type": "code",
      "metadata": {
        "id": "_1XUuIVuXK8R"
      },
      "source": [
        "df2 = preprocessing2(df)\n",
        "X_train2, X_test2, y_train2, y_test2 = split(df2)"
      ],
      "id": "_1XUuIVuXK8R",
      "execution_count": 12,
      "outputs": []
    },
    {
      "cell_type": "code",
      "metadata": {
        "colab": {
          "base_uri": "https://localhost:8080/"
        },
        "id": "Dia5nw-BXK-s",
        "outputId": "568537fe-a918-4880-b507-491272485502"
      },
      "source": [
        "params = {\n",
        "    'n_neighbors': np.arange(10, 150, 10),\n",
        "    'weights': ['uniform', 'distance'],\n",
        "}\n",
        "\n",
        "knn2 = KNeighborsClassifier(algorithm='kd_tree')\n",
        "\n",
        "gscv2 = GridSearchCV(\n",
        "    knn2, params, scoring='roc_auc', n_jobs=-1, cv=3, return_train_score=True\n",
        ").fit(X_train2, y_train2)\n",
        "\n",
        "print(f\"Best score: {gscv2.best_score_}\")\n",
        "print(f\"Best params {gscv2.best_params_}\")"
      ],
      "id": "Dia5nw-BXK-s",
      "execution_count": 13,
      "outputs": [
        {
          "output_type": "stream",
          "name": "stdout",
          "text": [
            "Best score: 0.8672874840044109\n",
            "Best params {'n_neighbors': 90, 'weights': 'distance'}\n"
          ]
        }
      ]
    },
    {
      "cell_type": "code",
      "metadata": {
        "id": "1zz6TsV2XLBu"
      },
      "source": [
        "df3 = preprocessing3(df)\n",
        "X_train3, X_test3, y_train3, y_test3 = split(df3)"
      ],
      "id": "1zz6TsV2XLBu",
      "execution_count": 14,
      "outputs": []
    },
    {
      "cell_type": "code",
      "metadata": {
        "colab": {
          "base_uri": "https://localhost:8080/"
        },
        "id": "vceBZ4A1XLD_",
        "outputId": "a76ef81a-d53e-4a17-925e-886a5bb6af77"
      },
      "source": [
        "params = {\n",
        "    'n_neighbors': np.arange(10, 150, 10),\n",
        "    'weights': ['uniform', 'distance'],\n",
        "}\n",
        "\n",
        "knn3 = KNeighborsClassifier(algorithm='kd_tree')\n",
        "\n",
        "gscv3 = GridSearchCV(\n",
        "    knn3, params, scoring='roc_auc', n_jobs=-1, cv=3, return_train_score=True\n",
        ").fit(X_train3, y_train3)\n",
        "\n",
        "print(f\"Best score: {gscv3.best_score_}\")\n",
        "print(f\"Best params {gscv3.best_params_}\")"
      ],
      "id": "vceBZ4A1XLD_",
      "execution_count": 15,
      "outputs": [
        {
          "output_type": "stream",
          "name": "stdout",
          "text": [
            "Best score: 0.8569011541339954\n",
            "Best params {'n_neighbors': 130, 'weights': 'distance'}\n"
          ]
        }
      ]
    },
    {
      "cell_type": "code",
      "metadata": {
        "id": "APl5FloaXLGg"
      },
      "source": [
        ""
      ],
      "id": "APl5FloaXLGg",
      "execution_count": null,
      "outputs": []
    },
    {
      "cell_type": "code",
      "metadata": {
        "id": "LLcZrJqZT7e3"
      },
      "source": [
        "knn = KNeighborsClassifier(algorithm='kd_tree', n_neighbors=100, weights='distance')\n",
        "knn.fit(X_train1, y_train1)\n",
        "\n",
        "y_pred = knn.predict(X_test1)\n",
        "y_pred_proba = knn.predict_proba(X_test1)[:,1]"
      ],
      "id": "LLcZrJqZT7e3",
      "execution_count": 16,
      "outputs": []
    },
    {
      "cell_type": "code",
      "metadata": {
        "colab": {
          "base_uri": "https://localhost:8080/"
        },
        "id": "e3IEofJZXLI1",
        "outputId": "d76bbb81-695f-4f17-97de-788cc0ba75ef"
      },
      "source": [
        "roc_auc_score(y_test1, y_pred_proba)"
      ],
      "id": "e3IEofJZXLI1",
      "execution_count": 17,
      "outputs": [
        {
          "output_type": "execute_result",
          "data": {
            "text/plain": [
              "0.8761197379419964"
            ]
          },
          "metadata": {},
          "execution_count": 17
        }
      ]
    },
    {
      "cell_type": "code",
      "metadata": {
        "colab": {
          "base_uri": "https://localhost:8080/"
        },
        "id": "W9NSkv8XXYby",
        "outputId": "7b637da2-972d-4dfc-cbb5-1e85fc0e6fa3"
      },
      "source": [
        "accuracy_score(y_test1, y_pred)"
      ],
      "id": "W9NSkv8XXYby",
      "execution_count": 18,
      "outputs": [
        {
          "output_type": "execute_result",
          "data": {
            "text/plain": [
              "0.8485448247942063"
            ]
          },
          "metadata": {},
          "execution_count": 18
        }
      ]
    },
    {
      "cell_type": "code",
      "metadata": {
        "colab": {
          "base_uri": "https://localhost:8080/"
        },
        "id": "eJND9xQjXYeR",
        "outputId": "447d95ad-cafe-459b-c861-3269d14aaed7"
      },
      "source": [
        "precision_score(y_test1, y_pred)"
      ],
      "id": "eJND9xQjXYeR",
      "execution_count": 19,
      "outputs": [
        {
          "output_type": "execute_result",
          "data": {
            "text/plain": [
              "0.7702845100105374"
            ]
          },
          "metadata": {},
          "execution_count": 19
        }
      ]
    },
    {
      "cell_type": "code",
      "metadata": {
        "colab": {
          "base_uri": "https://localhost:8080/"
        },
        "id": "UiMlJ3x5XYgd",
        "outputId": "258e97f9-a247-4ace-a292-ff5b4cafa653"
      },
      "source": [
        "recall_score(y_test1, y_pred)"
      ],
      "id": "UiMlJ3x5XYgd",
      "execution_count": 20,
      "outputs": [
        {
          "output_type": "execute_result",
          "data": {
            "text/plain": [
              "0.44700366897676314"
            ]
          },
          "metadata": {},
          "execution_count": 20
        }
      ]
    },
    {
      "cell_type": "code",
      "metadata": {
        "id": "6vBwb5OJXYjE"
      },
      "source": [
        ""
      ],
      "id": "6vBwb5OJXYjE",
      "execution_count": null,
      "outputs": []
    },
    {
      "cell_type": "code",
      "metadata": {
        "id": "0IwriGLiXLLK"
      },
      "source": [
        ""
      ],
      "id": "0IwriGLiXLLK",
      "execution_count": null,
      "outputs": []
    },
    {
      "cell_type": "code",
      "metadata": {
        "id": "0bqwB7CEXLNa"
      },
      "source": [
        ""
      ],
      "id": "0bqwB7CEXLNa",
      "execution_count": null,
      "outputs": []
    },
    {
      "cell_type": "code",
      "metadata": {
        "id": "ooLjStOpXLQX"
      },
      "source": [
        ""
      ],
      "id": "ooLjStOpXLQX",
      "execution_count": null,
      "outputs": []
    },
    {
      "cell_type": "code",
      "metadata": {
        "colab": {
          "base_uri": "https://localhost:8080/"
        },
        "id": "vp_7yuGW0msj",
        "outputId": "3e124117-d907-4eba-e8b5-462babc77b16"
      },
      "source": [
        "knn2 = KNeighborsClassifier(metric = 'euclidean', weights='uniform', n_neighbors=10)\n",
        "knn2.fit(X_train2, y_train2)\n",
        "#y_pred = knn2.predict(X_test2)\n",
        "y_pred_proba = knn2.predict_proba(X_test2)[:,1]\n",
        "roc_auc_score(y_test2, y_pred_proba)\n"
      ],
      "id": "vp_7yuGW0msj",
      "execution_count": 192,
      "outputs": [
        {
          "output_type": "execute_result",
          "data": {
            "text/plain": [
              "0.8484758951697395"
            ]
          },
          "metadata": {},
          "execution_count": 192
        }
      ]
    },
    {
      "cell_type": "code",
      "metadata": {
        "id": "47c70ec4-aed5-4900-931a-b7de6c8a9241",
        "colab": {
          "base_uri": "https://localhost:8080/"
        },
        "outputId": "687ae6b2-f5d5-4fb6-8ce5-aaad1c23b271"
      },
      "source": [
        ""
      ],
      "id": "47c70ec4-aed5-4900-931a-b7de6c8a9241",
      "execution_count": 188,
      "outputs": [
        {
          "output_type": "execute_result",
          "data": {
            "text/plain": [
              "0.8276730691376906"
            ]
          },
          "metadata": {},
          "execution_count": 188
        }
      ]
    },
    {
      "cell_type": "code",
      "metadata": {
        "id": "53fa1e95-e7ca-462d-8bb6-9abc0e9ecd33",
        "colab": {
          "base_uri": "https://localhost:8080/"
        },
        "outputId": "dae9aebc-a665-4f3f-e946-bd323c7828ea"
      },
      "source": [
        ""
      ],
      "id": "53fa1e95-e7ca-462d-8bb6-9abc0e9ecd33",
      "execution_count": 254,
      "outputs": [
        {
          "output_type": "execute_result",
          "data": {
            "text/plain": [
              "0.8276730691376906"
            ]
          },
          "metadata": {},
          "execution_count": 254
        }
      ]
    },
    {
      "cell_type": "code",
      "metadata": {
        "id": "656ebadc-b870-4335-b973-05ed5d7098c6",
        "colab": {
          "base_uri": "https://localhost:8080/"
        },
        "outputId": "bb61c417-8f01-41c3-a035-222b2ddfa763"
      },
      "source": [
        ""
      ],
      "id": "656ebadc-b870-4335-b973-05ed5d7098c6",
      "execution_count": 143,
      "outputs": [
        {
          "output_type": "execute_result",
          "data": {
            "text/plain": [
              "0.6902604756511891"
            ]
          },
          "metadata": {},
          "execution_count": 143
        }
      ]
    },
    {
      "cell_type": "code",
      "metadata": {
        "id": "db6283c7-3e7c-40c8-9eef-b3089d01b925",
        "colab": {
          "base_uri": "https://localhost:8080/"
        },
        "outputId": "3e0cf25c-5f16-4a99-800a-52dabf7e21a0"
      },
      "source": [
        ""
      ],
      "id": "db6283c7-3e7c-40c8-9eef-b3089d01b925",
      "execution_count": 144,
      "outputs": [
        {
          "output_type": "execute_result",
          "data": {
            "text/plain": [
              "0.49694251936404404"
            ]
          },
          "metadata": {},
          "execution_count": 144
        }
      ]
    },
    {
      "cell_type": "code",
      "metadata": {
        "id": "3b7917d0-22fc-4fba-ab97-7cc6951f48ca",
        "colab": {
          "base_uri": "https://localhost:8080/"
        },
        "outputId": "9e7fc13f-24b9-431b-99e5-e29c7fcfe2e6"
      },
      "source": [
        "y_test2"
      ],
      "id": "3b7917d0-22fc-4fba-ab97-7cc6951f48ca",
      "execution_count": 55,
      "outputs": [
        {
          "output_type": "execute_result",
          "data": {
            "text/plain": [
              "93060     0\n",
              "33296     0\n",
              "58500     0\n",
              "25709     0\n",
              "25260     0\n",
              "         ..\n",
              "56188     1\n",
              "93070     0\n",
              "25250     0\n",
              "56977     1\n",
              "104397    0\n",
              "Name: llovieron_hamburguesas_al_dia_siguiente, Length: 10618, dtype: int64"
            ]
          },
          "metadata": {},
          "execution_count": 55
        }
      ]
    },
    {
      "cell_type": "code",
      "metadata": {
        "id": "dbb1f790-1859-497e-a3a4-b03464f3bfaa",
        "colab": {
          "base_uri": "https://localhost:8080/"
        },
        "outputId": "739e5d2e-782b-4ad0-b36d-7830c43503a0"
      },
      "source": [
        "y_pred_proba"
      ],
      "id": "dbb1f790-1859-497e-a3a4-b03464f3bfaa",
      "execution_count": 63,
      "outputs": [
        {
          "output_type": "execute_result",
          "data": {
            "text/plain": [
              "array([0.2, 0.2, 0.4, ..., 0.2, 0.4, 0.2])"
            ]
          },
          "metadata": {},
          "execution_count": 63
        }
      ]
    },
    {
      "cell_type": "code",
      "metadata": {
        "id": "67a12d78-42c4-4a32-a6cd-86b274a1dca9"
      },
      "source": [
        ""
      ],
      "id": "67a12d78-42c4-4a32-a6cd-86b274a1dca9",
      "execution_count": null,
      "outputs": []
    }
  ]
}