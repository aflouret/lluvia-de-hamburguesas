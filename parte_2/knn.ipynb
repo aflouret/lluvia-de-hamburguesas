{
 "cells": [
  {
   "cell_type": "code",
   "execution_count": 1,
   "id": "252d48ed-cb37-4226-a164-75d60e24e45d",
   "metadata": {
    "id": "252d48ed-cb37-4226-a164-75d60e24e45d"
   },
   "outputs": [],
   "source": [
    "import numpy as np\n",
    "import pandas as pd\n",
    "import matplotlib \n",
    "from matplotlib import pyplot as plt\n",
    "import seaborn as sns\n",
    "from sklearn.metrics import accuracy_score, roc_auc_score, precision_score, recall_score, f1_score, roc_curve, auc, plot_confusion_matrix, RocCurveDisplay\n",
    "from sklearn.model_selection import GridSearchCV, RandomizedSearchCV\n",
    "\n",
    "from sklearn.neighbors import KNeighborsClassifier\n",
    "\n",
    "from preprocessing import *\n",
    "\n",
    "plt.rcParams[\"figure.dpi\"] = 60"
   ]
  },
  {
   "cell_type": "markdown",
   "id": "2492d5b7-9ac8-4601-9357-f57252fd07ad",
   "metadata": {
    "id": "2492d5b7-9ac8-4601-9357-f57252fd07ad"
   },
   "source": [
    "# Carga del dataset"
   ]
  },
  {
   "cell_type": "code",
   "execution_count": 10,
   "id": "918671b8-fc01-469a-8ba3-79dd8912270c",
   "metadata": {
    "id": "918671b8-fc01-469a-8ba3-79dd8912270c"
   },
   "outputs": [],
   "source": [
    "df = pd.read_csv(\"df_train.csv\")\n",
    "X = df.drop(columns=['llovieron_hamburguesas_al_dia_siguiente'])\n",
    "y = df['llovieron_hamburguesas_al_dia_siguiente']\n",
    "X_train, X_eval, y_train, y_eval = train_test_split(X, y, random_state=117, test_size=0.1, stratify=y.astype(str))"
   ]
  },
  {
   "cell_type": "markdown",
   "id": "d7384aa6-f8a7-4788-9867-86b93df0b67a",
   "metadata": {
    "id": "d7384aa6-f8a7-4788-9867-86b93df0b67a"
   },
   "source": [
    "# Selección de modelos\n",
    "\n",
    "Buscamos la mejor combinación de los hiperparámetros n_neighbors y weights, con 3 tipos de scaler (Standard, MinMax y Normalizer), utilizando Grid Search."
   ]
  },
  {
   "cell_type": "code",
   "execution_count": 4,
   "id": "m4vMTsrX-wz9",
   "metadata": {
    "colab": {
     "base_uri": "https://localhost:8080/"
    },
    "id": "m4vMTsrX-wz9",
    "outputId": "2862a7c8-82d5-4c18-8024-e4411f2bc7ec"
   },
   "outputs": [
    {
     "name": "stdout",
     "output_type": "stream",
     "text": [
      "Best score: 0.8659994222107432\n",
      "Best params {'weights': 'uniform', 'n_neighbors': 40}\n"
     ]
    }
   ],
   "source": [
    "X_train1 = preprocessing_knn_standard(X_train)\n",
    "params = {\n",
    "    'n_neighbors': np.arange(10, 150, 10),\n",
    "    'weights': ['uniform', 'distance'],\n",
    "}\n",
    "\n",
    "knn1 = KNeighborsClassifier(algorithm='kd_tree')\n",
    "\n",
    "gscv1 = RandomizedSearchCV(\n",
    "    knn1, params, n_iter=10, scoring='roc_auc', n_jobs=-1, cv=3, return_train_score=True\n",
    ").fit(X_train1, y_train)\n",
    "\n",
    "print(f\"Best score: {gscv1.best_score_}\")\n",
    "print(f\"Best params {gscv1.best_params_}\")"
   ]
  },
  {
   "cell_type": "code",
   "execution_count": 9,
   "id": "Dia5nw-BXK-s",
   "metadata": {
    "colab": {
     "base_uri": "https://localhost:8080/"
    },
    "id": "Dia5nw-BXK-s",
    "outputId": "dd1723ff-5551-4d47-b16d-882d8babf49f"
   },
   "outputs": [
    {
     "name": "stdout",
     "output_type": "stream",
     "text": [
      "Best score: 0.8669829329831088\n",
      "Best params {'weights': 'distance', 'n_neighbors': 110}\n"
     ]
    }
   ],
   "source": [
    "X_train2 = preprocessing_knn_min_max(X_train)\n",
    "params = {\n",
    "    'n_neighbors': np.arange(10, 150, 10),\n",
    "    'weights': ['uniform', 'distance'],\n",
    "}\n",
    "\n",
    "knn2 = KNeighborsClassifier(algorithm='kd_tree')\n",
    "\n",
    "gscv2 = RandomizedSearchCV(\n",
    "    knn2, params, n_iter=10, scoring='roc_auc', n_jobs=-1, cv=3, return_train_score=True\n",
    ").fit(X_train2, y_train)\n",
    "\n",
    "print(f\"Best score: {gscv2.best_score_}\")\n",
    "print(f\"Best params {gscv2.best_params_}\")"
   ]
  },
  {
   "cell_type": "code",
   "execution_count": 10,
   "id": "vceBZ4A1XLD_",
   "metadata": {
    "colab": {
     "base_uri": "https://localhost:8080/"
    },
    "id": "vceBZ4A1XLD_",
    "outputId": "4d056425-ba7e-4c9c-99e8-d843a2a5eeb0"
   },
   "outputs": [
    {
     "name": "stdout",
     "output_type": "stream",
     "text": [
      "Best score: 0.8561493125502159\n",
      "Best params {'weights': 'distance', 'n_neighbors': 130}\n"
     ]
    }
   ],
   "source": [
    "X_train3 = preprocessing_knn_normalizer(X_train)\n",
    "params = {\n",
    "    'n_neighbors': np.arange(10, 150, 10),\n",
    "    'weights': ['uniform', 'distance'],\n",
    "}\n",
    "\n",
    "knn3 = KNeighborsClassifier(algorithm='kd_tree')\n",
    "\n",
    "gscv3 = RandomizedSearchCV(\n",
    "    knn3, params, n_iter=10, scoring='roc_auc', n_jobs=-1, cv=3, return_train_score=True\n",
    ").fit(X_train3, y_train)\n",
    "\n",
    "print(f\"Best score: {gscv3.best_score_}\")\n",
    "print(f\"Best params {gscv3.best_params_}\")"
   ]
  },
  {
   "cell_type": "markdown",
   "id": "c4210a52-87ca-4c41-aa21-ea4908fd1218",
   "metadata": {
    "id": "c4210a52-87ca-4c41-aa21-ea4908fd1218"
   },
   "source": [
    "# Evaluación del modelo final\n",
    "\n",
    "El mejor modelo encontrado corresponde al preprocesamiento preprocessing_knn_standard, con weights': 'distance', 'n_neighbors': 100.\n",
    "Entrenamos el modelo y evaluamos utilizando el set de holdout."
   ]
  },
  {
   "cell_type": "code",
   "execution_count": 5,
   "id": "LLcZrJqZT7e3",
   "metadata": {
    "id": "LLcZrJqZT7e3"
   },
   "outputs": [],
   "source": [
    "X_eval = preprocessing_knn_standard(X_eval)\n",
    "\n",
    "knn = KNeighborsClassifier(algorithm='kd_tree', n_neighbors=100, weights='distance')\n",
    "knn.fit(X_train1, y_train)\n",
    "\n",
    "y_pred = knn.predict(X_eval)\n",
    "y_pred_proba = knn.predict_proba(X_eval)[:,1]"
   ]
  },
  {
   "cell_type": "code",
   "execution_count": 6,
   "id": "67a12d78-42c4-4a32-a6cd-86b274a1dca9",
   "metadata": {
    "id": "67a12d78-42c4-4a32-a6cd-86b274a1dca9"
   },
   "outputs": [
    {
     "name": "stdout",
     "output_type": "stream",
     "text": [
      "Auc Roc: 0.8765817477528707\n",
      "Accuracy: 0.8474068152293395\n",
      "Precision: 0.7593297791317594\n",
      "Recall: 0.45153985507246375\n",
      "F1 Score: 0.566316387389946\n"
     ]
    }
   ],
   "source": [
    "print(f\"Auc Roc: {roc_auc_score(y_eval, y_pred_proba)}\")\n",
    "print(f\"Accuracy: {accuracy_score(y_eval, y_pred)}\")\n",
    "print(f\"Precision: {precision_score(y_eval, y_pred)}\")\n",
    "print(f\"Recall: {recall_score(y_eval, y_pred)}\")\n",
    "print(f\"F1 Score: {f1_score(y_eval, y_pred)}\")"
   ]
  },
  {
   "cell_type": "markdown",
   "id": "07e4eaaa-6ce0-48c1-9fa0-ae660a786fb0",
   "metadata": {
    "id": "07e4eaaa-6ce0-48c1-9fa0-ae660a786fb0"
   },
   "source": [
    "## Matriz de confusión"
   ]
  },
  {
   "cell_type": "code",
   "execution_count": 7,
   "id": "ff74de6c-54cd-4eb7-9559-a8445a31300e",
   "metadata": {
    "id": "ff74de6c-54cd-4eb7-9559-a8445a31300e"
   },
   "outputs": [
    {
     "name": "stderr",
     "output_type": "stream",
     "text": [
      "/usr/local/lib/python3.9/site-packages/sklearn/utils/deprecation.py:87: FutureWarning: Function plot_confusion_matrix is deprecated; Function `plot_confusion_matrix` is deprecated in 1.0 and will be removed in 1.2. Use one of the class methods: ConfusionMatrixDisplay.from_predictions or ConfusionMatrixDisplay.from_estimator.\n",
      "  warnings.warn(msg, category=FutureWarning)\n"
     ]
    },
    {
     "data": {
      "image/png": "[encoded data removed]",
      "text/plain": [
       "<Figure size 900x420 with 2 Axes>"
      ]
     },
     "metadata": {
      "needs_background": "light"
     },
     "output_type": "display_data"
    }
   ],
   "source": [
    "fig, ax = plt.subplots(figsize=(15, 7))\n",
    "plt.grid(False)\n",
    "plot_confusion_matrix(\n",
    "    knn, X_eval, y_eval, cmap=plt.cm.Blues, display_labels=['1', '0'], ax=ax\n",
    ")\n",
    "plt.show()"
   ]
  },
  {
   "cell_type": "markdown",
   "id": "b2684fe3-a9cf-47fb-a896-e16e263d6be0",
   "metadata": {
    "id": "b2684fe3-a9cf-47fb-a896-e16e263d6be0"
   },
   "source": [
    "## Curva ROC"
   ]
  },
  {
   "cell_type": "code",
   "execution_count": 8,
   "id": "43513d4b-89e6-458e-ad4e-0b580c581f08",
   "metadata": {
    "id": "43513d4b-89e6-458e-ad4e-0b580c581f08"
   },
   "outputs": [
    {
     "data": {
      "image/png": "[encoded data removed]",
      "text/plain": [
       "<Figure size 360x240 with 1 Axes>"
      ]
     },
     "metadata": {
      "needs_background": "light"
     },
     "output_type": "display_data"
    }
   ],
   "source": [
    "fpr, tpr, thresholds = roc_curve(y_eval, y_pred_proba)\n",
    "roc_auc = auc(fpr, tpr)\n",
    "display = RocCurveDisplay(fpr=fpr, tpr=tpr, roc_auc=roc_auc)\n",
    "display.plot()\n",
    "plt.show()"
   ]
  },
  {
   "cell_type": "markdown",
   "id": "99695d16-85c8-4e10-bf8b-b822bd53ef12",
   "metadata": {},
   "source": [
    "# Predicciones finales"
   ]
  },
  {
   "cell_type": "code",
   "execution_count": 12,
   "id": "fc4f07c4-8337-4756-8d4f-e70f2e8c74b7",
   "metadata": {},
   "outputs": [
    {
     "data": {
      "text/html": [
       "<div>\n",
       "<style scoped>\n",
       "    .dataframe tbody tr th:only-of-type {\n",
       "        vertical-align: middle;\n",
       "    }\n",
       "\n",
       "    .dataframe tbody tr th {\n",
       "        vertical-align: top;\n",
       "    }\n",
       "\n",
       "    .dataframe thead th {\n",
       "        text-align: right;\n",
       "    }\n",
       "</style>\n",
       "<table border=\"1\" class=\"dataframe\">\n",
       "  <thead>\n",
       "    <tr style=\"text-align: right;\">\n",
       "      <th></th>\n",
       "      <th>horas_de_sol</th>\n",
       "      <th>humedad_tarde</th>\n",
       "      <th>humedad_temprano</th>\n",
       "      <th>mm_lluvia_dia</th>\n",
       "      <th>nubosidad_tarde</th>\n",
       "      <th>nubosidad_temprano</th>\n",
       "      <th>presion_atmosferica_tarde</th>\n",
       "      <th>presion_atmosferica_temprano</th>\n",
       "      <th>rafaga_viento_max_velocidad</th>\n",
       "      <th>temp_max</th>\n",
       "      <th>temp_min</th>\n",
       "      <th>temperatura_tarde</th>\n",
       "      <th>velocidad_viendo_tarde</th>\n",
       "    </tr>\n",
       "  </thead>\n",
       "  <tbody>\n",
       "    <tr>\n",
       "      <th>19048</th>\n",
       "      <td>-0.000060</td>\n",
       "      <td>0.708172</td>\n",
       "      <td>0.381036</td>\n",
       "      <td>-0.013598</td>\n",
       "      <td>-0.237677</td>\n",
       "      <td>1.124097</td>\n",
       "      <td>0.183877</td>\n",
       "      <td>-0.053737</td>\n",
       "      <td>-0.679639</td>\n",
       "      <td>0.370035</td>\n",
       "      <td>0.858136</td>\n",
       "      <td>0.360053</td>\n",
       "      <td>0.038080</td>\n",
       "    </tr>\n",
       "    <tr>\n",
       "      <th>49661</th>\n",
       "      <td>-0.000060</td>\n",
       "      <td>-0.020766</td>\n",
       "      <td>0.539099</td>\n",
       "      <td>2.085438</td>\n",
       "      <td>0.233770</td>\n",
       "      <td>1.124097</td>\n",
       "      <td>-1.733648</td>\n",
       "      <td>-1.555392</td>\n",
       "      <td>1.064833</td>\n",
       "      <td>1.678301</td>\n",
       "      <td>1.826159</td>\n",
       "      <td>1.779402</td>\n",
       "      <td>-1.103474</td>\n",
       "    </tr>\n",
       "    <tr>\n",
       "      <th>67807</th>\n",
       "      <td>-0.014623</td>\n",
       "      <td>1.339919</td>\n",
       "      <td>1.487477</td>\n",
       "      <td>-0.282079</td>\n",
       "      <td>-0.709123</td>\n",
       "      <td>-0.625760</td>\n",
       "      <td>-0.380976</td>\n",
       "      <td>-0.730954</td>\n",
       "      <td>-0.001259</td>\n",
       "      <td>-0.600614</td>\n",
       "      <td>-0.718806</td>\n",
       "      <td>-0.479970</td>\n",
       "      <td>0.038080</td>\n",
       "    </tr>\n",
       "    <tr>\n",
       "      <th>53233</th>\n",
       "      <td>-0.000060</td>\n",
       "      <td>-0.749704</td>\n",
       "      <td>-1.304970</td>\n",
       "      <td>-0.282079</td>\n",
       "      <td>-0.001099</td>\n",
       "      <td>-0.000778</td>\n",
       "      <td>-0.000120</td>\n",
       "      <td>-0.000135</td>\n",
       "      <td>0.458060</td>\n",
       "      <td>-0.277064</td>\n",
       "      <td>-0.843713</td>\n",
       "      <td>-0.335138</td>\n",
       "      <td>1.864568</td>\n",
       "    </tr>\n",
       "    <tr>\n",
       "      <th>56137</th>\n",
       "      <td>-0.232259</td>\n",
       "      <td>-0.360937</td>\n",
       "      <td>-1.199594</td>\n",
       "      <td>-0.282079</td>\n",
       "      <td>1.176663</td>\n",
       "      <td>-1.500688</td>\n",
       "      <td>-2.016074</td>\n",
       "      <td>-1.820390</td>\n",
       "      <td>1.595759</td>\n",
       "      <td>-0.403670</td>\n",
       "      <td>0.108698</td>\n",
       "      <td>-0.364105</td>\n",
       "      <td>0.837169</td>\n",
       "    </tr>\n",
       "    <tr>\n",
       "      <th>...</th>\n",
       "      <td>...</td>\n",
       "      <td>...</td>\n",
       "      <td>...</td>\n",
       "      <td>...</td>\n",
       "      <td>...</td>\n",
       "      <td>...</td>\n",
       "      <td>...</td>\n",
       "      <td>...</td>\n",
       "      <td>...</td>\n",
       "      <td>...</td>\n",
       "      <td>...</td>\n",
       "      <td>...</td>\n",
       "      <td>...</td>\n",
       "    </tr>\n",
       "    <tr>\n",
       "      <th>66275</th>\n",
       "      <td>-0.159714</td>\n",
       "      <td>-0.263745</td>\n",
       "      <td>0.697162</td>\n",
       "      <td>0.084032</td>\n",
       "      <td>-1.180570</td>\n",
       "      <td>-1.500688</td>\n",
       "      <td>-0.143143</td>\n",
       "      <td>-0.407068</td>\n",
       "      <td>0.306367</td>\n",
       "      <td>-0.459940</td>\n",
       "      <td>-0.125502</td>\n",
       "      <td>-0.291689</td>\n",
       "      <td>0.837169</td>\n",
       "    </tr>\n",
       "    <tr>\n",
       "      <th>70447</th>\n",
       "      <td>-1.755711</td>\n",
       "      <td>1.582898</td>\n",
       "      <td>0.539099</td>\n",
       "      <td>-0.282079</td>\n",
       "      <td>1.176663</td>\n",
       "      <td>1.124097</td>\n",
       "      <td>0.169012</td>\n",
       "      <td>-0.436512</td>\n",
       "      <td>-0.679639</td>\n",
       "      <td>-1.050770</td>\n",
       "      <td>0.499030</td>\n",
       "      <td>-0.972397</td>\n",
       "      <td>-1.674251</td>\n",
       "    </tr>\n",
       "    <tr>\n",
       "      <th>24788</th>\n",
       "      <td>-0.000060</td>\n",
       "      <td>-1.721621</td>\n",
       "      <td>-0.725405</td>\n",
       "      <td>-0.282079</td>\n",
       "      <td>-0.001099</td>\n",
       "      <td>-0.000778</td>\n",
       "      <td>0.035231</td>\n",
       "      <td>0.137650</td>\n",
       "      <td>-0.072866</td>\n",
       "      <td>0.946798</td>\n",
       "      <td>-0.047435</td>\n",
       "      <td>0.924896</td>\n",
       "      <td>-0.646852</td>\n",
       "    </tr>\n",
       "    <tr>\n",
       "      <th>73038</th>\n",
       "      <td>-0.000060</td>\n",
       "      <td>0.513789</td>\n",
       "      <td>-0.461967</td>\n",
       "      <td>-0.282079</td>\n",
       "      <td>-0.001099</td>\n",
       "      <td>-0.000778</td>\n",
       "      <td>-0.544485</td>\n",
       "      <td>-0.642621</td>\n",
       "      <td>1.216526</td>\n",
       "      <td>-1.275848</td>\n",
       "      <td>-0.359701</td>\n",
       "      <td>-1.319993</td>\n",
       "      <td>0.380547</td>\n",
       "    </tr>\n",
       "    <tr>\n",
       "      <th>11552</th>\n",
       "      <td>1.690192</td>\n",
       "      <td>-0.069362</td>\n",
       "      <td>-0.251216</td>\n",
       "      <td>-0.282079</td>\n",
       "      <td>1.176663</td>\n",
       "      <td>-1.063224</td>\n",
       "      <td>0.258199</td>\n",
       "      <td>0.137650</td>\n",
       "      <td>0.078827</td>\n",
       "      <td>-0.136390</td>\n",
       "      <td>-0.359701</td>\n",
       "      <td>-0.002026</td>\n",
       "      <td>0.038080</td>\n",
       "    </tr>\n",
       "  </tbody>\n",
       "</table>\n",
       "<p>90055 rows × 13 columns</p>\n",
       "</div>"
      ],
      "text/plain": [
       "       horas_de_sol  humedad_tarde  humedad_temprano  mm_lluvia_dia  \\\n",
       "19048     -0.000060       0.708172          0.381036      -0.013598   \n",
       "49661     -0.000060      -0.020766          0.539099       2.085438   \n",
       "67807     -0.014623       1.339919          1.487477      -0.282079   \n",
       "53233     -0.000060      -0.749704         -1.304970      -0.282079   \n",
       "56137     -0.232259      -0.360937         -1.199594      -0.282079   \n",
       "...             ...            ...               ...            ...   \n",
       "66275     -0.159714      -0.263745          0.697162       0.084032   \n",
       "70447     -1.755711       1.582898          0.539099      -0.282079   \n",
       "24788     -0.000060      -1.721621         -0.725405      -0.282079   \n",
       "73038     -0.000060       0.513789         -0.461967      -0.282079   \n",
       "11552      1.690192      -0.069362         -0.251216      -0.282079   \n",
       "\n",
       "       nubosidad_tarde  nubosidad_temprano  presion_atmosferica_tarde  \\\n",
       "19048        -0.237677            1.124097                   0.183877   \n",
       "49661         0.233770            1.124097                  -1.733648   \n",
       "67807        -0.709123           -0.625760                  -0.380976   \n",
       "53233        -0.001099           -0.000778                  -0.000120   \n",
       "56137         1.176663           -1.500688                  -2.016074   \n",
       "...                ...                 ...                        ...   \n",
       "66275        -1.180570           -1.500688                  -0.143143   \n",
       "70447         1.176663            1.124097                   0.169012   \n",
       "24788        -0.001099           -0.000778                   0.035231   \n",
       "73038        -0.001099           -0.000778                  -0.544485   \n",
       "11552         1.176663           -1.063224                   0.258199   \n",
       "\n",
       "       presion_atmosferica_temprano  rafaga_viento_max_velocidad  temp_max  \\\n",
       "19048                     -0.053737                    -0.679639  0.370035   \n",
       "49661                     -1.555392                     1.064833  1.678301   \n",
       "67807                     -0.730954                    -0.001259 -0.600614   \n",
       "53233                     -0.000135                     0.458060 -0.277064   \n",
       "56137                     -1.820390                     1.595759 -0.403670   \n",
       "...                             ...                          ...       ...   \n",
       "66275                     -0.407068                     0.306367 -0.459940   \n",
       "70447                     -0.436512                    -0.679639 -1.050770   \n",
       "24788                      0.137650                    -0.072866  0.946798   \n",
       "73038                     -0.642621                     1.216526 -1.275848   \n",
       "11552                      0.137650                     0.078827 -0.136390   \n",
       "\n",
       "       temp_min  temperatura_tarde  velocidad_viendo_tarde  \n",
       "19048  0.858136           0.360053                0.038080  \n",
       "49661  1.826159           1.779402               -1.103474  \n",
       "67807 -0.718806          -0.479970                0.038080  \n",
       "53233 -0.843713          -0.335138                1.864568  \n",
       "56137  0.108698          -0.364105                0.837169  \n",
       "...         ...                ...                     ...  \n",
       "66275 -0.125502          -0.291689                0.837169  \n",
       "70447  0.499030          -0.972397               -1.674251  \n",
       "24788 -0.047435           0.924896               -0.646852  \n",
       "73038 -0.359701          -1.319993                0.380547  \n",
       "11552 -0.359701          -0.002026                0.038080  \n",
       "\n",
       "[90055 rows x 13 columns]"
      ]
     },
     "execution_count": 12,
     "metadata": {},
     "output_type": "execute_result"
    }
   ],
   "source": [
    "X_train1"
   ]
  },
  {
   "cell_type": "code",
   "execution_count": 13,
   "id": "2e0ae43d-3ab5-4e15-b857-f63653cb1ec7",
   "metadata": {},
   "outputs": [
    {
     "data": {
      "text/plain": [
       "no    25445\n",
       "si     3647\n",
       "Name: llovieron_hamburguesas_al_dia_siguiente, dtype: int64"
      ]
     },
     "execution_count": 13,
     "metadata": {},
     "output_type": "execute_result"
    }
   ],
   "source": [
    "X_train1 = preprocessing_knn_standard(X_train)\n",
    "\n",
    "knn = KNeighborsClassifier(algorithm='kd_tree', n_neighbors=100, weights='distance')\n",
    "knn.fit(X_train1, y_train)\n",
    "\n",
    "df_pred = pd.read_csv(\"pred.csv\")\n",
    "df_pred_preprocess = basic_preprocessing(df_pred, prediction_dataset=True)\n",
    "df_pred_preprocess = fill_numerical_missings(df_pred_preprocess, X_train)\n",
    "df_pred_preprocess = df_pred_preprocess.drop(columns = ['id'])\n",
    "df_pred_preprocess = preprocessing_knn_standard(df_pred_preprocess)\n",
    "\n",
    "y_pred_final = knn.predict(df_pred_preprocess)\n",
    "df_pred_final = pd.DataFrame({'id': df_pred['id'], 'llovieron_hamburguesas_al_dia_siguiente': y_pred_final})\n",
    "df_pred_final.loc[df_pred_final['llovieron_hamburguesas_al_dia_siguiente'] == 1, 'llovieron_hamburguesas_al_dia_siguiente'] = 'si'\n",
    "df_pred_final.loc[df_pred_final['llovieron_hamburguesas_al_dia_siguiente'] == 0, 'llovieron_hamburguesas_al_dia_siguiente'] = 'no'\n",
    "\n",
    "df_pred_final['llovieron_hamburguesas_al_dia_siguiente'].value_counts()"
   ]
  },
  {
   "cell_type": "code",
   "execution_count": 5,
   "id": "c80e96c4-fa72-4d55-adc2-b4cc515a53d7",
   "metadata": {},
   "outputs": [],
   "source": [
    "df_pred_final.to_csv('predicciones/knn.csv', index=False)"
   ]
  },
  {
   "cell_type": "code",
   "execution_count": null,
   "id": "1c603880-5e9c-47a5-8dae-d94c7e4aa49a",
   "metadata": {},
   "outputs": [],
   "source": []
  }
 ],
 "metadata": {
  "colab": {
   "collapsed_sections": [],
   "name": "knn.ipynb",
   "provenance": []
  },
  "kernelspec": {
   "display_name": "Python 3 (ipykernel)",
   "language": "python",
   "name": "python3"
  },
  "language_info": {
   "codemirror_mode": {
    "name": "ipython",
    "version": 3
   },
   "file_extension": ".py",
   "mimetype": "text/x-python",
   "name": "python",
   "nbconvert_exporter": "python",
   "pygments_lexer": "ipython3",
   "version": "3.9.9"
  }
 },
 "nbformat": 4,
 "nbformat_minor": 5
}
