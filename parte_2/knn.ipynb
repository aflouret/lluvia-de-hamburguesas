{
 "cells": [
  {
   "cell_type": "code",
   "execution_count": 1,
   "id": "252d48ed-cb37-4226-a164-75d60e24e45d",
   "metadata": {
    "id": "252d48ed-cb37-4226-a164-75d60e24e45d"
   },
   "outputs": [],
   "source": [
    "import numpy as np\n",
    "import pandas as pd\n",
    "import matplotlib \n",
    "from matplotlib import pyplot as plt\n",
    "import seaborn as sns\n",
    "from sklearn.metrics import accuracy_score, roc_auc_score, precision_score, recall_score, f1_score, roc_curve, auc, plot_confusion_matrix, RocCurveDisplay\n",
    "from sklearn.model_selection import GridSearchCV, RandomizedSearchCV\n",
    "\n",
    "from sklearn.neighbors import KNeighborsClassifier\n",
    "\n",
    "from preprocessing import *\n",
    "\n",
    "plt.rcParams[\"figure.dpi\"] = 60"
   ]
  },
  {
   "cell_type": "markdown",
   "id": "2492d5b7-9ac8-4601-9357-f57252fd07ad",
   "metadata": {
    "id": "2492d5b7-9ac8-4601-9357-f57252fd07ad"
   },
   "source": [
    "# Carga del dataset"
   ]
  },
  {
   "cell_type": "code",
   "execution_count": 2,
   "id": "918671b8-fc01-469a-8ba3-79dd8912270c",
   "metadata": {
    "id": "918671b8-fc01-469a-8ba3-79dd8912270c"
   },
   "outputs": [],
   "source": [
    "from collections import Counter\n",
    "import requests\n",
    "\n",
    "with requests.get(\n",
    "    \"https://docs.google.com/spreadsheets/d/1wduqo5WyYmCpaGnE81sLNGU0VSodIekMfpmEwU0fGqs/export?format=csv\") as r, open(\"features.csv\", \"wb\") as f:\n",
    "    for chunk in r.iter_content():\n",
    "        f.write(chunk)\n",
    "\n",
    "with requests.get(\n",
    "    \"https://docs.google.com/spreadsheets/d/1gvZ03uAL6THwd04Y98GtIj6SeAHiKyQY5UisuuyFSUs/export?format=csv\") as r, open(\"target.csv\", \"wb\") as f:\n",
    "    for chunk in r.iter_content():\n",
    "        f.write(chunk)"
   ]
  },
  {
   "cell_type": "code",
   "execution_count": 3,
   "id": "6594b067-2d34-4ce7-a63e-c32c065d5b5c",
   "metadata": {
    "colab": {
     "base_uri": "https://localhost:8080/"
    },
    "id": "6594b067-2d34-4ce7-a63e-c32c065d5b5c",
    "outputId": "2ae922f1-1487-41de-b6b5-4c3237212a04"
   },
   "outputs": [
    {
     "name": "stderr",
     "output_type": "stream",
     "text": [
      "/usr/local/lib/python3.9/site-packages/IPython/core/interactiveshell.py:3444: DtypeWarning: Columns (13) have mixed types.Specify dtype option on import or set low_memory=False.\n",
      "  exec(code_obj, self.user_global_ns, self.user_ns)\n"
     ]
    }
   ],
   "source": [
    "df_features = pd.read_csv(\"features.csv\")\n",
    "df_target = pd.read_csv(\"target.csv\")\n",
    "df = df_features.merge(df_target, left_on='id', right_on='id')"
   ]
  },
  {
   "cell_type": "markdown",
   "id": "d7384aa6-f8a7-4788-9867-86b93df0b67a",
   "metadata": {
    "id": "d7384aa6-f8a7-4788-9867-86b93df0b67a"
   },
   "source": [
    "# Selección de modelos\n",
    "\n",
    "Buscamos la mejor combinación de los hiperparámetros n_neighbors y weights, con 3 tipos de scaler (Standard, MinMax y Normalizer), utilizando Grid Search."
   ]
  },
  {
   "cell_type": "code",
   "execution_count": 8,
   "id": "m4vMTsrX-wz9",
   "metadata": {
    "colab": {
     "base_uri": "https://localhost:8080/"
    },
    "id": "m4vMTsrX-wz9",
    "outputId": "2862a7c8-82d5-4c18-8024-e4411f2bc7ec"
   },
   "outputs": [
    {
     "name": "stdout",
     "output_type": "stream",
     "text": [
      "Best score: 0.8682297943095203\n",
      "Best params {'weights': 'distance', 'n_neighbors': 100}\n"
     ]
    }
   ],
   "source": [
    "X_train1, X_test1, y_train1, y_test1 = preprocessing_knn_standard(df)\n",
    "params = {\n",
    "    'n_neighbors': np.arange(10, 150, 10),\n",
    "    'weights': ['uniform', 'distance'],\n",
    "}\n",
    "\n",
    "knn1 = KNeighborsClassifier(algorithm='kd_tree')\n",
    "\n",
    "gscv1 = RandomizedSearchCV(\n",
    "    knn1, params, n_iter=10, scoring='roc_auc', n_jobs=-1, cv=3, return_train_score=True\n",
    ").fit(X_train1, y_train1)\n",
    "\n",
    "print(f\"Best score: {gscv1.best_score_}\")\n",
    "print(f\"Best params {gscv1.best_params_}\")"
   ]
  },
  {
   "cell_type": "code",
   "execution_count": 9,
   "id": "Dia5nw-BXK-s",
   "metadata": {
    "colab": {
     "base_uri": "https://localhost:8080/"
    },
    "id": "Dia5nw-BXK-s",
    "outputId": "dd1723ff-5551-4d47-b16d-882d8babf49f"
   },
   "outputs": [
    {
     "name": "stdout",
     "output_type": "stream",
     "text": [
      "Best score: 0.8669829329831088\n",
      "Best params {'weights': 'distance', 'n_neighbors': 110}\n"
     ]
    }
   ],
   "source": [
    "X_train2, X_test2, y_train2, y_test2 = preprocessing_knn_min_max(df)\n",
    "params = {\n",
    "    'n_neighbors': np.arange(10, 150, 10),\n",
    "    'weights': ['uniform', 'distance'],\n",
    "}\n",
    "\n",
    "knn2 = KNeighborsClassifier(algorithm='kd_tree')\n",
    "\n",
    "gscv2 = RandomizedSearchCV(\n",
    "    knn2, params, n_iter=10, scoring='roc_auc', n_jobs=-1, cv=3, return_train_score=True\n",
    ").fit(X_train2, y_train2)\n",
    "\n",
    "print(f\"Best score: {gscv2.best_score_}\")\n",
    "print(f\"Best params {gscv2.best_params_}\")"
   ]
  },
  {
   "cell_type": "code",
   "execution_count": 10,
   "id": "vceBZ4A1XLD_",
   "metadata": {
    "colab": {
     "base_uri": "https://localhost:8080/"
    },
    "id": "vceBZ4A1XLD_",
    "outputId": "4d056425-ba7e-4c9c-99e8-d843a2a5eeb0"
   },
   "outputs": [
    {
     "name": "stdout",
     "output_type": "stream",
     "text": [
      "Best score: 0.8561493125502159\n",
      "Best params {'weights': 'distance', 'n_neighbors': 130}\n"
     ]
    }
   ],
   "source": [
    "X_train3, X_test3, y_train3, y_test3 = preprocessing_knn_normalizer(df)\n",
    "params = {\n",
    "    'n_neighbors': np.arange(10, 150, 10),\n",
    "    'weights': ['uniform', 'distance'],\n",
    "}\n",
    "\n",
    "knn3 = KNeighborsClassifier(algorithm='kd_tree')\n",
    "\n",
    "gscv3 = RandomizedSearchCV(\n",
    "    knn3, params, n_iter=10, scoring='roc_auc', n_jobs=-1, cv=3, return_train_score=True\n",
    ").fit(X_train3, y_train3)\n",
    "\n",
    "print(f\"Best score: {gscv3.best_score_}\")\n",
    "print(f\"Best params {gscv3.best_params_}\")"
   ]
  },
  {
   "cell_type": "markdown",
   "id": "c4210a52-87ca-4c41-aa21-ea4908fd1218",
   "metadata": {
    "id": "c4210a52-87ca-4c41-aa21-ea4908fd1218"
   },
   "source": [
    "# Evaluación del modelo final\n",
    "\n",
    "El mejor modelo encontrado corresponde al preprocesamiento preprocessing_knn_standard, con weights': 'distance', 'n_neighbors': 100.\n",
    "Entrenamos el modelo y evaluamos utilizando el set de holdout."
   ]
  },
  {
   "cell_type": "code",
   "execution_count": 13,
   "id": "LLcZrJqZT7e3",
   "metadata": {
    "id": "LLcZrJqZT7e3"
   },
   "outputs": [],
   "source": [
    "X_train, X_test, y_train, y_test = preprocessing_knn_standard(df)\n",
    "\n",
    "knn = KNeighborsClassifier(algorithm='kd_tree', n_neighbors=100, weights='distance')\n",
    "knn.fit(X_train, y_train)\n",
    "\n",
    "y_pred = knn.predict(X_test)\n",
    "y_pred_proba = knn.predict_proba(X_test)[:,1]"
   ]
  },
  {
   "cell_type": "code",
   "execution_count": 14,
   "id": "67a12d78-42c4-4a32-a6cd-86b274a1dca9",
   "metadata": {
    "id": "67a12d78-42c4-4a32-a6cd-86b274a1dca9"
   },
   "outputs": [
    {
     "name": "stdout",
     "output_type": "stream",
     "text": [
      "Auc Roc: 0.8761213343419879\n",
      "Accuracy: 0.8493434070876057\n",
      "Precision: 0.7765541740674956\n",
      "Recall: 0.44548604035051964\n",
      "F1 Score: 0.5661745661745662\n"
     ]
    }
   ],
   "source": [
    "print(f\"Auc Roc: {roc_auc_score(y_test, y_pred_proba)}\")\n",
    "print(f\"Accuracy: {accuracy_score(y_test, y_pred)}\")\n",
    "print(f\"Precision: {precision_score(y_test, y_pred)}\")\n",
    "print(f\"Recall: {recall_score(y_test, y_pred)}\")\n",
    "print(f\"F1 Score: {f1_score(y_test, y_pred)}\")"
   ]
  },
  {
   "cell_type": "markdown",
   "id": "07e4eaaa-6ce0-48c1-9fa0-ae660a786fb0",
   "metadata": {
    "id": "07e4eaaa-6ce0-48c1-9fa0-ae660a786fb0"
   },
   "source": [
    "## Matriz de confusión"
   ]
  },
  {
   "cell_type": "code",
   "execution_count": 18,
   "id": "ff74de6c-54cd-4eb7-9559-a8445a31300e",
   "metadata": {
    "id": "ff74de6c-54cd-4eb7-9559-a8445a31300e"
   },
   "outputs": [
    {
     "name": "stderr",
     "output_type": "stream",
     "text": [
      "/usr/local/lib/python3.9/site-packages/sklearn/utils/deprecation.py:87: FutureWarning: Function plot_confusion_matrix is deprecated; Function `plot_confusion_matrix` is deprecated in 1.0 and will be removed in 1.2. Use one of the class methods: ConfusionMatrixDisplay.from_predictions or ConfusionMatrixDisplay.from_estimator.\n",
      "  warnings.warn(msg, category=FutureWarning)\n"
     ]
    },
    {
     "data": {
      "image/png": "[encoded data removed]",
      "text/plain": [
       "<Figure size 900x420 with 2 Axes>"
      ]
     },
     "metadata": {
      "needs_background": "light"
     },
     "output_type": "display_data"
    }
   ],
   "source": [
    "fig, ax = plt.subplots(figsize=(15, 7))\n",
    "plt.grid(False)\n",
    "plot_confusion_matrix(\n",
    "    knn, X_test, y_test, cmap=plt.cm.Blues, display_labels=['1', '0'], ax=ax\n",
    ")\n",
    "plt.show()"
   ]
  },
  {
   "cell_type": "markdown",
   "id": "b2684fe3-a9cf-47fb-a896-e16e263d6be0",
   "metadata": {
    "id": "b2684fe3-a9cf-47fb-a896-e16e263d6be0"
   },
   "source": [
    "## Curva ROC"
   ]
  },
  {
   "cell_type": "code",
   "execution_count": 19,
   "id": "43513d4b-89e6-458e-ad4e-0b580c581f08",
   "metadata": {
    "id": "43513d4b-89e6-458e-ad4e-0b580c581f08"
   },
   "outputs": [
    {
     "data": {
      "image/png": "[encoded data removed]",
      "text/plain": [
       "<Figure size 360x240 with 1 Axes>"
      ]
     },
     "metadata": {
      "needs_background": "light"
     },
     "output_type": "display_data"
    }
   ],
   "source": [
    "fpr, tpr, thresholds = roc_curve(y_test, y_pred_proba)\n",
    "roc_auc = auc(fpr, tpr)\n",
    "display = RocCurveDisplay(fpr=fpr, tpr=tpr, roc_auc=roc_auc)\n",
    "display.plot()\n",
    "plt.show()"
   ]
  },
  {
   "cell_type": "markdown",
   "id": "99695d16-85c8-4e10-bf8b-b822bd53ef12",
   "metadata": {},
   "source": [
    "# Predicciones finales"
   ]
  },
  {
   "cell_type": "code",
   "execution_count": 4,
   "id": "2e0ae43d-3ab5-4e15-b857-f63653cb1ec7",
   "metadata": {},
   "outputs": [
    {
     "data": {
      "text/html": [
       "<div>\n",
       "<style scoped>\n",
       "    .dataframe tbody tr th:only-of-type {\n",
       "        vertical-align: middle;\n",
       "    }\n",
       "\n",
       "    .dataframe tbody tr th {\n",
       "        vertical-align: top;\n",
       "    }\n",
       "\n",
       "    .dataframe thead th {\n",
       "        text-align: right;\n",
       "    }\n",
       "</style>\n",
       "<table border=\"1\" class=\"dataframe\">\n",
       "  <thead>\n",
       "    <tr style=\"text-align: right;\">\n",
       "      <th></th>\n",
       "      <th>id</th>\n",
       "      <th>llovieron_hamburguesas_al_dia_siguiente</th>\n",
       "    </tr>\n",
       "  </thead>\n",
       "  <tbody>\n",
       "    <tr>\n",
       "      <th>0</th>\n",
       "      <td>116706</td>\n",
       "      <td>no</td>\n",
       "    </tr>\n",
       "    <tr>\n",
       "      <th>1</th>\n",
       "      <td>58831</td>\n",
       "      <td>no</td>\n",
       "    </tr>\n",
       "    <tr>\n",
       "      <th>2</th>\n",
       "      <td>31981</td>\n",
       "      <td>no</td>\n",
       "    </tr>\n",
       "    <tr>\n",
       "      <th>3</th>\n",
       "      <td>2533</td>\n",
       "      <td>no</td>\n",
       "    </tr>\n",
       "    <tr>\n",
       "      <th>4</th>\n",
       "      <td>7270</td>\n",
       "      <td>si</td>\n",
       "    </tr>\n",
       "    <tr>\n",
       "      <th>...</th>\n",
       "      <td>...</td>\n",
       "      <td>...</td>\n",
       "    </tr>\n",
       "    <tr>\n",
       "      <th>29087</th>\n",
       "      <td>73456</td>\n",
       "      <td>no</td>\n",
       "    </tr>\n",
       "    <tr>\n",
       "      <th>29088</th>\n",
       "      <td>14471</td>\n",
       "      <td>no</td>\n",
       "    </tr>\n",
       "    <tr>\n",
       "      <th>29089</th>\n",
       "      <td>106482</td>\n",
       "      <td>no</td>\n",
       "    </tr>\n",
       "    <tr>\n",
       "      <th>29090</th>\n",
       "      <td>21057</td>\n",
       "      <td>no</td>\n",
       "    </tr>\n",
       "    <tr>\n",
       "      <th>29091</th>\n",
       "      <td>102055</td>\n",
       "      <td>no</td>\n",
       "    </tr>\n",
       "  </tbody>\n",
       "</table>\n",
       "<p>29092 rows × 2 columns</p>\n",
       "</div>"
      ],
      "text/plain": [
       "           id llovieron_hamburguesas_al_dia_siguiente\n",
       "0      116706                                      no\n",
       "1       58831                                      no\n",
       "2       31981                                      no\n",
       "3        2533                                      no\n",
       "4        7270                                      si\n",
       "...       ...                                     ...\n",
       "29087   73456                                      no\n",
       "29088   14471                                      no\n",
       "29089  106482                                      no\n",
       "29090   21057                                      no\n",
       "29091  102055                                      no\n",
       "\n",
       "[29092 rows x 2 columns]"
      ]
     },
     "execution_count": 4,
     "metadata": {},
     "output_type": "execute_result"
    }
   ],
   "source": [
    "X_train, X_test, y_train, y_test = preprocessing_knn_standard(df)\n",
    "\n",
    "knn = KNeighborsClassifier(algorithm='kd_tree', n_neighbors=100, weights='distance')\n",
    "knn.fit(X_train, y_train)\n",
    "\n",
    "with requests.get(\n",
    "    \"https://docs.google.com/spreadsheets/d/1mR_JNN0-ceiB5qV42Ff9hznz0HtWaoPF3B9zNGoNPY8/export?format=csv\") as r, open(\"pred.csv\", \"wb\") as f:\n",
    "    for chunk in r.iter_content():\n",
    "        f.write(chunk)\n",
    "\n",
    "df_pred = pd.read_csv(\"pred.csv\")\n",
    "\n",
    "df_pred_preprocess = preprocessing_knn_pred(df_pred)\n",
    "y_pred_final = knn.predict(df_pred_preprocess)\n",
    "df_pred_final = pd.DataFrame({'id': df_pred['id'], 'llovieron_hamburguesas_al_dia_siguiente': y_pred_final})\n",
    "df_pred_final.loc[df_pred_final['llovieron_hamburguesas_al_dia_siguiente'] == 1, 'llovieron_hamburguesas_al_dia_siguiente'] = 'si'\n",
    "df_pred_final.loc[df_pred_final['llovieron_hamburguesas_al_dia_siguiente'] == 0, 'llovieron_hamburguesas_al_dia_siguiente'] = 'no'\n",
    "\n",
    "df_pred_final"
   ]
  },
  {
   "cell_type": "code",
   "execution_count": 5,
   "id": "c80e96c4-fa72-4d55-adc2-b4cc515a53d7",
   "metadata": {},
   "outputs": [],
   "source": [
    "df_pred_final.to_csv('predicciones/knn.csv', index=False)"
   ]
  },
  {
   "cell_type": "code",
   "execution_count": null,
   "id": "1c603880-5e9c-47a5-8dae-d94c7e4aa49a",
   "metadata": {},
   "outputs": [],
   "source": []
  }
 ],
 "metadata": {
  "colab": {
   "collapsed_sections": [],
   "name": "knn.ipynb",
   "provenance": []
  },
  "kernelspec": {
   "display_name": "Python 3 (ipykernel)",
   "language": "python",
   "name": "python3"
  },
  "language_info": {
   "codemirror_mode": {
    "name": "ipython",
    "version": 3
   },
   "file_extension": ".py",
   "mimetype": "text/x-python",
   "name": "python",
   "nbconvert_exporter": "python",
   "pygments_lexer": "ipython3",
   "version": "3.9.9"
  }
 },
 "nbformat": 4,
 "nbformat_minor": 5
}
