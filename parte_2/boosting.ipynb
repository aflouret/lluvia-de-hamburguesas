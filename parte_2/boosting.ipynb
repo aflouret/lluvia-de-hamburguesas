{
 "cells": [
  {
   "cell_type": "code",
   "execution_count": 1,
   "id": "252d48ed-cb37-4226-a164-75d60e24e45d",
   "metadata": {},
   "outputs": [],
   "source": [
    "import numpy as np\n",
    "import pandas as pd\n",
    "import matplotlib \n",
    "from matplotlib import pyplot as plt\n",
    "import seaborn as sns\n",
    "from sklearn.metrics import accuracy_score, roc_auc_score, precision_score, recall_score, f1_score, roc_curve, auc, plot_confusion_matrix, RocCurveDisplay\n",
    "from sklearn.model_selection import GridSearchCV, RandomizedSearchCV\n",
    "\n",
    "from sklearn.ensemble import GradientBoostingClassifier\n",
    "\n",
    "from preprocessing import *\n",
    "\n",
    "plt.rcParams[\"figure.dpi\"] = 60"
   ]
  },
  {
   "cell_type": "markdown",
   "id": "60edb987-7456-45ae-8c2f-b024af64b122",
   "metadata": {},
   "source": [
    "# Carga del dataset"
   ]
  },
  {
   "cell_type": "code",
   "execution_count": 2,
   "id": "918671b8-fc01-469a-8ba3-79dd8912270c",
   "metadata": {},
   "outputs": [],
   "source": [
    "from collections import Counter\n",
    "import requests\n",
    "\n",
    "with requests.get(\n",
    "    \"https://docs.google.com/spreadsheets/d/1wduqo5WyYmCpaGnE81sLNGU0VSodIekMfpmEwU0fGqs/export?format=csv\") as r, open(\"features.csv\", \"wb\") as f:\n",
    "    for chunk in r.iter_content():\n",
    "        f.write(chunk)\n",
    "\n",
    "with requests.get(\n",
    "    \"https://docs.google.com/spreadsheets/d/1gvZ03uAL6THwd04Y98GtIj6SeAHiKyQY5UisuuyFSUs/export?format=csv\") as r, open(\"target.csv\", \"wb\") as f:\n",
    "    for chunk in r.iter_content():\n",
    "        f.write(chunk)"
   ]
  },
  {
   "cell_type": "code",
   "execution_count": 3,
   "id": "6594b067-2d34-4ce7-a63e-c32c065d5b5c",
   "metadata": {},
   "outputs": [
    {
     "name": "stderr",
     "output_type": "stream",
     "text": [
      "/usr/local/lib/python3.9/site-packages/IPython/core/interactiveshell.py:3444: DtypeWarning: Columns (13) have mixed types.Specify dtype option on import or set low_memory=False.\n",
      "  exec(code_obj, self.user_global_ns, self.user_ns)\n"
     ]
    }
   ],
   "source": [
    "df_features = pd.read_csv(\"features.csv\")\n",
    "df_target = pd.read_csv(\"target.csv\")\n",
    "df = df_features.merge(df_target, left_on='id', right_on='id')"
   ]
  },
  {
   "cell_type": "markdown",
   "id": "a6033bd3-5e1b-41be-8c98-ab97f5f6d172",
   "metadata": {},
   "source": [
    "# Seleccion de modelos\n",
    "\n",
    "Buscamos la mejor combinación de los hiperparámetros n_estimators, learning_rate y max_depth, con 2 datasets distintos, utilizando Randomized Search."
   ]
  },
  {
   "cell_type": "code",
   "execution_count": 7,
   "id": "2e9b1fc0-0164-4e26-8be0-37e01dc6e3e1",
   "metadata": {},
   "outputs": [
    {
     "name": "stdout",
     "output_type": "stream",
     "text": [
      "Best score: 0.8632410205563632\n",
      "Best params {'n_estimators': 132, 'max_depth': 1}\n"
     ]
    }
   ],
   "source": [
    "X_train, X_test, y_train, y_test = preprocessing_arboles_1(df)\n",
    "params = {\n",
    "    'n_estimators': np.arange(50, 150),\n",
    "    'learning_rate': np.arange(0.1, 0.5, 0.1),\n",
    "    'max_depth': np.arange(1, 3),\n",
    "}\n",
    "\n",
    "clf = GradientBoostingClassifier(random_state=0)\n",
    "\n",
    "rgscv = RandomizedSearchCV(\n",
    "    clf, params, n_iter = 10, scoring='roc_auc', n_jobs=-1, cv=3, return_train_score=True\n",
    ").fit(X_train, y_train)\n",
    "\n",
    "print(f\"Best score: {rgscv.best_score_}\")\n",
    "print(f\"Best params {rgscv.best_params_}\")"
   ]
  },
  {
   "cell_type": "code",
   "execution_count": 8,
   "id": "1ff2aea9-3ac4-418b-a604-47097d53807f",
   "metadata": {},
   "outputs": [
    {
     "name": "stdout",
     "output_type": "stream",
     "text": [
      "Best score: 0.8734390127617727\n",
      "Best params {'n_estimators': 126, 'max_depth': 3}\n"
     ]
    }
   ],
   "source": [
    "X_train, X_test, y_train, y_test = preprocessing_arboles_2(df)\n",
    "params = {\n",
    "    'n_estimators': np.arange(50, 150),\n",
    "    'learning_rate': np.arange(0.1, 0.5, 0.1),\n",
    "    'max_depth': np.arange(1, 3),\n",
    "}\n",
    "\n",
    "clf = GradientBoostingClassifier(random_state=0)\n",
    "\n",
    "\n",
    "rgscv = RandomizedSearchCV(\n",
    "    clf, params,  n_iter = 10, scoring='roc_auc', n_jobs=-1, cv=3, return_train_score=True\n",
    ").fit(X_train, y_train)\n",
    "\n",
    "print(f\"Best score: {rgscv.best_score_}\")\n",
    "print(f\"Best params {rgscv.best_params_}\")"
   ]
  },
  {
   "cell_type": "markdown",
   "id": "4be20443-9d4c-436b-8f72-8760d95d2510",
   "metadata": {},
   "source": [
    "# Evaluación del modelo final\n",
    "\n",
    "El mejor modelo encontrado corresponde al preprocesamiento \n",
    "Entrenamos el modelo y evaluamos utilizando el set de holdout."
   ]
  },
  {
   "cell_type": "code",
   "execution_count": 9,
   "id": "e19b01d2-8414-46db-8e6c-49bf0806d994",
   "metadata": {},
   "outputs": [
    {
     "name": "stdout",
     "output_type": "stream",
     "text": [
      "Accuracy: 0.8479942435689872\n",
      "Precision: 0.7248084855627578\n",
      "Recall: 0.5014268242967794\n",
      "Auc Roc: 0.8741212815942606\n"
     ]
    }
   ],
   "source": [
    "X_train, X_test, y_train, y_test = preprocessing_arboles_2(df)\n",
    "\n",
    "clf = GradientBoostingClassifier()\n",
    "clf.fit(X_train, y_train)\n",
    "\n",
    "y_pred = clf.predict(X_test)\n",
    "y_pred_proba = clf.predict_proba(X_test)[:,1]"
   ]
  },
  {
   "cell_type": "code",
   "execution_count": null,
   "id": "2090f08d-f6e4-4edb-a663-a5b8452d8898",
   "metadata": {},
   "outputs": [],
   "source": [
    "print(f\"Auc Roc: {roc_auc_score(y_test, y_pred_proba)}\")\n",
    "print(f\"Accuracy: {accuracy_score(y_test, y_pred)}\")\n",
    "print(f\"Precision: {precision_score(y_test, y_pred)}\")\n",
    "print(f\"Recall: {recall_score(y_test, y_pred)}\")\n",
    "print(f\"F1 Score: {f1_score(y_test, y_pred)}\")"
   ]
  },
  {
   "cell_type": "markdown",
   "id": "579a5c8f-07c0-4149-9e3a-2d23090b3547",
   "metadata": {},
   "source": [
    "## Matriz de confusion"
   ]
  },
  {
   "cell_type": "code",
   "execution_count": 11,
   "id": "c45f7be2-1ddd-4670-b86f-dede5d2ad9ac",
   "metadata": {},
   "outputs": [
    {
     "ename": "NameError",
     "evalue": "name 'plot_confusion_matrix' is not defined",
     "output_type": "error",
     "traceback": [
      "\u001b[0;31m---------------------------------------------------------------------------\u001b[0m",
      "\u001b[0;31mNameError\u001b[0m                                 Traceback (most recent call last)",
      "\u001b[0;32m/var/folders/6c/nfvy02l96fnfjc47g2wy41s80000gn/T/ipykernel_80201/2851294769.py\u001b[0m in \u001b[0;36m<module>\u001b[0;34m\u001b[0m\n\u001b[1;32m      1\u001b[0m \u001b[0mfig\u001b[0m\u001b[0;34m,\u001b[0m \u001b[0max\u001b[0m \u001b[0;34m=\u001b[0m \u001b[0mplt\u001b[0m\u001b[0;34m.\u001b[0m\u001b[0msubplots\u001b[0m\u001b[0;34m(\u001b[0m\u001b[0mfigsize\u001b[0m\u001b[0;34m=\u001b[0m\u001b[0;34m(\u001b[0m\u001b[0;36m15\u001b[0m\u001b[0;34m,\u001b[0m \u001b[0;36m7\u001b[0m\u001b[0;34m)\u001b[0m\u001b[0;34m)\u001b[0m\u001b[0;34m\u001b[0m\u001b[0;34m\u001b[0m\u001b[0m\n\u001b[1;32m      2\u001b[0m \u001b[0mplt\u001b[0m\u001b[0;34m.\u001b[0m\u001b[0mgrid\u001b[0m\u001b[0;34m(\u001b[0m\u001b[0;32mFalse\u001b[0m\u001b[0;34m)\u001b[0m\u001b[0;34m\u001b[0m\u001b[0;34m\u001b[0m\u001b[0m\n\u001b[0;32m----> 3\u001b[0;31m plot_confusion_matrix(\n\u001b[0m\u001b[1;32m      4\u001b[0m     \u001b[0mclf\u001b[0m\u001b[0;34m,\u001b[0m \u001b[0mX_test\u001b[0m\u001b[0;34m,\u001b[0m \u001b[0my_test\u001b[0m\u001b[0;34m,\u001b[0m \u001b[0mcmap\u001b[0m\u001b[0;34m=\u001b[0m\u001b[0mplt\u001b[0m\u001b[0;34m.\u001b[0m\u001b[0mcm\u001b[0m\u001b[0;34m.\u001b[0m\u001b[0mBlues\u001b[0m\u001b[0;34m,\u001b[0m \u001b[0mdisplay_labels\u001b[0m\u001b[0;34m=\u001b[0m\u001b[0;34m[\u001b[0m\u001b[0;34m'1'\u001b[0m\u001b[0;34m,\u001b[0m \u001b[0;34m'0'\u001b[0m\u001b[0;34m]\u001b[0m\u001b[0;34m,\u001b[0m \u001b[0max\u001b[0m\u001b[0;34m=\u001b[0m\u001b[0max\u001b[0m\u001b[0;34m\u001b[0m\u001b[0;34m\u001b[0m\u001b[0m\n\u001b[1;32m      5\u001b[0m )\n",
      "\u001b[0;31mNameError\u001b[0m: name 'plot_confusion_matrix' is not defined"
     ]
    },
    {
     "data": {
      "image/png": "[encoded data removed]",
      "text/plain": [
       "<Figure size 2250x1050 with 1 Axes>"
      ]
     },
     "metadata": {
      "needs_background": "light"
     },
     "output_type": "display_data"
    }
   ],
   "source": [
    "fig, ax = plt.subplots(figsize=(15, 7))\n",
    "plt.grid(False)\n",
    "plot_confusion_matrix(\n",
    "    clf, X_test, y_test, cmap=plt.cm.Blues, display_labels=['1', '0'], ax=ax\n",
    ")\n",
    "plt.show()"
   ]
  },
  {
   "cell_type": "markdown",
   "id": "5be2677f-9b6b-4aa2-b867-c307605d28db",
   "metadata": {},
   "source": [
    "## Curva ROC"
   ]
  },
  {
   "cell_type": "code",
   "execution_count": null,
   "id": "4a7b8786-9fe2-4856-8cad-4a55e3db985c",
   "metadata": {},
   "outputs": [],
   "source": [
    "fpr, tpr, thresholds = roc_curve(y_test, y_pred_proba)\n",
    "roc_auc = auc(fpr, tpr)\n",
    "display = RocCurveDisplay(fpr=fpr, tpr=tpr, roc_auc=roc_auc)\n",
    "display.plot()\n",
    "plt.show()"
   ]
  },
  {
   "cell_type": "markdown",
   "id": "ff1720f7-d302-472b-99c5-09d5217732ac",
   "metadata": {},
   "source": [
    "# Predicciones finales"
   ]
  },
  {
   "cell_type": "code",
   "execution_count": null,
   "id": "cfaa0efb-f0d5-4cf4-81a6-c0ed8503c8da",
   "metadata": {},
   "outputs": [],
   "source": [
    "X_train, X_test, y_train, y_test = preprocessing_arboles_2(df)\n",
    "\n",
    "clf = GradientBoostingClassifier()\n",
    "clf.fit(X_train, y_train)\n",
    "\n",
    "with requests.get(\n",
    "    \"https://docs.google.com/spreadsheets/d/1mR_JNN0-ceiB5qV42Ff9hznz0HtWaoPF3B9zNGoNPY8/export?format=csv\") as r, open(\"pred.csv\", \"wb\") as f:\n",
    "    for chunk in r.iter_content():\n",
    "        f.write(chunk)\n",
    "\n",
    "df_pred = pd.read_csv(\"pred.csv\")\n",
    "\n",
    "df_pred_preprocess = preprocessing_boosting_pred(df_pred)\n",
    "y_pred_final = clf.predict(df_pred_preprocess)\n",
    "df_pred_final = pd.DataFrame({'id': df_pred['id'], 'llovieron_hamburguesas_al_dia_siguiente': y_pred_final})\n",
    "df_pred_final.loc[df_pred_final['llovieron_hamburguesas_al_dia_siguiente'] == 1, 'llovieron_hamburguesas_al_dia_siguiente'] = 'si'\n",
    "df_pred_final.loc[df_pred_final['llovieron_hamburguesas_al_dia_siguiente'] == 0, 'llovieron_hamburguesas_al_dia_siguiente'] = 'no'\n",
    "\n",
    "df_pred_final"
   ]
  },
  {
   "cell_type": "code",
   "execution_count": null,
   "id": "f8751383-777a-4a0e-8190-f8e10a8171f4",
   "metadata": {},
   "outputs": [],
   "source": [
    "df_pred_final.to_csv('predicciones/boosting.csv', index=False)"
   ]
  }
 ],
 "metadata": {
  "kernelspec": {
   "display_name": "Python 3 (ipykernel)",
   "language": "python",
   "name": "python3"
  },
  "language_info": {
   "codemirror_mode": {
    "name": "ipython",
    "version": 3
   },
   "file_extension": ".py",
   "mimetype": "text/x-python",
   "name": "python",
   "nbconvert_exporter": "python",
   "pygments_lexer": "ipython3",
   "version": "3.9.9"
  }
 },
 "nbformat": 4,
 "nbformat_minor": 5
}
