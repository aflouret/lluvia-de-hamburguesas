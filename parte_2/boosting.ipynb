{
 "cells": [
  {
   "cell_type": "code",
   "execution_count": 1,
   "id": "252d48ed-cb37-4226-a164-75d60e24e45d",
   "metadata": {
    "id": "252d48ed-cb37-4226-a164-75d60e24e45d"
   },
   "outputs": [],
   "source": [
    "import numpy as np\n",
    "import pandas as pd\n",
    "import matplotlib \n",
    "from matplotlib import pyplot as plt\n",
    "import seaborn as sns\n",
    "from sklearn.metrics import accuracy_score, roc_auc_score, precision_score, recall_score, f1_score, roc_curve, auc, plot_confusion_matrix, RocCurveDisplay\n",
    "from sklearn.model_selection import GridSearchCV, RandomizedSearchCV\n",
    "\n",
    "from sklearn.ensemble import GradientBoostingClassifier\n",
    "\n",
    "from preprocessing import *\n",
    "\n",
    "plt.rcParams[\"figure.dpi\"] = 60"
   ]
  },
  {
   "cell_type": "markdown",
   "id": "60edb987-7456-45ae-8c2f-b024af64b122",
   "metadata": {
    "id": "60edb987-7456-45ae-8c2f-b024af64b122"
   },
   "source": [
    "# Carga del dataset"
   ]
  },
  {
   "cell_type": "code",
   "execution_count": 2,
   "id": "918671b8-fc01-469a-8ba3-79dd8912270c",
   "metadata": {
    "id": "918671b8-fc01-469a-8ba3-79dd8912270c"
   },
   "outputs": [],
   "source": [
    "from collections import Counter\n",
    "import requests\n",
    "\n",
    "with requests.get(\n",
    "    \"https://docs.google.com/spreadsheets/d/1wduqo5WyYmCpaGnE81sLNGU0VSodIekMfpmEwU0fGqs/export?format=csv\") as r, open(\"features.csv\", \"wb\") as f:\n",
    "    for chunk in r.iter_content():\n",
    "        f.write(chunk)\n",
    "\n",
    "with requests.get(\n",
    "    \"https://docs.google.com/spreadsheets/d/1gvZ03uAL6THwd04Y98GtIj6SeAHiKyQY5UisuuyFSUs/export?format=csv\") as r, open(\"target.csv\", \"wb\") as f:\n",
    "    for chunk in r.iter_content():\n",
    "        f.write(chunk)"
   ]
  },
  {
   "cell_type": "code",
   "execution_count": 4,
   "id": "6594b067-2d34-4ce7-a63e-c32c065d5b5c",
   "metadata": {
    "colab": {
     "base_uri": "https://localhost:8080/"
    },
    "id": "6594b067-2d34-4ce7-a63e-c32c065d5b5c",
    "outputId": "76d2dbc8-de06-4685-b15d-9dc2439144ee"
   },
   "outputs": [
    {
     "name": "stderr",
     "output_type": "stream",
     "text": [
      "/usr/local/lib/python3.9/site-packages/IPython/core/interactiveshell.py:3444: DtypeWarning: Columns (13) have mixed types.Specify dtype option on import or set low_memory=False.\n",
      "  exec(code_obj, self.user_global_ns, self.user_ns)\n"
     ]
    }
   ],
   "source": [
    "df_features = pd.read_csv(\"features.csv\")\n",
    "df_target = pd.read_csv(\"target.csv\")\n",
    "df = df_features.merge(df_target, left_on='id', right_on='id')"
   ]
  },
  {
   "cell_type": "markdown",
   "id": "a6033bd3-5e1b-41be-8c98-ab97f5f6d172",
   "metadata": {
    "id": "a6033bd3-5e1b-41be-8c98-ab97f5f6d172"
   },
   "source": [
    "# Seleccion de modelos\n",
    "\n",
    "Buscamos la mejor combinación de los hiperparámetros n_estimators, learning_rate y max_depth, con 2 datasets distintos, utilizando Randomized Search."
   ]
  },
  {
   "cell_type": "code",
   "execution_count": 4,
   "id": "2e9b1fc0-0164-4e26-8be0-37e01dc6e3e1",
   "metadata": {
    "colab": {
     "base_uri": "https://localhost:8080/"
    },
    "id": "2e9b1fc0-0164-4e26-8be0-37e01dc6e3e1",
    "outputId": "f63d8e88-7dd0-432b-dffd-1c543b50cf86"
   },
   "outputs": [
    {
     "name": "stdout",
     "output_type": "stream",
     "text": [
      "Best score: 0.8812081970796056\n",
      "Best params {'n_estimators': 120, 'max_depth': 2, 'learning_rate': 0.4}\n"
     ]
    }
   ],
   "source": [
    "X_train, X_test, y_train, y_test = preprocessing_arboles_1(df)\n",
    "params = {\n",
    "    'n_estimators': np.arange(50, 150),\n",
    "    'learning_rate': np.arange(0.1, 0.5, 0.1),\n",
    "    'max_depth': np.arange(1, 3),\n",
    "}\n",
    "\n",
    "clf = GradientBoostingClassifier(random_state=0)\n",
    "\n",
    "rgscv = RandomizedSearchCV(\n",
    "    clf, params, n_iter = 10, scoring='roc_auc', n_jobs=-1, cv=3, return_train_score=True\n",
    ").fit(X_train, y_train)\n",
    "\n",
    "print(f\"Best score: {rgscv.best_score_}\")\n",
    "print(f\"Best params {rgscv.best_params_}\")"
   ]
  },
  {
   "cell_type": "code",
   "execution_count": 5,
   "id": "1ff2aea9-3ac4-418b-a604-47097d53807f",
   "metadata": {
    "colab": {
     "base_uri": "https://localhost:8080/"
    },
    "id": "1ff2aea9-3ac4-418b-a604-47097d53807f",
    "outputId": "b6ea3bd1-caf9-4d38-d03d-913510ff6967"
   },
   "outputs": [
    {
     "name": "stdout",
     "output_type": "stream",
     "text": [
      "Best score: 0.8755485921962533\n",
      "Best params {'n_estimators': 148, 'max_depth': 2, 'learning_rate': 0.4}\n"
     ]
    }
   ],
   "source": [
    "X_train, X_test, y_train, y_test = preprocessing_arboles_2(df)\n",
    "params = {\n",
    "    'n_estimators': np.arange(50, 150),\n",
    "    'learning_rate': np.arange(0.1, 0.5, 0.1),\n",
    "    'max_depth': np.arange(1, 3),\n",
    "}\n",
    "\n",
    "clf = GradientBoostingClassifier(random_state=0)\n",
    "\n",
    "\n",
    "rgscv = RandomizedSearchCV(\n",
    "    clf, params,  n_iter = 10, scoring='roc_auc', n_jobs=-1, cv=3, return_train_score=True\n",
    ").fit(X_train, y_train)\n",
    "\n",
    "print(f\"Best score: {rgscv.best_score_}\")\n",
    "print(f\"Best params {rgscv.best_params_}\")"
   ]
  },
  {
   "cell_type": "markdown",
   "id": "4be20443-9d4c-436b-8f72-8760d95d2510",
   "metadata": {
    "id": "4be20443-9d4c-436b-8f72-8760d95d2510"
   },
   "source": [
    "# Evaluación del modelo final\n",
    "\n",
    "El mejor modelo encontrado corresponde al preprocesamiento preprocessing_arboles_1, con los hiperparametros 'n_estimators': 120, 'max_depth': 2, 'learning_rate': 0.4.\n",
    "Entrenamos el modelo y evaluamos utilizando el set de holdout."
   ]
  },
  {
   "cell_type": "code",
   "execution_count": 14,
   "id": "e19b01d2-8414-46db-8e6c-49bf0806d994",
   "metadata": {
    "id": "e19b01d2-8414-46db-8e6c-49bf0806d994"
   },
   "outputs": [],
   "source": [
    "X_train, X_test, y_train, y_test = preprocessing_arboles_1(df)\n",
    "\n",
    "clf = GradientBoostingClassifier(n_estimators=120, max_depth=2, learning_rate=0.4)\n",
    "clf.fit(X_train, y_train)\n",
    "\n",
    "y_pred = clf.predict(X_test)\n",
    "y_pred_proba = clf.predict_proba(X_test)[:,1]"
   ]
  },
  {
   "cell_type": "code",
   "execution_count": 17,
   "id": "2090f08d-f6e4-4edb-a663-a5b8452d8898",
   "metadata": {
    "colab": {
     "base_uri": "https://localhost:8080/"
    },
    "id": "2090f08d-f6e4-4edb-a663-a5b8452d8898",
    "outputId": "08d0f52b-009c-423c-e8ab-efc2cde2fad4"
   },
   "outputs": [
    {
     "name": "stdout",
     "output_type": "stream",
     "text": [
      "Auc Roc: 0.8822671298307783\n",
      "Accuracy: 0.8526713437668646\n",
      "Precision: 0.7354130560369728\n",
      "Recall: 0.518956379942927\n",
      "F1 Score: 0.6085086042065009\n"
     ]
    }
   ],
   "source": [
    "print(f\"Auc Roc: {roc_auc_score(y_test, y_pred_proba)}\")\n",
    "print(f\"Accuracy: {accuracy_score(y_test, y_pred)}\")\n",
    "print(f\"Precision: {precision_score(y_test, y_pred)}\")\n",
    "print(f\"Recall: {recall_score(y_test, y_pred)}\")\n",
    "print(f\"F1 Score: {f1_score(y_test, y_pred)}\")"
   ]
  },
  {
   "cell_type": "markdown",
   "id": "579a5c8f-07c0-4149-9e3a-2d23090b3547",
   "metadata": {
    "id": "579a5c8f-07c0-4149-9e3a-2d23090b3547"
   },
   "source": [
    "## Matriz de confusion"
   ]
  },
  {
   "cell_type": "code",
   "execution_count": 18,
   "id": "c45f7be2-1ddd-4670-b86f-dede5d2ad9ac",
   "metadata": {
    "colab": {
     "base_uri": "https://localhost:8080/",
     "height": 497
    },
    "id": "c45f7be2-1ddd-4670-b86f-dede5d2ad9ac",
    "outputId": "9733c6e9-4706-4c72-eafe-9131c6bcc3fa"
   },
   "outputs": [
    {
     "name": "stderr",
     "output_type": "stream",
     "text": [
      "/usr/local/lib/python3.9/site-packages/sklearn/utils/deprecation.py:87: FutureWarning: Function plot_confusion_matrix is deprecated; Function `plot_confusion_matrix` is deprecated in 1.0 and will be removed in 1.2. Use one of the class methods: ConfusionMatrixDisplay.from_predictions or ConfusionMatrixDisplay.from_estimator.\n",
      "  warnings.warn(msg, category=FutureWarning)\n"
     ]
    },
    {
     "data": {
      "image/png": "[encoded data removed]",
      "text/plain": [
       "<Figure size 900x420 with 2 Axes>"
      ]
     },
     "metadata": {
      "needs_background": "light"
     },
     "output_type": "display_data"
    }
   ],
   "source": [
    "fig, ax = plt.subplots(figsize=(15, 7))\n",
    "plt.grid(False)\n",
    "plot_confusion_matrix(\n",
    "    clf, X_test, y_test, cmap=plt.cm.Blues, display_labels=['1', '0'], ax=ax\n",
    ")\n",
    "plt.show()"
   ]
  },
  {
   "cell_type": "markdown",
   "id": "5be2677f-9b6b-4aa2-b867-c307605d28db",
   "metadata": {
    "id": "5be2677f-9b6b-4aa2-b867-c307605d28db"
   },
   "source": [
    "## Curva ROC"
   ]
  },
  {
   "cell_type": "code",
   "execution_count": 19,
   "id": "4a7b8786-9fe2-4856-8cad-4a55e3db985c",
   "metadata": {
    "colab": {
     "base_uri": "https://localhost:8080/",
     "height": 279
    },
    "id": "4a7b8786-9fe2-4856-8cad-4a55e3db985c",
    "outputId": "7553027d-11e7-4edd-82d9-80db85d4f589"
   },
   "outputs": [
    {
     "data": {
      "image/png": "[encoded data removed]",
      "text/plain": [
       "<Figure size 360x240 with 1 Axes>"
      ]
     },
     "metadata": {
      "needs_background": "light"
     },
     "output_type": "display_data"
    }
   ],
   "source": [
    "fpr, tpr, thresholds = roc_curve(y_test, y_pred_proba)\n",
    "roc_auc = auc(fpr, tpr)\n",
    "display = RocCurveDisplay(fpr=fpr, tpr=tpr, roc_auc=roc_auc)\n",
    "display.plot()\n",
    "plt.show()"
   ]
  },
  {
   "cell_type": "markdown",
   "id": "ff1720f7-d302-472b-99c5-09d5217732ac",
   "metadata": {
    "id": "ff1720f7-d302-472b-99c5-09d5217732ac"
   },
   "source": [
    "# Predicciones finales"
   ]
  },
  {
   "cell_type": "code",
   "execution_count": 5,
   "id": "cfaa0efb-f0d5-4cf4-81a6-c0ed8503c8da",
   "metadata": {
    "colab": {
     "base_uri": "https://localhost:8080/",
     "height": 235
    },
    "id": "cfaa0efb-f0d5-4cf4-81a6-c0ed8503c8da",
    "outputId": "aba7f0d5-71ec-4228-c922-d8313033974d"
   },
   "outputs": [
    {
     "data": {
      "text/html": [
       "<div>\n",
       "<style scoped>\n",
       "    .dataframe tbody tr th:only-of-type {\n",
       "        vertical-align: middle;\n",
       "    }\n",
       "\n",
       "    .dataframe tbody tr th {\n",
       "        vertical-align: top;\n",
       "    }\n",
       "\n",
       "    .dataframe thead th {\n",
       "        text-align: right;\n",
       "    }\n",
       "</style>\n",
       "<table border=\"1\" class=\"dataframe\">\n",
       "  <thead>\n",
       "    <tr style=\"text-align: right;\">\n",
       "      <th></th>\n",
       "      <th>id</th>\n",
       "      <th>llovieron_hamburguesas_al_dia_siguiente</th>\n",
       "    </tr>\n",
       "  </thead>\n",
       "  <tbody>\n",
       "    <tr>\n",
       "      <th>0</th>\n",
       "      <td>116706</td>\n",
       "      <td>no</td>\n",
       "    </tr>\n",
       "    <tr>\n",
       "      <th>1</th>\n",
       "      <td>58831</td>\n",
       "      <td>no</td>\n",
       "    </tr>\n",
       "    <tr>\n",
       "      <th>2</th>\n",
       "      <td>31981</td>\n",
       "      <td>no</td>\n",
       "    </tr>\n",
       "    <tr>\n",
       "      <th>3</th>\n",
       "      <td>2533</td>\n",
       "      <td>no</td>\n",
       "    </tr>\n",
       "    <tr>\n",
       "      <th>4</th>\n",
       "      <td>7270</td>\n",
       "      <td>no</td>\n",
       "    </tr>\n",
       "    <tr>\n",
       "      <th>...</th>\n",
       "      <td>...</td>\n",
       "      <td>...</td>\n",
       "    </tr>\n",
       "    <tr>\n",
       "      <th>29087</th>\n",
       "      <td>73456</td>\n",
       "      <td>no</td>\n",
       "    </tr>\n",
       "    <tr>\n",
       "      <th>29088</th>\n",
       "      <td>14471</td>\n",
       "      <td>no</td>\n",
       "    </tr>\n",
       "    <tr>\n",
       "      <th>29089</th>\n",
       "      <td>106482</td>\n",
       "      <td>no</td>\n",
       "    </tr>\n",
       "    <tr>\n",
       "      <th>29090</th>\n",
       "      <td>21057</td>\n",
       "      <td>no</td>\n",
       "    </tr>\n",
       "    <tr>\n",
       "      <th>29091</th>\n",
       "      <td>102055</td>\n",
       "      <td>no</td>\n",
       "    </tr>\n",
       "  </tbody>\n",
       "</table>\n",
       "<p>29092 rows × 2 columns</p>\n",
       "</div>"
      ],
      "text/plain": [
       "           id llovieron_hamburguesas_al_dia_siguiente\n",
       "0      116706                                      no\n",
       "1       58831                                      no\n",
       "2       31981                                      no\n",
       "3        2533                                      no\n",
       "4        7270                                      no\n",
       "...       ...                                     ...\n",
       "29087   73456                                      no\n",
       "29088   14471                                      no\n",
       "29089  106482                                      no\n",
       "29090   21057                                      no\n",
       "29091  102055                                      no\n",
       "\n",
       "[29092 rows x 2 columns]"
      ]
     },
     "execution_count": 5,
     "metadata": {},
     "output_type": "execute_result"
    }
   ],
   "source": [
    "X_train, X_test, y_train, y_test = preprocessing_arboles_1(df)\n",
    "\n",
    "clf = GradientBoostingClassifier(n_estimators=120, max_depth=2, learning_rate=0.4)\n",
    "clf.fit(X_train, y_train)\n",
    "\n",
    "with requests.get(\n",
    "    \"https://docs.google.com/spreadsheets/d/1mR_JNN0-ceiB5qV42Ff9hznz0HtWaoPF3B9zNGoNPY8/export?format=csv\") as r, open(\"pred.csv\", \"wb\") as f:\n",
    "    for chunk in r.iter_content():\n",
    "        f.write(chunk)\n",
    "\n",
    "df_pred = pd.read_csv(\"pred.csv\")\n",
    "\n",
    "df_pred_preprocess = preprocessing_boosting_pred(df_pred)\n",
    "y_pred_final = clf.predict(df_pred_preprocess)\n",
    "df_pred_final = pd.DataFrame({'id': df_pred['id'], 'llovieron_hamburguesas_al_dia_siguiente': y_pred_final})\n",
    "df_pred_final.loc[df_pred_final['llovieron_hamburguesas_al_dia_siguiente'] == 1, 'llovieron_hamburguesas_al_dia_siguiente'] = 'si'\n",
    "df_pred_final.loc[df_pred_final['llovieron_hamburguesas_al_dia_siguiente'] == 0, 'llovieron_hamburguesas_al_dia_siguiente'] = 'no'\n",
    "\n",
    "df_pred_final"
   ]
  },
  {
   "cell_type": "code",
   "execution_count": null,
   "id": "f8751383-777a-4a0e-8190-f8e10a8171f4",
   "metadata": {
    "id": "f8751383-777a-4a0e-8190-f8e10a8171f4"
   },
   "outputs": [],
   "source": [
    "df_pred_final.to_csv('predicciones/boosting.csv', index=False)"
   ]
  },
  {
   "cell_type": "code",
   "execution_count": null,
   "id": "2acb84d6-607b-48a9-9960-bc69d0760968",
   "metadata": {},
   "outputs": [],
   "source": [
    "df_pred_final['llovieron_hamburguesas_al_dia_siguiente'].value_cou"
   ]
  }
 ],
 "metadata": {
  "colab": {
   "collapsed_sections": [],
   "name": "boosting.ipynb",
   "provenance": []
  },
  "kernelspec": {
   "display_name": "Python 3 (ipykernel)",
   "language": "python",
   "name": "python3"
  },
  "language_info": {
   "codemirror_mode": {
    "name": "ipython",
    "version": 3
   },
   "file_extension": ".py",
   "mimetype": "text/x-python",
   "name": "python",
   "nbconvert_exporter": "python",
   "pygments_lexer": "ipython3",
   "version": "3.9.9"
  }
 },
 "nbformat": 4,
 "nbformat_minor": 5
}
