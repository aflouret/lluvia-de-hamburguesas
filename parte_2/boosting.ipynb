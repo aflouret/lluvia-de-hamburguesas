{
 "cells": [
  {
   "cell_type": "markdown",
   "id": "f0b74539-b0d9-4c07-bd24-34b51c8437bc",
   "metadata": {},
   "source": [
    "# Boosting"
   ]
  },
  {
   "cell_type": "code",
   "execution_count": 47,
   "id": "252d48ed-cb37-4226-a164-75d60e24e45d",
   "metadata": {
    "id": "252d48ed-cb37-4226-a164-75d60e24e45d"
   },
   "outputs": [],
   "source": [
    "import numpy as np\n",
    "import pandas as pd\n",
    "import matplotlib \n",
    "from matplotlib import pyplot as plt\n",
    "import seaborn as sns\n",
    "from sklearn.metrics import accuracy_score, roc_auc_score, precision_score, recall_score, f1_score, roc_curve, auc, plot_confusion_matrix, RocCurveDisplay, confusion_matrix\n",
    "from sklearn.model_selection import GridSearchCV, RandomizedSearchCV\n",
    "\n",
    "from sklearn.ensemble import GradientBoostingClassifier\n",
    "\n",
    "from preprocessing import *\n",
    "\n",
    "plt.rcParams[\"figure.dpi\"] = 60"
   ]
  },
  {
   "cell_type": "markdown",
   "id": "60edb987-7456-45ae-8c2f-b024af64b122",
   "metadata": {
    "id": "60edb987-7456-45ae-8c2f-b024af64b122"
   },
   "source": [
    "# Carga del dataset\n",
    "Leemos el dataset y lo separamos en datos de training y de evaluación."
   ]
  },
  {
   "cell_type": "code",
   "execution_count": 43,
   "id": "918671b8-fc01-469a-8ba3-79dd8912270c",
   "metadata": {
    "id": "918671b8-fc01-469a-8ba3-79dd8912270c"
   },
   "outputs": [],
   "source": [
    "df = pd.read_csv(\"df_train.csv\")\n",
    "X = df.drop(columns=['llovieron_hamburguesas_al_dia_siguiente'])\n",
    "y = df['llovieron_hamburguesas_al_dia_siguiente']\n",
    "X_train, X_eval, y_train, y_eval = train_test_split(X, y, random_state=117, test_size=0.1, stratify=y.astype(str))"
   ]
  },
  {
   "cell_type": "markdown",
   "id": "a6033bd3-5e1b-41be-8c98-ab97f5f6d172",
   "metadata": {
    "id": "a6033bd3-5e1b-41be-8c98-ab97f5f6d172"
   },
   "source": [
    "# Selección de modelos\n",
    "\n",
    "Para encontrar el mejor modelo, probaremos utilizando 2 preprocesamientos distintos. Dado que boosting es un ensamble de árboles, los preprocesamientos serán los mismos que usamos para los árboles de decisión (particularmente el 1 y el 2, ya que son los que obtuvieron mejores resultados en el notebook de árboles). Por cada uno de ellos, buscaremos la mejor combinación de hiperparámetros mediante Randomized Search, con el objetivo de maximizar la métrica AUC ROC. Dado que el entrenamiento de un modelo de Boosting toma un tiempo mayor que otros modelos, solamente haremos 10 iteraciones con 3 folds de cross-validation en lugar de 5.\n",
    "\n",
    "Los hiperparámetros que buscaremos son:\n",
    "- **max_depth:** es la máxima profundidad que pueden tener los árboles.\n",
    "- **n_estimators:** es la cantidad de árboles que forman parte del ensamble. Dado que los árboles no son muy complejos (tienen una profundidad menor que 3), buscamos utilizar una cantidad alta de estimadores (entre 50 y 150) para que el modelo clasifique correctamente la mayor cantidad de instancias.\n",
    "- **learning_rate:** es la ponderación de cada estimador, es decir, cuánto influye cada árbol en la predicción global. Al tener una gran cantidad de estimadores, es conveniente usar un learning rate bajo, entre 0.1 y 0.5.\n"
   ]
  },
  {
   "cell_type": "markdown",
   "id": "f3c25007-4a0f-4b3e-94a5-6bd7487897d8",
   "metadata": {},
   "source": [
    "En primer lugar probamos con el dataset completo, codificando las variables categóricas con One Hot Encoding:"
   ]
  },
  {
   "cell_type": "code",
   "execution_count": 29,
   "id": "2e9b1fc0-0164-4e26-8be0-37e01dc6e3e1",
   "metadata": {
    "colab": {
     "base_uri": "https://localhost:8080/"
    },
    "id": "2e9b1fc0-0164-4e26-8be0-37e01dc6e3e1",
    "outputId": "9b4e5a11-bc9c-4d14-cd42-e911c1d33933"
   },
   "outputs": [
    {
     "name": "stdout",
     "output_type": "stream",
     "text": [
      "Best score: 0.8778375726887907\n",
      "Best params {'n_estimators': 87, 'max_depth': 2, 'learning_rate': 0.4}\n"
     ]
    }
   ],
   "source": [
    "X_train1 = preprocessing_arboles_1(X_train)\n",
    "params = {\n",
    "    'n_estimators': np.arange(50, 150),\n",
    "    'learning_rate': np.arange(0.1, 0.5, 0.1),\n",
    "    'max_depth': np.arange(1, 3),\n",
    "}\n",
    "\n",
    "clf = GradientBoostingClassifier(random_state=0)\n",
    "\n",
    "rgscv = RandomizedSearchCV(\n",
    "    clf, params, n_iter = 10, scoring='roc_auc', n_jobs=-1, cv=3, return_train_score=True\n",
    ").fit(X_train1, y_train)\n",
    "\n",
    "print(f\"Best score: {rgscv.best_score_}\")\n",
    "print(f\"Best params {rgscv.best_params_}\")"
   ]
  },
  {
   "cell_type": "markdown",
   "id": "5710a0b1-ee46-41a1-b919-04cbd8f5e6ca",
   "metadata": {},
   "source": [
    "El segundo preprocesamiento elimina los features categóricos:"
   ]
  },
  {
   "cell_type": "code",
   "execution_count": 4,
   "id": "1ff2aea9-3ac4-418b-a604-47097d53807f",
   "metadata": {
    "colab": {
     "base_uri": "https://localhost:8080/"
    },
    "id": "1ff2aea9-3ac4-418b-a604-47097d53807f",
    "outputId": "15fb259b-dcab-4501-fd87-a5e263cccebc"
   },
   "outputs": [
    {
     "name": "stdout",
     "output_type": "stream",
     "text": [
      "Best score: 0.87018785845494\n",
      "Best params {'n_estimators': 87, 'max_depth': 2, 'learning_rate': 0.2}\n"
     ]
    }
   ],
   "source": [
    "X_train2 = preprocessing_arboles_2(X_train)\n",
    "params = {\n",
    "    'n_estimators': np.arange(50, 150),\n",
    "    'learning_rate': np.arange(0.1, 0.5, 0.1),\n",
    "    'max_depth': np.arange(1, 3),\n",
    "}\n",
    "\n",
    "clf = GradientBoostingClassifier(random_state=0)\n",
    "\n",
    "\n",
    "rgscv = RandomizedSearchCV(\n",
    "    clf, params,  n_iter = 10, scoring='roc_auc', n_jobs=-1, cv=3, return_train_score=True\n",
    ").fit(X_train2, y_train)\n",
    "\n",
    "print(f\"Best score: {rgscv.best_score_}\")\n",
    "print(f\"Best params {rgscv.best_params_}\")"
   ]
  },
  {
   "cell_type": "markdown",
   "id": "671c315c-34c0-41fd-ac7a-244546cc0dee",
   "metadata": {},
   "source": [
    "Podemos observar que en ambos casos los valores del número de estimadores y de la profundidad máxima fueron los mismos. Al igual que sucedió en la búsqueda de hiperparámetros de los árboles de decisión, el preprocesamiento que obtuvo un mejor score fue el primero, que corresponde al dataset completo."
   ]
  },
  {
   "cell_type": "markdown",
   "id": "4be20443-9d4c-436b-8f72-8760d95d2510",
   "metadata": {
    "id": "4be20443-9d4c-436b-8f72-8760d95d2510"
   },
   "source": [
    "# Evaluación del modelo final\n",
    "\n",
    "El mejor modelo encontrado corresponde al preprocesamiento preprocessing_arboles_1, con los hiperparametros 'n_estimators': 87, 'max_depth': 2, 'learning_rate': 0.4.\n",
    "Entrenamos el modelo y evaluamos utilizando el set de evaluacion."
   ]
  },
  {
   "cell_type": "code",
   "execution_count": 44,
   "id": "e19b01d2-8414-46db-8e6c-49bf0806d994",
   "metadata": {
    "id": "e19b01d2-8414-46db-8e6c-49bf0806d994"
   },
   "outputs": [],
   "source": [
    "X_eval = preprocessing_arboles_1(X_eval)\n",
    "\n",
    "clf = GradientBoostingClassifier(n_estimators=87, max_depth=2, learning_rate=0.4)\n",
    "clf.fit(X_train1, y_train)\n",
    "\n",
    "y_pred = clf.predict(X_eval)\n",
    "y_pred_proba = clf.predict_proba(X_eval)[:,1]"
   ]
  },
  {
   "cell_type": "code",
   "execution_count": 45,
   "id": "2090f08d-f6e4-4edb-a663-a5b8452d8898",
   "metadata": {
    "colab": {
     "base_uri": "https://localhost:8080/"
    },
    "id": "2090f08d-f6e4-4edb-a663-a5b8452d8898",
    "outputId": "08d0f52b-009c-423c-e8ab-efc2cde2fad4"
   },
   "outputs": [
    {
     "name": "stdout",
     "output_type": "stream",
     "text": [
      "Auc Roc: 0.8820251829944754\n",
      "Accuracy: 0.854102128510043\n",
      "Precision: 0.7355163727959698\n",
      "Recall: 0.5289855072463768\n",
      "F1 Score: 0.6153846153846154\n"
     ]
    }
   ],
   "source": [
    "print(f\"Auc Roc: {roc_auc_score(y_eval, y_pred_proba)}\")\n",
    "print(f\"Accuracy: {accuracy_score(y_eval, y_pred)}\")\n",
    "print(f\"Precision: {precision_score(y_eval, y_pred)}\")\n",
    "print(f\"Recall: {recall_score(y_eval, y_pred)}\")\n",
    "print(f\"F1 Score: {f1_score(y_eval, y_pred)}\")"
   ]
  },
  {
   "cell_type": "markdown",
   "id": "af93620e-b808-48f8-8165-d379f5d3811b",
   "metadata": {},
   "source": [
    "De las métricas podemos destacar que se obtuvo un accuracy de 0.85, mayor que el accuracy del baseline obtenido en el TP1 (0.83). Dado que el accuracy no es una buena métrica para evaluar un modelo cuando se usa un dataset desbalanceado como este, la métrica que usamos para comparar los modelos es AUC, la cual tiene un valor de 0.88.\n",
    "\n",
    "También vemos que el recall obtenido (0.53) es mucho menor que el precision (0.74). Esto significa que, de todas las instancias que son realmente positivas (es decir, llueven hamburguesas al día siguiente), el modelo solo detecta correctamente el 53% de ellas. Por otro lado, de las que el modelo predice como positivas, el 74% eran realmente positivas.\n",
    "\n",
    "Por último, el F1 Score permite tener una única métrica para evaluar el modelo, teniendo en cuenta el recall y el precision:\n",
    "\n",
    "    F1 = 2 x (precision x recall) / (precision + recall) = 0.62\n",
    "\n",
    "Para analizar con más detalle estas métricas, graficaremos la matriz de confusión y la curva ROC."
   ]
  },
  {
   "cell_type": "markdown",
   "id": "579a5c8f-07c0-4149-9e3a-2d23090b3547",
   "metadata": {
    "id": "579a5c8f-07c0-4149-9e3a-2d23090b3547"
   },
   "source": [
    "## Matriz de confusion"
   ]
  },
  {
   "cell_type": "code",
   "execution_count": 48,
   "id": "c45f7be2-1ddd-4670-b86f-dede5d2ad9ac",
   "metadata": {
    "colab": {
     "base_uri": "https://localhost:8080/",
     "height": 497
    },
    "id": "c45f7be2-1ddd-4670-b86f-dede5d2ad9ac",
    "outputId": "9733c6e9-4706-4c72-eafe-9131c6bcc3fa"
   },
   "outputs": [
    {
     "data": {
      "image/png": "[encoded data removed]",
      "text/plain": [
       "<Figure size 600x400 with 2 Axes>"
      ]
     },
     "metadata": {
      "needs_background": "light"
     },
     "output_type": "display_data"
    }
   ],
   "source": [
    "names = sorted(set(y_eval))\n",
    "cm = confusion_matrix(y_eval, y_pred)\n",
    "df_cm = pd.DataFrame(cm, names, names)\n",
    "\n",
    "plt.figure(dpi=100)\n",
    "plt.title(\"Matriz de confusion\")\n",
    "sns.heatmap(df_cm, annot=True, annot_kws={\"size\": 16}, fmt='g', square=True)\n",
    "plt.ylabel(\"True label\")\n",
    "plt.xlabel(\"Predicted label\")\n",
    "plt.show()"
   ]
  },
  {
   "cell_type": "markdown",
   "id": "4ad6585a-341c-42bc-8d5f-315e464aadde",
   "metadata": {},
   "source": [
    "En la matriz de confusión podemos observar exactamente cuántas instancias fueron predichas como True Positive, True Negative, False Positive y False Negative. A partir de estos datos se pueden calcular las métricas, verificando los resultados obtenidos anteriormente:\n",
    "- Recall = TP/(TP+FN) = 1168/(1168+1040) = 0.53\n",
    "- Precision = TP/(TP+FP) = 1168/(1168+420) = 0.74\n",
    "- Accuracy = (TP+TN)/total = 8547/10007 = 0.85"
   ]
  },
  {
   "cell_type": "markdown",
   "id": "5be2677f-9b6b-4aa2-b867-c307605d28db",
   "metadata": {
    "id": "5be2677f-9b6b-4aa2-b867-c307605d28db"
   },
   "source": [
    "## Curva ROC"
   ]
  },
  {
   "cell_type": "markdown",
   "id": "d9e37cb8-3a9a-4c32-a7bf-2da861cad2f8",
   "metadata": {},
   "source": [
    "La curva ROC se obtiene al graficar el True Positive Rate (Recall) vs el False Positive Rate, variando el umbral de detección entre 0 y 100%. Si las predicciones hechas fueran completamente aleatorias, la curva sería una recta, con un área bajo la curva de 0.5. El área bajo la curva es la métrica que se obtiene de la curva, y por eso se busca obtener valores mayores que 0.5. En este caso se obtuvo un AUC = 0.88, el cual es un buen valor comparado con otros modelos utilizados en este TP."
   ]
  },
  {
   "cell_type": "code",
   "execution_count": 36,
   "id": "4a7b8786-9fe2-4856-8cad-4a55e3db985c",
   "metadata": {
    "colab": {
     "base_uri": "https://localhost:8080/",
     "height": 279
    },
    "id": "4a7b8786-9fe2-4856-8cad-4a55e3db985c",
    "outputId": "7553027d-11e7-4edd-82d9-80db85d4f589"
   },
   "outputs": [
    {
     "data": {
      "image/png": "[encoded data removed]",
      "text/plain": [
       "<Figure size 360x240 with 1 Axes>"
      ]
     },
     "metadata": {
      "needs_background": "light"
     },
     "output_type": "display_data"
    }
   ],
   "source": [
    "fpr, tpr, thresholds = roc_curve(y_eval, y_pred_proba)\n",
    "roc_auc = auc(fpr, tpr)\n",
    "display = RocCurveDisplay(fpr=fpr, tpr=tpr, roc_auc=roc_auc)\n",
    "display.plot()\n",
    "plt.show()"
   ]
  },
  {
   "cell_type": "markdown",
   "id": "0e490acf-6dfd-4f70-a78f-ad226dab34b8",
   "metadata": {},
   "source": [
    "# Predicciones finales\n",
    "Finalmente, utilizaremos el modelo para predecir la lluvia de hamburguesas a partir de datos que no fueron usados en el entrenamiento. Guardaremos las predicciones en un archivo csv."
   ]
  },
  {
   "cell_type": "code",
   "execution_count": 37,
   "id": "cfaa0efb-f0d5-4cf4-81a6-c0ed8503c8da",
   "metadata": {
    "colab": {
     "base_uri": "https://localhost:8080/",
     "height": 235
    },
    "id": "cfaa0efb-f0d5-4cf4-81a6-c0ed8503c8da",
    "outputId": "aba7f0d5-71ec-4228-c922-d8313033974d"
   },
   "outputs": [
    {
     "data": {
      "text/plain": [
       "no    24761\n",
       "si     4331\n",
       "Name: llovieron_hamburguesas_al_dia_siguiente, dtype: int64"
      ]
     },
     "execution_count": 37,
     "metadata": {},
     "output_type": "execute_result"
    }
   ],
   "source": [
    "X_train2 = preprocessing_arboles_1(X_train)\n",
    "\n",
    "clf = GradientBoostingClassifier(n_estimators=87, max_depth=2, learning_rate=0.2)\n",
    "clf.fit(X_train1, y_train)\n",
    "\n",
    "df_pred = pd.read_csv(\"pred.csv\")\n",
    "df_pred_preprocess = basic_preprocessing(df_pred, prediction_dataset=True)\n",
    "df_pred_preprocess = fill_numerical_missings(df_pred_preprocess, X_train)\n",
    "df_pred_preprocess = df_pred_preprocess.drop(columns = ['id'])\n",
    "df_pred_preprocess = preprocessing_arboles_1(df_pred_preprocess)\n",
    "\n",
    "y_pred_final = clf.predict(df_pred_preprocess)\n",
    "df_pred_final = pd.DataFrame({'id': df_pred['id'], 'llovieron_hamburguesas_al_dia_siguiente': y_pred_final})\n",
    "df_pred_final.loc[df_pred_final['llovieron_hamburguesas_al_dia_siguiente'] == 1, 'llovieron_hamburguesas_al_dia_siguiente'] = 'si'\n",
    "df_pred_final.loc[df_pred_final['llovieron_hamburguesas_al_dia_siguiente'] == 0, 'llovieron_hamburguesas_al_dia_siguiente'] = 'no'\n",
    "\n",
    "df_pred_final['llovieron_hamburguesas_al_dia_siguiente'].value_counts()\n",
    "\n"
   ]
  },
  {
   "cell_type": "code",
   "execution_count": 38,
   "id": "f8751383-777a-4a0e-8190-f8e10a8171f4",
   "metadata": {
    "id": "f8751383-777a-4a0e-8190-f8e10a8171f4"
   },
   "outputs": [],
   "source": [
    "df_pred_final.to_csv('predicciones/boosting.csv', index=False)"
   ]
  }
 ],
 "metadata": {
  "colab": {
   "collapsed_sections": [],
   "name": "boosting.ipynb",
   "provenance": []
  },
  "kernelspec": {
   "display_name": "Python 3 (ipykernel)",
   "language": "python",
   "name": "python3"
  },
  "language_info": {
   "codemirror_mode": {
    "name": "ipython",
    "version": 3
   },
   "file_extension": ".py",
   "mimetype": "text/x-python",
   "name": "python",
   "nbconvert_exporter": "python",
   "pygments_lexer": "ipython3",
   "version": "3.9.9"
  }
 },
 "nbformat": 4,
 "nbformat_minor": 5
}
