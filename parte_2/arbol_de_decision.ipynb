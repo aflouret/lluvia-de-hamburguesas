{
  "cells": [
    {
      "cell_type": "code",
      "execution_count": 1,
      "id": "252d48ed-cb37-4226-a164-75d60e24e45d",
      "metadata": {
        "id": "252d48ed-cb37-4226-a164-75d60e24e45d"
      },
      "outputs": [],
      "source": [
        "import numpy as np\n",
        "import pandas as pd\n",
        "import matplotlib \n",
        "from matplotlib import pyplot as plt\n",
        "import seaborn as sns\n",
        "from sklearn.metrics import accuracy_score, roc_auc_score, precision_score, recall_score, f1_score, roc_curve, auc, plot_confusion_matrix, RocCurveDisplay\n",
        "from sklearn.model_selection import GridSearchCV, RandomizedSearchCV\n",
        "\n",
        "from sklearn import tree\n",
        "\n",
        "from preprocessing import *\n",
        "\n",
        "plt.rcParams[\"figure.dpi\"] = 60"
      ]
    },
    {
      "cell_type": "markdown",
      "id": "b16c6480-3d1b-4b4e-8857-3815e9b2cbd1",
      "metadata": {
        "id": "b16c6480-3d1b-4b4e-8857-3815e9b2cbd1"
      },
      "source": [
        "# Carga del dataset"
      ]
    },
    {
      "cell_type": "code",
      "execution_count": 5,
      "id": "6594b067-2d34-4ce7-a63e-c32c065d5b5c",
      "metadata": {
        "id": "6594b067-2d34-4ce7-a63e-c32c065d5b5c"
      },
      "outputs": [],
      "source": [
        "df = pd.read_csv(\"df_train.csv\")\n",
        "X = df.drop(columns=['llovieron_hamburguesas_al_dia_siguiente'])\n",
        "y = df['llovieron_hamburguesas_al_dia_siguiente']\n",
        "X_train, X_eval, y_train, y_eval = train_test_split(X, y, random_state=117, test_size=0.1, stratify=y.astype(str))"
      ]
    },
    {
      "cell_type": "markdown",
      "id": "06ef53ca-fbf8-4d62-9b16-21832e303b29",
      "metadata": {
        "id": "06ef53ca-fbf8-4d62-9b16-21832e303b29"
      },
      "source": [
        "# Selección de modelos\n",
        "\n",
        "Buscamos la mejor combinación de los hiperparámetros max_depth, min_samples_leaf y criterion, con 4 datasets distintos, utilizando Randomized Search."
      ]
    },
    {
      "cell_type": "code",
      "execution_count": 6,
      "id": "2e9b1fc0-0164-4e26-8be0-37e01dc6e3e1",
      "metadata": {
        "colab": {
          "base_uri": "https://localhost:8080/"
        },
        "id": "2e9b1fc0-0164-4e26-8be0-37e01dc6e3e1",
        "outputId": "2a5e71ef-c2b5-4e34-924b-e13e483d9461"
      },
      "outputs": [
        {
          "output_type": "stream",
          "name": "stdout",
          "text": [
            "Best score: 0.8567452572514875\n",
            "Best params {'min_samples_leaf': 122, 'max_depth': 9, 'criterion': 'entropy'}\n"
          ]
        }
      ],
      "source": [
        "X_train1 = preprocessing_arboles_1(X_train)\n",
        "params = {\n",
        "    'max_depth': np.arange(1, 15),\n",
        "    'min_samples_leaf': np.arange(1, 300),\n",
        "    \"criterion\": [\"gini\", \"entropy\"],\n",
        "}\n",
        "\n",
        "clf1 = tree.DecisionTreeClassifier(random_state=117)\n",
        "\n",
        "rgscv1 = RandomizedSearchCV(\n",
        "    clf1, params, n_iter = 180, scoring='roc_auc', n_jobs=-1, cv=5, return_train_score=True\n",
        ").fit(X_train1, y_train)\n",
        "\n",
        "print(f\"Best score: {rgscv1.best_score_}\")\n",
        "print(f\"Best params {rgscv1.best_params_}\")"
      ]
    },
    {
      "cell_type": "code",
      "execution_count": 7,
      "id": "1ff2aea9-3ac4-418b-a604-47097d53807f",
      "metadata": {
        "colab": {
          "base_uri": "https://localhost:8080/"
        },
        "id": "1ff2aea9-3ac4-418b-a604-47097d53807f",
        "outputId": "4c9f4f09-1053-48c6-8f4c-e4162574f3d4"
      },
      "outputs": [
        {
          "output_type": "stream",
          "name": "stdout",
          "text": [
            "Best score: 0.856347769040689\n",
            "Best params {'min_samples_leaf': 154, 'max_depth': 9, 'criterion': 'entropy'}\n"
          ]
        }
      ],
      "source": [
        "X_train2 = preprocessing_arboles_2(X_train)\n",
        "params = {\n",
        "    'max_depth': np.arange(1, 15),\n",
        "    'min_samples_leaf': np.arange(1, 300),\n",
        "    \"criterion\": [\"gini\", \"entropy\"],\n",
        "}\n",
        "\n",
        "clf2 = tree.DecisionTreeClassifier(random_state=117)\n",
        "\n",
        "rgscv2 = RandomizedSearchCV(\n",
        "    clf2, params, n_iter = 180, scoring='roc_auc', n_jobs=-1, cv=5, return_train_score=True\n",
        ").fit(X_train2, y_train)\n",
        "\n",
        "print(f\"Best score: {rgscv2.best_score_}\")\n",
        "print(f\"Best params {rgscv2.best_params_}\")"
      ]
    },
    {
      "cell_type": "code",
      "execution_count": 8,
      "id": "2c893ad2-2217-44be-8059-e04133eb79dc",
      "metadata": {
        "colab": {
          "base_uri": "https://localhost:8080/"
        },
        "id": "2c893ad2-2217-44be-8059-e04133eb79dc",
        "outputId": "1526c1a8-546a-4d22-e3d6-9259fc3e6e03"
      },
      "outputs": [
        {
          "output_type": "stream",
          "name": "stdout",
          "text": [
            "Best score: 0.8500166727120112\n",
            "Best params {'min_samples_leaf': 116, 'max_depth': 10, 'criterion': 'entropy'}\n"
          ]
        }
      ],
      "source": [
        "X_train3 = preprocessing_arboles_3(X_train)\n",
        "params = {\n",
        "    'max_depth': np.arange(1, 15),\n",
        "    'min_samples_leaf': np.arange(1, 300),\n",
        "    \"criterion\": [\"gini\", \"entropy\"],\n",
        "}\n",
        "\n",
        "clf3 = tree.DecisionTreeClassifier(random_state=117)\n",
        "\n",
        "rgscv3 = RandomizedSearchCV(\n",
        "    clf3, params, n_iter = 180, scoring='roc_auc', n_jobs=-1, cv=5, return_train_score=True\n",
        ").fit(X_train3, y_train)\n",
        "\n",
        "print(f\"Best score: {rgscv3.best_score_}\")\n",
        "print(f\"Best params {rgscv3.best_params_}\")"
      ]
    },
    {
      "cell_type": "code",
      "execution_count": 9,
      "id": "1ed4f1f3-5016-46ef-a21d-82a6a86ea2b0",
      "metadata": {
        "colab": {
          "base_uri": "https://localhost:8080/"
        },
        "id": "1ed4f1f3-5016-46ef-a21d-82a6a86ea2b0",
        "outputId": "53761c1e-bbe2-42f8-ffb3-84848b673545"
      },
      "outputs": [
        {
          "output_type": "stream",
          "name": "stdout",
          "text": [
            "Best score: 0.8493119094136488\n",
            "Best params {'min_samples_leaf': 176, 'max_depth': 11, 'criterion': 'gini'}\n"
          ]
        }
      ],
      "source": [
        "X_train4 = preprocessing_arboles_4(X_train)\n",
        "params = {\n",
        "    'max_depth': np.arange(1, 15),\n",
        "    'min_samples_leaf': np.arange(1, 300),\n",
        "    \"criterion\": [\"gini\", \"entropy\"],\n",
        "}\n",
        "\n",
        "clf4 = tree.DecisionTreeClassifier(random_state=117)\n",
        "\n",
        "rgscv4 = RandomizedSearchCV(\n",
        "    clf4, params, n_iter = 180, scoring='roc_auc', n_jobs=-1, cv=5, return_train_score=True\n",
        ").fit(X_train4, y_train)\n",
        "\n",
        "print(f\"Best score: {rgscv4.best_score_}\")\n",
        "print(f\"Best params {rgscv4.best_params_}\")"
      ]
    },
    {
      "cell_type": "markdown",
      "id": "a99c1ee9-9322-4fc0-9dd4-f80d84d693c6",
      "metadata": {
        "id": "a99c1ee9-9322-4fc0-9dd4-f80d84d693c6"
      },
      "source": [
        "# Evaluación del modelo final\n",
        "\n",
        "El mejor modelo encontrado corresponde al preprocesamiento preprocessing_arboles_1 , con 'min_samples_leaf': 111, 'max_depth': 13, 'criterion': 'entropy'.\n",
        "Entrenamos el modelo y evaluamos utilizando el set de holdout."
      ]
    },
    {
      "cell_type": "code",
      "execution_count": null,
      "id": "e19b01d2-8414-46db-8e6c-49bf0806d994",
      "metadata": {
        "id": "e19b01d2-8414-46db-8e6c-49bf0806d994"
      },
      "outputs": [],
      "source": [
        "X_eval = preprocessing_arboles_1(X_eval)\n",
        "\n",
        "clf = tree.DecisionTreeClassifier(random_state=117, max_depth=13, min_samples_leaf=111, criterion='entropy')\n",
        "clf.fit(X_train1, y_train)\n",
        "\n",
        "y_pred = clf.predict(X_eval)\n",
        "y_pred_proba = clf.predict_proba(X_eval)[:,1]"
      ]
    },
    {
      "cell_type": "code",
      "execution_count": null,
      "id": "6c900bb0-efdd-480d-8bb9-573461e09c09",
      "metadata": {
        "id": "6c900bb0-efdd-480d-8bb9-573461e09c09"
      },
      "outputs": [],
      "source": [
        "print(f\"Auc Roc: {roc_auc_score(y_eval, y_pred_proba)}\")\n",
        "print(f\"Accuracy: {accuracy_score(y_eval, y_pred)}\")\n",
        "print(f\"Precision: {precision_score(y_eval, y_pred)}\")\n",
        "print(f\"Recall: {recall_score(y_eval, y_pred)}\")\n",
        "print(f\"F1 Score: {f1_score(y_eval, y_pred)}\")"
      ]
    },
    {
      "cell_type": "markdown",
      "id": "5fb4a2f4-761b-408b-803c-4dc19db1563f",
      "metadata": {
        "id": "5fb4a2f4-761b-408b-803c-4dc19db1563f"
      },
      "source": [
        "## Matriz de confusión"
      ]
    },
    {
      "cell_type": "code",
      "execution_count": null,
      "id": "13a41039-c7a7-4f3c-bace-991ea5a07e07",
      "metadata": {
        "id": "13a41039-c7a7-4f3c-bace-991ea5a07e07"
      },
      "outputs": [],
      "source": [
        "fig, ax = plt.subplots(figsize=(15, 7))\n",
        "plt.grid(False)\n",
        "plot_confusion_matrix(\n",
        "    clf, X_eval, y_eval, cmap=plt.cm.Blues, display_labels=['1', '0'], ax=ax\n",
        ")\n",
        "plt.show()"
      ]
    },
    {
      "cell_type": "markdown",
      "id": "135f4406-9491-41a3-8888-1f1e1236131d",
      "metadata": {
        "id": "135f4406-9491-41a3-8888-1f1e1236131d"
      },
      "source": [
        "## Curva ROC"
      ]
    },
    {
      "cell_type": "code",
      "execution_count": null,
      "id": "fb3ff153-0280-41c8-b010-b8ad7eff9997",
      "metadata": {
        "id": "fb3ff153-0280-41c8-b010-b8ad7eff9997"
      },
      "outputs": [],
      "source": [
        "fpr, tpr, thresholds = roc_curve(y_eval, y_pred_proba)\n",
        "roc_auc = auc(fpr, tpr)\n",
        "display = RocCurveDisplay(fpr=fpr, tpr=tpr, roc_auc=roc_auc)\n",
        "display.plot()\n",
        "plt.show()"
      ]
    },
    {
      "cell_type": "markdown",
      "id": "7b284708-dd2a-481f-8005-91077ad904f3",
      "metadata": {
        "id": "7b284708-dd2a-481f-8005-91077ad904f3"
      },
      "source": [
        "## Feature Importance:"
      ]
    },
    {
      "cell_type": "code",
      "execution_count": null,
      "id": "dde31a98-20f9-46f3-acb1-c40b85ca9f55",
      "metadata": {
        "id": "dde31a98-20f9-46f3-acb1-c40b85ca9f55"
      },
      "outputs": [],
      "source": [
        "sorted(list(zip(X_train.columns, clf.feature_importances_)), key=lambda x: -x[1])"
      ]
    },
    {
      "cell_type": "code",
      "execution_count": null,
      "id": "91f5b8a4-c83c-47b9-ad57-e265cb7fae18",
      "metadata": {
        "id": "91f5b8a4-c83c-47b9-ad57-e265cb7fae18"
      },
      "outputs": [],
      "source": [
        "X_train1 = preprocessing_arboles_1(X_train)\n",
        "\n",
        "clf = tree.DecisionTreeClassifier(random_state=117, max_depth=13, min_samples_leaf=111, criterion='entropy')\n",
        "clf.fit(X_train1, y_train)\n",
        "\n",
        "df_pred = pd.read_csv(\"pred.csv\")\n",
        "df_pred_preprocess = basic_preprocessing(df_pred, prediction_dataset=True)\n",
        "df_pred_preprocess = fill_numerical_missings(df_pred_preprocess, X_train)\n",
        "df_pred_preprocess = df_pred_preprocess.drop(columns = ['id'])\n",
        "df_pred_preprocess = preprocessing_arboles_1(df_pred_preprocess)\n",
        "\n",
        "y_pred_final = clf.predict(df_pred_preprocess)\n",
        "df_pred_final = pd.DataFrame({'id': df_pred['id'], 'llovieron_hamburguesas_al_dia_siguiente': y_pred_final})\n",
        "df_pred_final.loc[df_pred_final['llovieron_hamburguesas_al_dia_siguiente'] == 1, 'llovieron_hamburguesas_al_dia_siguiente'] = 'si'\n",
        "df_pred_final.loc[df_pred_final['llovieron_hamburguesas_al_dia_siguiente'] == 0, 'llovieron_hamburguesas_al_dia_siguiente'] = 'no'\n",
        "\n",
        "df_pred_final['llovieron_hamburguesas_al_dia_siguiente'].value_counts()"
      ]
    },
    {
      "cell_type": "code",
      "execution_count": null,
      "id": "281ca77d-76a6-47de-ac69-48e4343b7de5",
      "metadata": {
        "id": "281ca77d-76a6-47de-ac69-48e4343b7de5"
      },
      "outputs": [],
      "source": [
        "df_pred_final.to_csv('predicciones/arbol_de_decision.csv', index=False)"
      ]
    },
    {
      "cell_type": "code",
      "execution_count": null,
      "id": "6fa36ccc-3ee2-4c38-8d00-75c200dec1fe",
      "metadata": {
        "id": "6fa36ccc-3ee2-4c38-8d00-75c200dec1fe"
      },
      "outputs": [],
      "source": [
        ""
      ]
    }
  ],
  "metadata": {
    "kernelspec": {
      "display_name": "Python 3 (ipykernel)",
      "language": "python",
      "name": "python3"
    },
    "language_info": {
      "codemirror_mode": {
        "name": "ipython",
        "version": 3
      },
      "file_extension": ".py",
      "mimetype": "text/x-python",
      "name": "python",
      "nbconvert_exporter": "python",
      "pygments_lexer": "ipython3",
      "version": "3.9.9"
    },
    "colab": {
      "name": "arbol_de_decision.ipynb",
      "provenance": [],
      "collapsed_sections": []
    }
  },
  "nbformat": 4,
  "nbformat_minor": 5
}