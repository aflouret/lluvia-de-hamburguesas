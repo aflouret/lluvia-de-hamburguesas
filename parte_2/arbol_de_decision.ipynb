{
 "cells": [
  {
   "cell_type": "code",
   "execution_count": 1,
   "id": "252d48ed-cb37-4226-a164-75d60e24e45d",
   "metadata": {},
   "outputs": [],
   "source": [
    "import numpy as np\n",
    "import pandas as pd\n",
    "import matplotlib \n",
    "from matplotlib import pyplot as plt\n",
    "import seaborn as sns\n",
    "from sklearn.metrics import accuracy_score, roc_auc_score, precision_score, recall_score, f1_score, roc_curve, auc, plot_confusion_matrix, RocCurveDisplay\n",
    "from sklearn.model_selection import GridSearchCV, RandomizedSearchCV\n",
    "\n",
    "from sklearn import tree\n",
    "\n",
    "from preprocessing import *\n",
    "\n",
    "plt.rcParams[\"figure.dpi\"] = 60"
   ]
  },
  {
   "cell_type": "markdown",
   "id": "b16c6480-3d1b-4b4e-8857-3815e9b2cbd1",
   "metadata": {},
   "source": [
    "# Carga del dataset"
   ]
  },
  {
   "cell_type": "code",
   "execution_count": 2,
   "id": "918671b8-fc01-469a-8ba3-79dd8912270c",
   "metadata": {},
   "outputs": [],
   "source": [
    "from collections import Counter\n",
    "import requests\n",
    "\n",
    "with requests.get(\n",
    "    \"https://docs.google.com/spreadsheets/d/1wduqo5WyYmCpaGnE81sLNGU0VSodIekMfpmEwU0fGqs/export?format=csv\") as r, open(\"features.csv\", \"wb\") as f:\n",
    "    for chunk in r.iter_content():\n",
    "        f.write(chunk)\n",
    "\n",
    "with requests.get(\n",
    "    \"https://docs.google.com/spreadsheets/d/1gvZ03uAL6THwd04Y98GtIj6SeAHiKyQY5UisuuyFSUs/export?format=csv\") as r, open(\"target.csv\", \"wb\") as f:\n",
    "    for chunk in r.iter_content():\n",
    "        f.write(chunk)"
   ]
  },
  {
   "cell_type": "code",
   "execution_count": 5,
   "id": "6594b067-2d34-4ce7-a63e-c32c065d5b5c",
   "metadata": {},
   "outputs": [
    {
     "name": "stderr",
     "output_type": "stream",
     "text": [
      "/usr/local/lib/python3.9/site-packages/IPython/core/interactiveshell.py:3444: DtypeWarning: Columns (13) have mixed types.Specify dtype option on import or set low_memory=False.\n",
      "  exec(code_obj, self.user_global_ns, self.user_ns)\n"
     ]
    }
   ],
   "source": [
    "df_features = pd.read_csv(\"features.csv\")\n",
    "df_target = pd.read_csv(\"target.csv\")\n",
    "df = df_features.merge(df_target, left_on='id', right_on='id')"
   ]
  },
  {
   "cell_type": "markdown",
   "id": "06ef53ca-fbf8-4d62-9b16-21832e303b29",
   "metadata": {},
   "source": [
    "# Selección de modelos\n",
    "\n",
    "Buscamos la mejor combinación de los hiperparámetros max_depth, min_samples_leaf y criterion, con 4 datasets distintos, utilizando Randomized Search."
   ]
  },
  {
   "cell_type": "code",
   "execution_count": 7,
   "id": "2e9b1fc0-0164-4e26-8be0-37e01dc6e3e1",
   "metadata": {},
   "outputs": [
    {
     "name": "stdout",
     "output_type": "stream",
     "text": [
      "Best score: 0.8583627148769502\n",
      "Best params {'min_samples_leaf': 111, 'max_depth': 13, 'criterion': 'entropy'}\n"
     ]
    }
   ],
   "source": [
    "X_train1, X_test1, y_train1, y_test1 = preprocessing_arboles_1(df)\n",
    "params = {\n",
    "    'max_depth': np.arange(1, 15),\n",
    "    'min_samples_leaf': np.arange(1, 300),\n",
    "    \"criterion\": [\"gini\", \"entropy\"],\n",
    "}\n",
    "\n",
    "clf1 = tree.DecisionTreeClassifier(random_state=117)\n",
    "\n",
    "rgscv1 = RandomizedSearchCV(\n",
    "    clf1, params, n_iter = 120, scoring='roc_auc', n_jobs=-1, cv=5, return_train_score=True\n",
    ").fit(X_train1, y_train1)\n",
    "\n",
    "print(f\"Best score: {rgscv1.best_score_}\")\n",
    "print(f\"Best params {rgscv1.best_params_}\")"
   ]
  },
  {
   "cell_type": "code",
   "execution_count": 8,
   "id": "1ff2aea9-3ac4-418b-a604-47097d53807f",
   "metadata": {},
   "outputs": [
    {
     "name": "stdout",
     "output_type": "stream",
     "text": [
      "Best score: 0.8582474401536192\n",
      "Best params {'min_samples_leaf': 109, 'max_depth': 11, 'criterion': 'entropy'}\n"
     ]
    }
   ],
   "source": [
    "X_train2, X_test2, y_train2, y_test2 = preprocessing_arboles_2(df)\n",
    "params = {\n",
    "    'max_depth': np.arange(1, 15),\n",
    "    'min_samples_leaf': np.arange(1, 300),\n",
    "    \"criterion\": [\"gini\", \"entropy\"],\n",
    "}\n",
    "\n",
    "clf2 = tree.DecisionTreeClassifier(random_state=117)\n",
    "\n",
    "rgscv2 = RandomizedSearchCV(\n",
    "    clf2, params, n_iter = 120, scoring='roc_auc', n_jobs=-1, cv=5, return_train_score=True\n",
    ").fit(X_train2, y_train2)\n",
    "\n",
    "print(f\"Best score: {rgscv2.best_score_}\")\n",
    "print(f\"Best params {rgscv2.best_params_}\")"
   ]
  },
  {
   "cell_type": "code",
   "execution_count": 9,
   "id": "2c893ad2-2217-44be-8059-e04133eb79dc",
   "metadata": {},
   "outputs": [
    {
     "name": "stdout",
     "output_type": "stream",
     "text": [
      "Best score: 0.8514964743212323\n",
      "Best params {'min_samples_leaf': 168, 'max_depth': 14, 'criterion': 'entropy'}\n"
     ]
    }
   ],
   "source": [
    "X_train3, X_test3, y_train3, y_test3 = preprocessing_arboles_3(df)\n",
    "params = {\n",
    "    'max_depth': np.arange(1, 15),\n",
    "    'min_samples_leaf': np.arange(1, 300),\n",
    "    \"criterion\": [\"gini\", \"entropy\"],\n",
    "}\n",
    "\n",
    "clf3 = tree.DecisionTreeClassifier(random_state=117)\n",
    "\n",
    "rgscv3 = RandomizedSearchCV(\n",
    "    clf3, params, n_iter = 120, scoring='roc_auc', n_jobs=-1, cv=5, return_train_score=True\n",
    ").fit(X_train3, y_train3)\n",
    "\n",
    "print(f\"Best score: {rgscv3.best_score_}\")\n",
    "print(f\"Best params {rgscv3.best_params_}\")"
   ]
  },
  {
   "cell_type": "code",
   "execution_count": 10,
   "id": "1ed4f1f3-5016-46ef-a21d-82a6a86ea2b0",
   "metadata": {},
   "outputs": [
    {
     "name": "stdout",
     "output_type": "stream",
     "text": [
      "Best score: 0.8500570708766741\n",
      "Best params {'min_samples_leaf': 156, 'max_depth': 12, 'criterion': 'entropy'}\n"
     ]
    }
   ],
   "source": [
    "X_train4, X_test4, y_train4, y_test4 = preprocessing_arboles_4(df)\n",
    "params = {\n",
    "    'max_depth': np.arange(1, 15),\n",
    "    'min_samples_leaf': np.arange(1, 300),\n",
    "    \"criterion\": [\"gini\", \"entropy\"],\n",
    "}\n",
    "\n",
    "clf4 = tree.DecisionTreeClassifier(random_state=117)\n",
    "\n",
    "rgscv4 = RandomizedSearchCV(\n",
    "    clf4, params, n_iter = 120, scoring='roc_auc', n_jobs=-1, cv=5, return_train_score=True\n",
    ").fit(X_train4, y_train4)\n",
    "\n",
    "print(f\"Best score: {rgscv4.best_score_}\")\n",
    "print(f\"Best params {rgscv4.best_params_}\")"
   ]
  },
  {
   "cell_type": "markdown",
   "id": "a99c1ee9-9322-4fc0-9dd4-f80d84d693c6",
   "metadata": {},
   "source": [
    "# Evaluación del modelo final\n",
    "\n",
    "El mejor modelo encontrado corresponde al preprocesamiento preprocessing_arboles_1 , con 'min_samples_leaf': 111, 'max_depth': 13, 'criterion': 'entropy'.\n",
    "Entrenamos el modelo y evaluamos utilizando el set de holdout."
   ]
  },
  {
   "cell_type": "code",
   "execution_count": 11,
   "id": "e19b01d2-8414-46db-8e6c-49bf0806d994",
   "metadata": {},
   "outputs": [],
   "source": [
    "X_train, X_test, y_train, y_test = preprocessing_arboles_1(df)\n",
    "\n",
    "clf = tree.DecisionTreeClassifier(random_state=117, max_depth=13, min_samples_leaf=111, criterion='entropy')\n",
    "clf.fit(X_train, y_train)\n",
    "\n",
    "y_pred = clf.predict(X_test)\n",
    "y_pred_proba = clf.predict_proba(X_test)[:,1]"
   ]
  },
  {
   "cell_type": "code",
   "execution_count": 14,
   "id": "6c900bb0-efdd-480d-8bb9-573461e09c09",
   "metadata": {},
   "outputs": [
    {
     "name": "stdout",
     "output_type": "stream",
     "text": [
      "Auc Roc: 0.860304668330099\n",
      "Accuracy: 0.8453858607663248\n",
      "Precision: 0.7218863361547763\n",
      "Recall: 0.4867509172441908\n",
      "F1 Score: 0.5814463111760408\n"
     ]
    }
   ],
   "source": [
    "print(f\"Auc Roc: {roc_auc_score(y_test, y_pred_proba)}\")\n",
    "print(f\"Accuracy: {accuracy_score(y_test, y_pred)}\")\n",
    "print(f\"Precision: {precision_score(y_test, y_pred)}\")\n",
    "print(f\"Recall: {recall_score(y_test, y_pred)}\")\n",
    "print(f\"F1 Score: {f1_score(y_test, y_pred)}\")"
   ]
  },
  {
   "cell_type": "markdown",
   "id": "5fb4a2f4-761b-408b-803c-4dc19db1563f",
   "metadata": {},
   "source": [
    "## Matriz de confusión"
   ]
  },
  {
   "cell_type": "code",
   "execution_count": 17,
   "id": "13a41039-c7a7-4f3c-bace-991ea5a07e07",
   "metadata": {},
   "outputs": [
    {
     "name": "stderr",
     "output_type": "stream",
     "text": [
      "/usr/local/lib/python3.9/site-packages/sklearn/utils/deprecation.py:87: FutureWarning: Function plot_confusion_matrix is deprecated; Function `plot_confusion_matrix` is deprecated in 1.0 and will be removed in 1.2. Use one of the class methods: ConfusionMatrixDisplay.from_predictions or ConfusionMatrixDisplay.from_estimator.\n",
      "  warnings.warn(msg, category=FutureWarning)\n"
     ]
    },
    {
     "data": {
      "image/png": "[encoded data removed]",
      "text/plain": [
       "<Figure size 900x420 with 2 Axes>"
      ]
     },
     "metadata": {
      "needs_background": "light"
     },
     "output_type": "display_data"
    }
   ],
   "source": [
    "fig, ax = plt.subplots(figsize=(15, 7))\n",
    "plt.grid(False)\n",
    "plot_confusion_matrix(\n",
    "    clf, X_test, y_test, cmap=plt.cm.Blues, display_labels=['1', '0'], ax=ax\n",
    ")\n",
    "plt.show()"
   ]
  },
  {
   "cell_type": "markdown",
   "id": "135f4406-9491-41a3-8888-1f1e1236131d",
   "metadata": {},
   "source": [
    "## Curva ROC"
   ]
  },
  {
   "cell_type": "code",
   "execution_count": 18,
   "id": "fb3ff153-0280-41c8-b010-b8ad7eff9997",
   "metadata": {},
   "outputs": [
    {
     "data": {
      "image/png": "[encoded data removed]",
      "text/plain": [
       "<Figure size 360x240 with 1 Axes>"
      ]
     },
     "metadata": {
      "needs_background": "light"
     },
     "output_type": "display_data"
    }
   ],
   "source": [
    "fpr, tpr, thresholds = roc_curve(y_test, y_pred_proba)\n",
    "roc_auc = auc(fpr, tpr)\n",
    "display = RocCurveDisplay(fpr=fpr, tpr=tpr, roc_auc=roc_auc)\n",
    "display.plot()\n",
    "plt.show()"
   ]
  },
  {
   "cell_type": "code",
   "execution_count": 21,
   "id": "dde31a98-20f9-46f3-acb1-c40b85ca9f55",
   "metadata": {},
   "outputs": [
    {
     "data": {
      "text/plain": [
       "[('humedad_tarde', 0.5816577407837429),\n",
       " ('rafaga_viento_max_velocidad', 0.11114572208476586),\n",
       " ('horas_de_sol', 0.07406590305101345),\n",
       " ('presion_atmosferica_tarde', 0.06673624922755719),\n",
       " ('mm_lluvia_dia', 0.0387878056368155),\n",
       " ('presion_atmosferica_temprano', 0.03255070975806613),\n",
       " ('nubosidad_tarde', 0.013638074835666984),\n",
       " ('humedad_temprano', 0.010200646942594179),\n",
       " ('temperatura_temprano', 0.00914109617929661),\n",
       " ('temp_min', 0.008906789981462932),\n",
       " ('temp_max', 0.0068903231819379485),\n",
       " ('temperatura_tarde', 0.0066454074094708625),\n",
       " ('direccion_viento_tarde_Nornoreste', 0.005968671346506016),\n",
       " ('velocidad_viendo_tarde', 0.005534561226122337),\n",
       " ('velocidad_viendo_temprano', 0.004972171238194542),\n",
       " ('mm_evaporados_agua', 0.003782532839196867),\n",
       " ('direccion_viento_tarde_Norte', 0.003120597852087938),\n",
       " ('mes', 0.0027674898106405193),\n",
       " ('barrio_Villa Urquiza', 0.001771070027653734),\n",
       " ('direccion_viento_temprano_Nornoreste', 0.0015130390314805093),\n",
       " ('direccion_viento_tarde_Noreste', 0.0013694296549151606),\n",
       " ('barrio_Villa del Parque', 0.001274641226982209),\n",
       " ('barrio_La Paternal', 0.0011220130029771568),\n",
       " ('nubosidad_temprano', 0.0009606007081976882),\n",
       " ('direccion_viento_tarde_Noroeste', 0.0009561843604763454),\n",
       " ('direccion_viento_temprano_Norte', 0.0008278569930035975),\n",
       " ('rafaga_viento_max_direccion_Norte', 0.0007243679840620708),\n",
       " ('direccion_viento_temprano_suroeste', 0.0006175789667498173),\n",
       " ('direccion_viento_tarde_Oeste', 0.00035463868138316517),\n",
       " ('rafaga_viento_max_direccion_Estenoreste', 0.0003061034946215596),\n",
       " ('direccion_viento_temprano_Sursureste', 0.0003040847127655126),\n",
       " ('direccion_viento_temprano_Estenoreste', 0.00028672631468845634),\n",
       " ('rafaga_viento_max_direccion_Nornoreste', 0.0002512723303327797),\n",
       " ('barrio_Villa General Mitre', 0.0002349342526245892),\n",
       " ('rafaga_viento_max_direccion_Noreste', 0.00021402136131240033),\n",
       " ('barrio_Villa Soldati', 0.0001728947654209968),\n",
       " ('rafaga_viento_max_direccion_suroeste', 0.0001585414327990135),\n",
       " ('llovieron_hamburguesas_hoy', 6.750731241440133e-05),\n",
       " ('direccion_viento_temprano_Estesureste', 0.0),\n",
       " ('direccion_viento_temprano_Noreste', 0.0),\n",
       " ('direccion_viento_temprano_Noroeste', 0.0),\n",
       " ('direccion_viento_temprano_Oeste', 0.0),\n",
       " ('direccion_viento_temprano_Oestenoroeste', 0.0),\n",
       " ('direccion_viento_temprano_Oestesuroeste', 0.0),\n",
       " ('direccion_viento_temprano_Sur', 0.0),\n",
       " ('direccion_viento_temprano_Sureste', 0.0),\n",
       " ('direccion_viento_temprano_Sursuroeste', 0.0),\n",
       " ('direccion_viento_temprano_nan', 0.0),\n",
       " ('rafaga_viento_max_direccion_Estesureste', 0.0),\n",
       " ('rafaga_viento_max_direccion_Noroeste', 0.0),\n",
       " ('rafaga_viento_max_direccion_Oeste', 0.0),\n",
       " ('rafaga_viento_max_direccion_Oestenoroeste', 0.0),\n",
       " ('rafaga_viento_max_direccion_Oestesuroeste', 0.0),\n",
       " ('rafaga_viento_max_direccion_Sur', 0.0),\n",
       " ('rafaga_viento_max_direccion_Sureste', 0.0),\n",
       " ('rafaga_viento_max_direccion_Sursureste', 0.0),\n",
       " ('rafaga_viento_max_direccion_Sursuroeste', 0.0),\n",
       " ('rafaga_viento_max_direccion_nan', 0.0),\n",
       " ('direccion_viento_tarde_Estenoreste', 0.0),\n",
       " ('direccion_viento_tarde_Estesureste', 0.0),\n",
       " ('direccion_viento_tarde_Oestenoroeste', 0.0),\n",
       " ('direccion_viento_tarde_Oestesuroeste', 0.0),\n",
       " ('direccion_viento_tarde_Sur', 0.0),\n",
       " ('direccion_viento_tarde_Sureste', 0.0),\n",
       " ('direccion_viento_tarde_Sursureste', 0.0),\n",
       " ('direccion_viento_tarde_Sursuroeste', 0.0),\n",
       " ('direccion_viento_tarde_suroeste', 0.0),\n",
       " ('direccion_viento_tarde_nan', 0.0),\n",
       " ('barrio_Almagro', 0.0),\n",
       " ('barrio_Balvanera', 0.0),\n",
       " ('barrio_Barracas', 0.0),\n",
       " ('barrio_Belgrano', 0.0),\n",
       " ('barrio_Boedo', 0.0),\n",
       " ('barrio_Caballito', 0.0),\n",
       " ('barrio_Chacarita', 0.0),\n",
       " ('barrio_Coghlan', 0.0),\n",
       " ('barrio_Colegiales', 0.0),\n",
       " ('barrio_Constitución', 0.0),\n",
       " ('barrio_Flores', 0.0),\n",
       " ('barrio_Floresta', 0.0),\n",
       " ('barrio_La Boca', 0.0),\n",
       " ('barrio_Liniers', 0.0),\n",
       " ('barrio_Mataderos', 0.0),\n",
       " ('barrio_Monserrat', 0.0),\n",
       " ('barrio_Monte Castro', 0.0),\n",
       " ('barrio_Nueva Pompeya', 0.0),\n",
       " ('barrio_Núñez', 0.0),\n",
       " ('barrio_Palermo', 0.0),\n",
       " ('barrio_Palermo cheto', 0.0),\n",
       " ('barrio_Parque Avellaneda', 0.0),\n",
       " ('barrio_Parque Chacabuco', 0.0),\n",
       " ('barrio_Parque Chas', 0.0),\n",
       " ('barrio_Parque Patricios', 0.0),\n",
       " ('barrio_Puerto Madero', 0.0),\n",
       " ('barrio_Recoleta', 0.0),\n",
       " ('barrio_Retiro', 0.0),\n",
       " ('barrio_Saavedra', 0.0),\n",
       " ('barrio_San Cristóbal', 0.0),\n",
       " ('barrio_San Nicolás', 0.0),\n",
       " ('barrio_San Telmo', 0.0),\n",
       " ('barrio_Versalles', 0.0),\n",
       " ('barrio_Villa Crespo', 0.0),\n",
       " ('barrio_Villa Devoto', 0.0),\n",
       " ('barrio_Villa Lugano', 0.0),\n",
       " ('barrio_Villa Luro', 0.0),\n",
       " ('barrio_Villa Ortúzar', 0.0),\n",
       " ('barrio_Villa Pueyrredón', 0.0),\n",
       " ('barrio_Villa Real', 0.0),\n",
       " ('barrio_Villa Riachuelo', 0.0),\n",
       " ('barrio_Villa Santa Rita', 0.0),\n",
       " ('barrio_Vélez Sársfield', 0.0),\n",
       " ('barrio_nan', 0.0)]"
      ]
     },
     "execution_count": 21,
     "metadata": {},
     "output_type": "execute_result"
    }
   ],
   "source": [
    "sorted(list(zip(X_train.columns, clf.feature_importances_)), key=lambda x: -x[1])"
   ]
  },
  {
   "cell_type": "markdown",
   "id": "53ffdcf8-d144-4861-abe1-bc1a59b68e69",
   "metadata": {},
   "source": [
    "# Predicciones finales"
   ]
  },
  {
   "cell_type": "code",
   "execution_count": 6,
   "id": "91f5b8a4-c83c-47b9-ad57-e265cb7fae18",
   "metadata": {},
   "outputs": [
    {
     "data": {
      "text/html": [
       "<div>\n",
       "<style scoped>\n",
       "    .dataframe tbody tr th:only-of-type {\n",
       "        vertical-align: middle;\n",
       "    }\n",
       "\n",
       "    .dataframe tbody tr th {\n",
       "        vertical-align: top;\n",
       "    }\n",
       "\n",
       "    .dataframe thead th {\n",
       "        text-align: right;\n",
       "    }\n",
       "</style>\n",
       "<table border=\"1\" class=\"dataframe\">\n",
       "  <thead>\n",
       "    <tr style=\"text-align: right;\">\n",
       "      <th></th>\n",
       "      <th>id</th>\n",
       "      <th>llovieron_hamburguesas_al_dia_siguiente</th>\n",
       "    </tr>\n",
       "  </thead>\n",
       "  <tbody>\n",
       "    <tr>\n",
       "      <th>0</th>\n",
       "      <td>116706</td>\n",
       "      <td>no</td>\n",
       "    </tr>\n",
       "    <tr>\n",
       "      <th>1</th>\n",
       "      <td>58831</td>\n",
       "      <td>no</td>\n",
       "    </tr>\n",
       "    <tr>\n",
       "      <th>2</th>\n",
       "      <td>31981</td>\n",
       "      <td>no</td>\n",
       "    </tr>\n",
       "    <tr>\n",
       "      <th>3</th>\n",
       "      <td>2533</td>\n",
       "      <td>no</td>\n",
       "    </tr>\n",
       "    <tr>\n",
       "      <th>4</th>\n",
       "      <td>7270</td>\n",
       "      <td>si</td>\n",
       "    </tr>\n",
       "    <tr>\n",
       "      <th>...</th>\n",
       "      <td>...</td>\n",
       "      <td>...</td>\n",
       "    </tr>\n",
       "    <tr>\n",
       "      <th>29087</th>\n",
       "      <td>73456</td>\n",
       "      <td>no</td>\n",
       "    </tr>\n",
       "    <tr>\n",
       "      <th>29088</th>\n",
       "      <td>14471</td>\n",
       "      <td>no</td>\n",
       "    </tr>\n",
       "    <tr>\n",
       "      <th>29089</th>\n",
       "      <td>106482</td>\n",
       "      <td>no</td>\n",
       "    </tr>\n",
       "    <tr>\n",
       "      <th>29090</th>\n",
       "      <td>21057</td>\n",
       "      <td>no</td>\n",
       "    </tr>\n",
       "    <tr>\n",
       "      <th>29091</th>\n",
       "      <td>102055</td>\n",
       "      <td>no</td>\n",
       "    </tr>\n",
       "  </tbody>\n",
       "</table>\n",
       "<p>29092 rows × 2 columns</p>\n",
       "</div>"
      ],
      "text/plain": [
       "           id llovieron_hamburguesas_al_dia_siguiente\n",
       "0      116706                                      no\n",
       "1       58831                                      no\n",
       "2       31981                                      no\n",
       "3        2533                                      no\n",
       "4        7270                                      si\n",
       "...       ...                                     ...\n",
       "29087   73456                                      no\n",
       "29088   14471                                      no\n",
       "29089  106482                                      no\n",
       "29090   21057                                      no\n",
       "29091  102055                                      no\n",
       "\n",
       "[29092 rows x 2 columns]"
      ]
     },
     "execution_count": 6,
     "metadata": {},
     "output_type": "execute_result"
    }
   ],
   "source": [
    "X_train, X_test, y_train, y_test = preprocessing_arboles_1(df)\n",
    "\n",
    "clf = tree.DecisionTreeClassifier(random_state=117, max_depth=13, min_samples_leaf=111, criterion='entropy')\n",
    "clf.fit(X_train, y_train)\n",
    "\n",
    "with requests.get(\n",
    "    \"https://docs.google.com/spreadsheets/d/1mR_JNN0-ceiB5qV42Ff9hznz0HtWaoPF3B9zNGoNPY8/export?format=csv\") as r, open(\"pred.csv\", \"wb\") as f:\n",
    "    for chunk in r.iter_content():\n",
    "        f.write(chunk)\n",
    "\n",
    "df_pred = pd.read_csv(\"pred.csv\")\n",
    "\n",
    "df_pred_preprocess = preprocessing_arboles_pred(df_pred)\n",
    "y_pred_final = clf.predict(df_pred_preprocess)\n",
    "df_pred_final = pd.DataFrame({'id': df_pred['id'], 'llovieron_hamburguesas_al_dia_siguiente': y_pred_final})\n",
    "df_pred_final.loc[df_pred_final['llovieron_hamburguesas_al_dia_siguiente'] == 1, 'llovieron_hamburguesas_al_dia_siguiente'] = 'si'\n",
    "df_pred_final.loc[df_pred_final['llovieron_hamburguesas_al_dia_siguiente'] == 0, 'llovieron_hamburguesas_al_dia_siguiente'] = 'no'\n",
    "\n",
    "df_pred_final"
   ]
  },
  {
   "cell_type": "code",
   "execution_count": 7,
   "id": "281ca77d-76a6-47de-ac69-48e4343b7de5",
   "metadata": {},
   "outputs": [],
   "source": [
    "df_pred_final.to_csv('predicciones/arbol_de_decision.csv', index=False)"
   ]
  },
  {
   "cell_type": "code",
   "execution_count": null,
   "id": "6fa36ccc-3ee2-4c38-8d00-75c200dec1fe",
   "metadata": {},
   "outputs": [],
   "source": []
  }
 ],
 "metadata": {
  "kernelspec": {
   "display_name": "Python 3 (ipykernel)",
   "language": "python",
   "name": "python3"
  },
  "language_info": {
   "codemirror_mode": {
    "name": "ipython",
    "version": 3
   },
   "file_extension": ".py",
   "mimetype": "text/x-python",
   "name": "python",
   "nbconvert_exporter": "python",
   "pygments_lexer": "ipython3",
   "version": "3.9.9"
  }
 },
 "nbformat": 4,
 "nbformat_minor": 5
}
