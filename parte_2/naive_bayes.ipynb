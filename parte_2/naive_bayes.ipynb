{
 "cells": [
  {
   "cell_type": "code",
   "execution_count": 1,
   "id": "252d48ed-cb37-4226-a164-75d60e24e45d",
   "metadata": {},
   "outputs": [],
   "source": [
    "import numpy as np\n",
    "import pandas as pd\n",
    "import matplotlib \n",
    "from matplotlib import pyplot as plt\n",
    "import seaborn as sns\n",
    "from sklearn.metrics import accuracy_score, roc_auc_score, precision_score, recall_score, f1_score, roc_curve, auc, plot_confusion_matrix, RocCurveDisplay\n",
    "from sklearn.model_selection import GridSearchCV, RandomizedSearchCV\n",
    "\n",
    "from sklearn.naive_bayes import GaussianNB\n",
    "\n",
    "from preprocessing import *\n",
    "\n",
    "plt.rcParams[\"figure.dpi\"] = 60"
   ]
  },
  {
   "cell_type": "markdown",
   "id": "c3162fb6-89d5-4322-a1a1-8ce79471477a",
   "metadata": {},
   "source": [
    "# Carga del dataset"
   ]
  },
  {
   "cell_type": "code",
   "execution_count": 2,
   "id": "918671b8-fc01-469a-8ba3-79dd8912270c",
   "metadata": {},
   "outputs": [],
   "source": [
    "from collections import Counter\n",
    "import requests\n",
    "\n",
    "with requests.get(\n",
    "    \"https://docs.google.com/spreadsheets/d/1wduqo5WyYmCpaGnE81sLNGU0VSodIekMfpmEwU0fGqs/export?format=csv\") as r, open(\"features.csv\", \"wb\") as f:\n",
    "    for chunk in r.iter_content():\n",
    "        f.write(chunk)\n",
    "\n",
    "with requests.get(\n",
    "    \"https://docs.google.com/spreadsheets/d/1gvZ03uAL6THwd04Y98GtIj6SeAHiKyQY5UisuuyFSUs/export?format=csv\") as r, open(\"target.csv\", \"wb\") as f:\n",
    "    for chunk in r.iter_content():\n",
    "        f.write(chunk)"
   ]
  },
  {
   "cell_type": "code",
   "execution_count": 3,
   "id": "6594b067-2d34-4ce7-a63e-c32c065d5b5c",
   "metadata": {},
   "outputs": [
    {
     "name": "stderr",
     "output_type": "stream",
     "text": [
      "/usr/local/lib/python3.9/site-packages/IPython/core/interactiveshell.py:3444: DtypeWarning: Columns (13) have mixed types.Specify dtype option on import or set low_memory=False.\n",
      "  exec(code_obj, self.user_global_ns, self.user_ns)\n"
     ]
    }
   ],
   "source": [
    "df_features = pd.read_csv(\"features.csv\")\n",
    "df_target = pd.read_csv(\"target.csv\")\n",
    "df = df_features.merge(df_target, left_on='id', right_on='id')\n"
   ]
  },
  {
   "cell_type": "markdown",
   "id": "9812f45f-7c59-4251-8fd2-abcb6688c05d",
   "metadata": {},
   "source": [
    "# Selección de modelos\n",
    "\n",
    "Buscamos el mejor valor del parámetro var_smoothing, en dos datasets distintos: preprocessing_arboles_2(df) y preprocessing_arboles_4(df), utilizando Randomized Search."
   ]
  },
  {
   "cell_type": "code",
   "execution_count": 4,
   "id": "dd307073-d711-4c09-bc13-65291077cf3d",
   "metadata": {},
   "outputs": [
    {
     "name": "stdout",
     "output_type": "stream",
     "text": [
      "Best score: 0.8346249717861577\n",
      "Best params {'var_smoothing': 0.0767}\n"
     ]
    }
   ],
   "source": [
    "X_train1, X_test1, y_train1, y_test1 = preprocessing_arboles_2(df)\n",
    "\n",
    "params = {\n",
    "    'var_smoothing': np.arange(0.0001, 1, 0.0001)\n",
    "}\n",
    "\n",
    "gnb1 = GaussianNB()\n",
    "\n",
    "rgscv1 = RandomizedSearchCV(\n",
    "    gnb1, params, n_iter=60, scoring='roc_auc', n_jobs=-1, cv=5, return_train_score=True\n",
    ").fit(X_train1, y_train1)\n",
    "\n",
    "print(f\"Best score: {rgscv1.best_score_}\")\n",
    "print(f\"Best params {rgscv1.best_params_}\")"
   ]
  },
  {
   "cell_type": "code",
   "execution_count": 5,
   "id": "d9051e16-cfb9-430a-a877-5a6b961ee784",
   "metadata": {},
   "outputs": [
    {
     "name": "stdout",
     "output_type": "stream",
     "text": [
      "Best score: 0.8259010365487576\n",
      "Best params {'var_smoothing': 0.1479}\n"
     ]
    }
   ],
   "source": [
    "X_train2, X_test2, y_train2, y_test2 = preprocessing_arboles_4(df)\n",
    "\n",
    "params = {\n",
    "    'var_smoothing': np.arange(0.0001, 1, 0.0001)\n",
    "}\n",
    "\n",
    "gnb2 = GaussianNB()\n",
    "\n",
    "rgscv2 = RandomizedSearchCV(\n",
    "    gnb2, params, n_iter=60, scoring='roc_auc', n_jobs=-1, cv=5, return_train_score=True\n",
    ").fit(X_train2, y_train2)\n",
    "\n",
    "print(f\"Best score: {rgscv2.best_score_}\")\n",
    "print(f\"Best params {rgscv2.best_params_}\")"
   ]
  },
  {
   "cell_type": "markdown",
   "id": "84278ab4-f755-4d23-8d2e-5903ce8ac5a6",
   "metadata": {},
   "source": [
    "# Evaluación del modelo final\n",
    "\n",
    "El mejor modelo encontrado corresponde al preprocesamiento preprocessing_arboles_2(), con 'var_smoothing' = 0.0353.\n",
    "Entrenamos el modelo y evaluamos utilizando el set de holdout."
   ]
  },
  {
   "cell_type": "code",
   "execution_count": 15,
   "id": "13fc6edc-4d72-4061-94b7-b8c72a604497",
   "metadata": {},
   "outputs": [],
   "source": [
    "X_train, X_test, y_train, y_test = preprocessing_arboles_2(df)\n",
    "\n",
    "gnb = GaussianNB(var_smoothing=0.0767)\n",
    "gnb.fit(X_train, y_train)\n",
    "\n",
    "y_pred = gnb.predict(X_test)\n",
    "y_pred_proba = gnb.predict_proba(X_test)[:,1]"
   ]
  },
  {
   "cell_type": "code",
   "execution_count": 16,
   "id": "338028b8-73ce-42a0-b283-93426e628839",
   "metadata": {},
   "outputs": [
    {
     "name": "stdout",
     "output_type": "stream",
     "text": [
      "Auc Roc: 0.8348440584900338\n",
      "Accuracy: 0.8290160100737543\n",
      "Precision: 0.6619718309859155\n",
      "Recall: 0.4598450876477782\n",
      "F1 Score: 0.5426990618234303\n"
     ]
    }
   ],
   "source": [
    "print(f\"Auc Roc: {roc_auc_score(y_test, y_pred_proba)}\")\n",
    "print(f\"Accuracy: {accuracy_score(y_test, y_pred)}\")\n",
    "print(f\"Precision: {precision_score(y_test, y_pred)}\")\n",
    "print(f\"Recall: {recall_score(y_test, y_pred)}\")\n",
    "print(f\"F1 Score: {f1_score(y_test, y_pred)}\")"
   ]
  },
  {
   "cell_type": "markdown",
   "id": "3e6bdb31-0609-485c-8c6c-d4638b112834",
   "metadata": {},
   "source": [
    "## Matriz de confusión"
   ]
  },
  {
   "cell_type": "code",
   "execution_count": 17,
   "id": "673283a6-af7c-4730-9134-fcd3577e416e",
   "metadata": {},
   "outputs": [
    {
     "name": "stderr",
     "output_type": "stream",
     "text": [
      "/usr/local/lib/python3.9/site-packages/sklearn/utils/deprecation.py:87: FutureWarning: Function plot_confusion_matrix is deprecated; Function `plot_confusion_matrix` is deprecated in 1.0 and will be removed in 1.2. Use one of the class methods: ConfusionMatrixDisplay.from_predictions or ConfusionMatrixDisplay.from_estimator.\n",
      "  warnings.warn(msg, category=FutureWarning)\n"
     ]
    },
    {
     "data": {
      "image/png": "[encoded data removed]",
      "text/plain": [
       "<Figure size 900x420 with 2 Axes>"
      ]
     },
     "metadata": {
      "needs_background": "light"
     },
     "output_type": "display_data"
    }
   ],
   "source": [
    "fig, ax = plt.subplots(figsize=(15, 7))\n",
    "plt.grid(False)\n",
    "plot_confusion_matrix(\n",
    "    gnb, X_test, y_test, cmap=plt.cm.Blues, display_labels=['1', '0'], ax=ax\n",
    ")\n",
    "plt.show()"
   ]
  },
  {
   "cell_type": "markdown",
   "id": "edb13146-3c17-4407-a25c-69739f5f3d6f",
   "metadata": {},
   "source": [
    "## Curva ROC"
   ]
  },
  {
   "cell_type": "code",
   "execution_count": 18,
   "id": "3b7917d0-22fc-4fba-ab97-7cc6951f48ca",
   "metadata": {},
   "outputs": [
    {
     "data": {
      "image/png": "[encoded data removed]",
      "text/plain": [
       "<Figure size 360x240 with 1 Axes>"
      ]
     },
     "metadata": {
      "needs_background": "light"
     },
     "output_type": "display_data"
    }
   ],
   "source": [
    "fpr, tpr, thresholds = roc_curve(y_test, y_pred_proba)\n",
    "roc_auc = auc(fpr, tpr)\n",
    "display = RocCurveDisplay(fpr=fpr, tpr=tpr, roc_auc=roc_auc)\n",
    "display.plot()\n",
    "plt.show()"
   ]
  },
  {
   "cell_type": "markdown",
   "id": "78570a27-ac36-4246-ab49-a2e286d750e3",
   "metadata": {},
   "source": [
    "# Predicciones finales"
   ]
  },
  {
   "cell_type": "code",
   "execution_count": 24,
   "id": "9a573a22-fd7f-493f-9232-93d407c27272",
   "metadata": {},
   "outputs": [
    {
     "data": {
      "text/html": [
       "<div>\n",
       "<style scoped>\n",
       "    .dataframe tbody tr th:only-of-type {\n",
       "        vertical-align: middle;\n",
       "    }\n",
       "\n",
       "    .dataframe tbody tr th {\n",
       "        vertical-align: top;\n",
       "    }\n",
       "\n",
       "    .dataframe thead th {\n",
       "        text-align: right;\n",
       "    }\n",
       "</style>\n",
       "<table border=\"1\" class=\"dataframe\">\n",
       "  <thead>\n",
       "    <tr style=\"text-align: right;\">\n",
       "      <th></th>\n",
       "      <th>id</th>\n",
       "      <th>llovieron_hamburguesas_al_dia_siguiente</th>\n",
       "    </tr>\n",
       "  </thead>\n",
       "  <tbody>\n",
       "    <tr>\n",
       "      <th>0</th>\n",
       "      <td>116706</td>\n",
       "      <td>no</td>\n",
       "    </tr>\n",
       "    <tr>\n",
       "      <th>1</th>\n",
       "      <td>58831</td>\n",
       "      <td>no</td>\n",
       "    </tr>\n",
       "    <tr>\n",
       "      <th>2</th>\n",
       "      <td>31981</td>\n",
       "      <td>no</td>\n",
       "    </tr>\n",
       "    <tr>\n",
       "      <th>3</th>\n",
       "      <td>2533</td>\n",
       "      <td>no</td>\n",
       "    </tr>\n",
       "    <tr>\n",
       "      <th>4</th>\n",
       "      <td>7270</td>\n",
       "      <td>si</td>\n",
       "    </tr>\n",
       "    <tr>\n",
       "      <th>...</th>\n",
       "      <td>...</td>\n",
       "      <td>...</td>\n",
       "    </tr>\n",
       "    <tr>\n",
       "      <th>29087</th>\n",
       "      <td>73456</td>\n",
       "      <td>no</td>\n",
       "    </tr>\n",
       "    <tr>\n",
       "      <th>29088</th>\n",
       "      <td>14471</td>\n",
       "      <td>no</td>\n",
       "    </tr>\n",
       "    <tr>\n",
       "      <th>29089</th>\n",
       "      <td>106482</td>\n",
       "      <td>no</td>\n",
       "    </tr>\n",
       "    <tr>\n",
       "      <th>29090</th>\n",
       "      <td>21057</td>\n",
       "      <td>si</td>\n",
       "    </tr>\n",
       "    <tr>\n",
       "      <th>29091</th>\n",
       "      <td>102055</td>\n",
       "      <td>no</td>\n",
       "    </tr>\n",
       "  </tbody>\n",
       "</table>\n",
       "<p>29092 rows × 2 columns</p>\n",
       "</div>"
      ],
      "text/plain": [
       "           id llovieron_hamburguesas_al_dia_siguiente\n",
       "0      116706                                      no\n",
       "1       58831                                      no\n",
       "2       31981                                      no\n",
       "3        2533                                      no\n",
       "4        7270                                      si\n",
       "...       ...                                     ...\n",
       "29087   73456                                      no\n",
       "29088   14471                                      no\n",
       "29089  106482                                      no\n",
       "29090   21057                                      si\n",
       "29091  102055                                      no\n",
       "\n",
       "[29092 rows x 2 columns]"
      ]
     },
     "execution_count": 24,
     "metadata": {},
     "output_type": "execute_result"
    }
   ],
   "source": [
    "with requests.get(\n",
    "    \"https://docs.google.com/spreadsheets/d/1mR_JNN0-ceiB5qV42Ff9hznz0HtWaoPF3B9zNGoNPY8/export?format=csv\") as r, open(\"pred.csv\", \"wb\") as f:\n",
    "    for chunk in r.iter_content():\n",
    "        f.write(chunk)\n",
    "\n",
    "df_pred = pd.read_csv(\"pred.csv\")\n",
    "\n",
    "df_pred_preprocess = preprocessing_nb_pred(df_pred)\n",
    "y_pred_final = gnb.predict(df_pred_preprocess)\n",
    "df_pred_final = pd.DataFrame({'id': df_pred['id'], 'llovieron_hamburguesas_al_dia_siguiente': y_pred_final})\n",
    "df_pred_final.loc[df_pred_final['llovieron_hamburguesas_al_dia_siguiente'] == 1, 'llovieron_hamburguesas_al_dia_siguiente'] = 'si'\n",
    "df_pred_final.loc[df_pred_final['llovieron_hamburguesas_al_dia_siguiente'] == 0, 'llovieron_hamburguesas_al_dia_siguiente'] = 'no'\n",
    "\n",
    "df_pred_final"
   ]
  },
  {
   "cell_type": "code",
   "execution_count": 25,
   "id": "66844afd-ef31-4be8-b454-c718f1638cde",
   "metadata": {},
   "outputs": [],
   "source": [
    "df_pred_final.to_csv('predicciones/naive_bayes.csv', index=False)"
   ]
  },
  {
   "cell_type": "code",
   "execution_count": null,
   "id": "fadb2449-1176-4117-9285-6feac113bd20",
   "metadata": {},
   "outputs": [],
   "source": []
  }
 ],
 "metadata": {
  "kernelspec": {
   "display_name": "Python 3 (ipykernel)",
   "language": "python",
   "name": "python3"
  },
  "language_info": {
   "codemirror_mode": {
    "name": "ipython",
    "version": 3
   },
   "file_extension": ".py",
   "mimetype": "text/x-python",
   "name": "python",
   "nbconvert_exporter": "python",
   "pygments_lexer": "ipython3",
   "version": "3.9.9"
  }
 },
 "nbformat": 4,
 "nbformat_minor": 5
}
