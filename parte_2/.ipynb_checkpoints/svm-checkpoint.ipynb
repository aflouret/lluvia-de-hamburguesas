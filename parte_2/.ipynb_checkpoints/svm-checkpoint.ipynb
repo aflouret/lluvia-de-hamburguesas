{
 "cells": [
  {
   "cell_type": "code",
   "execution_count": 30,
   "id": "252d48ed-cb37-4226-a164-75d60e24e45d",
   "metadata": {},
   "outputs": [],
   "source": [
    "import numpy as np\n",
    "import pandas as pd\n",
    "import matplotlib \n",
    "from matplotlib import pyplot as plt\n",
    "import seaborn as sns\n",
    "from sklearn.preprocessing import OneHotEncoder\n",
    "from sklearn.metrics import accuracy_score, roc_auc_score, precision_score, recall_score, roc_curve, auc\n",
    "from sklearn.dummy import DummyClassifier\n",
    "from sklearn.model_selection import train_test_split\n",
    "from sklearn.model_selection import GridSearchCV, RandomizedSearchCV\n",
    "from sklearn.neighbors import KNeighborsClassifier\n",
    "\n",
    "#from preprocessing import preprocess\n",
    "plt.rcParams[\"figure.dpi\"] = 150"
   ]
  },
  {
   "cell_type": "code",
   "execution_count": 31,
   "id": "918671b8-fc01-469a-8ba3-79dd8912270c",
   "metadata": {},
   "outputs": [],
   "source": [
    "# from collections import Counter\n",
    "# import requests\n",
    "\n",
    "# with requests.get(\n",
    "#     \"https://docs.google.com/spreadsheets/d/1wduqo5WyYmCpaGnE81sLNGU0VSodIekMfpmEwU0fGqs/export?format=csv\") as r, open(\"features.csv\", \"wb\") as f:\n",
    "#     for chunk in r.iter_content():\n",
    "#         f.write(chunk)\n",
    "\n",
    "# with requests.get(\n",
    "#     \"https://docs.google.com/spreadsheets/d/1gvZ03uAL6THwd04Y98GtIj6SeAHiKyQY5UisuuyFSUs/export?format=csv\") as r, open(\"target.csv\", \"wb\") as f:\n",
    "#     for chunk in r.iter_content():\n",
    "#         f.write(chunk)"
   ]
  },
  {
   "cell_type": "code",
   "execution_count": 32,
   "id": "6594b067-2d34-4ce7-a63e-c32c065d5b5c",
   "metadata": {},
   "outputs": [
    {
     "name": "stderr",
     "output_type": "stream",
     "text": [
      "/usr/local/lib/python3.9/site-packages/IPython/core/interactiveshell.py:3444: DtypeWarning: Columns (13) have mixed types.Specify dtype option on import or set low_memory=False.\n",
      "  exec(code_obj, self.user_global_ns, self.user_ns)\n"
     ]
    }
   ],
   "source": [
    "df_features = pd.read_csv(\"features.csv\")\n",
    "df_target = pd.read_csv(\"target.csv\")\n",
    "df = df_features.merge(df_target, left_on='id', right_on='id')\n"
   ]
  },
  {
   "cell_type": "code",
   "execution_count": 33,
   "id": "576c7d84-ac17-4cbd-bb3b-28b3adf6a5b7",
   "metadata": {},
   "outputs": [],
   "source": [
    "def basic_preprocessing(df: pd.DataFrame):\n",
    "    df['presion_atmosferica_tarde'] = pd.to_numeric(df['presion_atmosferica_tarde'],errors='coerce')    \n",
    "    df['dia'] = pd.to_datetime(df['dia'])\n",
    "    df = df.dropna(subset=['llovieron_hamburguesas_al_dia_siguiente']) \n",
    "    df = df.dropna(subset=['llovieron_hamburguesas_hoy'])\n",
    "    df = df.drop(columns = ['id', 'barrio', 'mm_evaporados_agua'])\n",
    "    df['mes'] = df['dia'].dt.month\n",
    "    df = df.drop(columns = ['dia']) \n",
    "    df = df[df.isnull().mean(1) < 0.4]\n",
    "    \n",
    "    label_encoder = preprocessing.LabelEncoder()\n",
    "    \n",
    "    label_encoder.fit(df['llovieron_hamburguesas_hoy'])\n",
    "    df['llovieron_hamburguesas_hoy'] = label_encoder.transform(df['llovieron_hamburguesas_hoy'])\n",
    "\n",
    "    label_encoder.fit(df['llovieron_hamburguesas_al_dia_siguiente'])\n",
    "    df['llovieron_hamburguesas_al_dia_siguiente'] = label_encoder.transform(df['llovieron_hamburguesas_al_dia_siguiente'])\n",
    "    \n",
    "    return df"
   ]
  },
  {
   "cell_type": "code",
   "execution_count": 34,
   "id": "fe2f9dd3-d3e3-471f-b7cb-c41f26c5e99c",
   "metadata": {},
   "outputs": [],
   "source": [
    "def preprocessing1(df: pd.DataFrame):\n",
    "    \n",
    "    df = basic_preprocessing(df)\n",
    "\n",
    "    df = pd.get_dummies(df, drop_first=True, dummy_na=True, columns=['direccion_viento_temprano', 'rafaga_viento_max_direccion', 'direccion_viento_tarde'])\n",
    "\n",
    "    df['horas_de_sol'] = df['horas_de_sol'].fillna(df['horas_de_sol'].mean())\n",
    "    df['nubosidad_tarde'] = df['nubosidad_tarde'].fillna(df['nubosidad_tarde'].mean()).astype('int')\n",
    "    df['nubosidad_temprano'] = df['nubosidad_temprano'].fillna(df['nubosidad_temprano'].mean())\n",
    "    df['presion_atmosferica_temprano'] = df['presion_atmosferica_temprano'].fillna(df['presion_atmosferica_temprano'].mean())\n",
    "    df['presion_atmosferica_tarde'] = df['presion_atmosferica_tarde'].fillna(df['presion_atmosferica_tarde'].mean())\n",
    "    df['rafaga_viento_max_velocidad'] = df['rafaga_viento_max_velocidad'].fillna(df['rafaga_viento_max_velocidad'].mean())\n",
    "    df['humedad_tarde'] = df['humedad_tarde'].fillna(df['humedad_tarde'].mean())\n",
    "    df['temperatura_tarde'] = df['temperatura_tarde'].fillna(df['temperatura_tarde'].mean())\n",
    "    df['mm_lluvia_dia'] = df['mm_lluvia_dia'].fillna(df['mm_lluvia_dia'].median())\n",
    "    df['velocidad_viendo_tarde'] = df['velocidad_viendo_tarde'].fillna(df['velocidad_viendo_tarde'].mean())\n",
    "    df['humedad_temprano'] = df['humedad_temprano'].fillna(df['humedad_temprano'].mean())\n",
    "    df['velocidad_viendo_temprano'] = df['velocidad_viendo_temprano'].fillna(df['velocidad_viendo_temprano'].mean())\n",
    "    df['temperatura_temprano'] = df['temperatura_temprano'].fillna(df['temperatura_temprano'].mean())\n",
    "    df['temp_min'] = df['temp_min'].fillna(df['temp_min'].mean())\n",
    "    df['temp_max'] = df['temp_max'].fillna(df['temp_max'].mean())\n",
    "    \n",
    "    return df"
   ]
  },
  {
   "cell_type": "code",
   "execution_count": 35,
   "id": "7436898b-51f3-4249-a97a-7a568e4b04c9",
   "metadata": {},
   "outputs": [],
   "source": [
    "def preprocessing2(df: pd.DataFrame):\n",
    "    df = basic_preprocessing(df)\n",
    "\n",
    "\n",
    "    df = df.drop(columns = ['direccion_viento_temprano', 'rafaga_viento_max_direccion', 'direccion_viento_tarde', 'mes', 'llovieron_hamburguesas_hoy']) \n",
    "\n",
    "    df['horas_de_sol'] = df['horas_de_sol'].fillna(df['horas_de_sol'].mean())\n",
    "    df['nubosidad_tarde'] = df['nubosidad_tarde'].fillna(df['nubosidad_tarde'].mean())\n",
    "    df['nubosidad_temprano'] = df['nubosidad_temprano'].fillna(df['nubosidad_temprano'].mean())\n",
    "    df['presion_atmosferica_temprano'] = df['presion_atmosferica_temprano'].fillna(df['presion_atmosferica_temprano'].mean())\n",
    "    df['presion_atmosferica_tarde'] = df['presion_atmosferica_tarde'].fillna(df['presion_atmosferica_tarde'].mean())\n",
    "    df['rafaga_viento_max_velocidad'] = df['rafaga_viento_max_velocidad'].fillna(df['rafaga_viento_max_velocidad'].mean())\n",
    "    df['humedad_tarde'] = df['humedad_tarde'].fillna(df['humedad_tarde'].mean())\n",
    "    df['temperatura_tarde'] = df['temperatura_tarde'].fillna(df['temperatura_tarde'].mean())\n",
    "    df['mm_lluvia_dia'] = df['mm_lluvia_dia'].fillna(df['mm_lluvia_dia'].median())\n",
    "    df['velocidad_viendo_tarde'] = df['velocidad_viendo_tarde'].fillna(df['velocidad_viendo_tarde'].mean())\n",
    "    df['humedad_temprano'] = df['humedad_temprano'].fillna(df['humedad_temprano'].mean())\n",
    "    df['velocidad_viendo_temprano'] = df['velocidad_viendo_temprano'].fillna(df['velocidad_viendo_temprano'].mean())\n",
    "    df['temperatura_temprano'] = df['temperatura_temprano'].fillna(df['temperatura_temprano'].mean())\n",
    "    df['temp_min'] = df['temp_min'].fillna(df['temp_min'].mean())\n",
    "    df['temp_max'] = df['temp_max'].fillna(df['temp_max'].mean())\n",
    "\n",
    "    return df"
   ]
  },
  {
   "cell_type": "code",
   "execution_count": 36,
   "id": "a2e4a28c-3d5e-4055-9229-3bdececb54b0",
   "metadata": {},
   "outputs": [],
   "source": [
    "def preprocessing3(df: pd.DataFrame):\n",
    "    df = basic_preprocessing(df)\n",
    "\n",
    "\n",
    "    df = df.drop(columns = ['direccion_viento_temprano', 'rafaga_viento_max_direccion', 'direccion_viento_tarde', 'mes',\n",
    "                           'horas_de_sol', 'nubosidad_tarde', 'nubosidad_temprano']) \n",
    "\n",
    "    df['presion_atmosferica_temprano'] = df['presion_atmosferica_temprano'].fillna(df['presion_atmosferica_temprano'].mean())\n",
    "    df['presion_atmosferica_tarde'] = df['presion_atmosferica_tarde'].fillna(df['presion_atmosferica_tarde'].mean())\n",
    "    df['rafaga_viento_max_velocidad'] = df['rafaga_viento_max_velocidad'].fillna(df['rafaga_viento_max_velocidad'].mean())\n",
    "    df['humedad_tarde'] = df['humedad_tarde'].fillna(df['humedad_tarde'].mean())\n",
    "    df['temperatura_tarde'] = df['temperatura_tarde'].fillna(df['temperatura_tarde'].mean())\n",
    "    df['mm_lluvia_dia'] = df['mm_lluvia_dia'].fillna(df['mm_lluvia_dia'].median())\n",
    "    df['velocidad_viendo_tarde'] = df['velocidad_viendo_tarde'].fillna(df['velocidad_viendo_tarde'].mean())\n",
    "    df['humedad_temprano'] = df['humedad_temprano'].fillna(df['humedad_temprano'].mean())\n",
    "    df['velocidad_viendo_temprano'] = df['velocidad_viendo_temprano'].fillna(df['velocidad_viendo_temprano'].mean())\n",
    "    df['temperatura_temprano'] = df['temperatura_temprano'].fillna(df['temperatura_temprano'].mean())\n",
    "    df['temp_min'] = df['temp_min'].fillna(df['temp_min'].mean())\n",
    "    df['temp_max'] = df['temp_max'].fillna(df['temp_max'].mean())\n",
    "    \n",
    "    return df"
   ]
  },
  {
   "cell_type": "code",
   "execution_count": 37,
   "id": "2486f09a-c405-4c79-9c9f-ded87e42d865",
   "metadata": {},
   "outputs": [],
   "source": [
    "def preprocessing4(df: pd.DataFrame):\n",
    "    df = basic_preprocessing(df)\n",
    "\n",
    "\n",
    "    df = df.drop(columns = ['direccion_viento_temprano', 'rafaga_viento_max_direccion', 'direccion_viento_tarde', 'mes',\n",
    "                           'horas_de_sol', 'nubosidad_tarde', 'nubosidad_temprano', 'temperatura_temprano', 'presion_atmosferica_temprano',\n",
    "                           'velocidad_viendo_temprano', 'temperatura_temprano', 'temp_min', 'temp_max']) \n",
    "\n",
    "    df['presion_atmosferica_tarde'] = df['presion_atmosferica_tarde'].fillna(df['presion_atmosferica_tarde'].mean())\n",
    "    df['rafaga_viento_max_velocidad'] = df['rafaga_viento_max_velocidad'].fillna(df['rafaga_viento_max_velocidad'].mean())\n",
    "    df['humedad_tarde'] = df['humedad_tarde'].fillna(df['humedad_tarde'].mean())\n",
    "    df['temperatura_tarde'] = df['temperatura_tarde'].fillna(df['temperatura_tarde'].mean())\n",
    "    df['mm_lluvia_dia'] = df['mm_lluvia_dia'].fillna(df['mm_lluvia_dia'].median())\n",
    "    df['velocidad_viendo_tarde'] = df['velocidad_viendo_tarde'].fillna(df['velocidad_viendo_tarde'].mean())\n",
    "    df['humedad_temprano'] = df['humedad_temprano'].fillna(df['humedad_temprano'].mean())\n",
    "\n",
    "    \n",
    "    return df"
   ]
  },
  {
   "cell_type": "code",
   "execution_count": 38,
   "id": "f0d6c542-0fa1-494b-a7ed-1e5e06cec118",
   "metadata": {},
   "outputs": [],
   "source": [
    "def split(df):\n",
    "    \n",
    "    X = df.drop(columns=['llovieron_hamburguesas_al_dia_siguiente'])\n",
    "    y = df['llovieron_hamburguesas_al_dia_siguiente']\n",
    "    \n",
    "    X_train, X_test, y_train, y_test = train_test_split(X, y, random_state=117, test_size=0.1, stratify=y)\n",
    "\n",
    "    return X_train, X_test, y_train, y_test"
   ]
  },
  {
   "cell_type": "code",
   "execution_count": 39,
   "id": "a8ce7aa4-8430-4601-8355-e2cfce4970c7",
   "metadata": {},
   "outputs": [],
   "source": [
    "def plot_roc(_fpr, _tpr, x):\n",
    "\n",
    "    roc_auc = auc(_fpr, _tpr)\n",
    "\n",
    "    plt.figure(figsize=(15, 10))\n",
    "    plt.plot(\n",
    "        _fpr, _tpr, color='darkorange', lw=2, label=f'ROC curve (area = {roc_auc:.2f})'\n",
    "    )\n",
    "    plt.scatter(_fpr, x)\n",
    "    plt.plot([0, 1], [0, 1], color='navy', lw=2, linestyle='--')\n",
    "    plt.xlim([0.0, 1.0])\n",
    "    plt.ylim([0.0, 1.05])\n",
    "    plt.xlabel('False Positive Rate')\n",
    "    plt.ylabel('True Positive Rate')\n",
    "    plt.title('Receiver operating characteristic')\n",
    "    plt.legend(loc=\"lower right\")\n",
    "    plt.show()\n",
    "\n"
   ]
  },
  {
   "cell_type": "code",
   "execution_count": 48,
   "id": "dd307073-d711-4c09-bc13-65291077cf3d",
   "metadata": {},
   "outputs": [
    {
     "data": {
      "text/plain": [
       "KNeighborsClassifier()"
      ]
     },
     "execution_count": 48,
     "metadata": {},
     "output_type": "execute_result"
    }
   ],
   "source": [
    "params = {\n",
    "    'n_neighbors': np.arange(5, 6),\n",
    "    'weights': ['uniform', 'distance'],\n",
    "    'metric': ['euclidean', 'cosine']\n",
    "}\n",
    "\n",
    "knn1 = KNeighborsClassifier()\n",
    "\n",
    "rgscv1 = RandomizedSearchCV(\n",
    "    knn1, params, scoring='roc_auc', n_jobs=-1, cv=5, return_train_score=True\n",
    ").fit(X_train, y_train)\n",
    "\n",
    "print(f\"Best score: {gscv1.best_score_}\")\n",
    "print(f\"Best params {gscv1.best_params_}\")"
   ]
  },
  {
   "cell_type": "code",
   "execution_count": 54,
   "id": "13fc6edc-4d72-4061-94b7-b8c72a604497",
   "metadata": {},
   "outputs": [],
   "source": [
    "\n",
    "y_pred = knn.predict(X_test)\n",
    "y_pred_proba = knn.predict_proba(X_test)[:,1]"
   ]
  },
  {
   "cell_type": "code",
   "execution_count": 55,
   "id": "47c70ec4-aed5-4900-931a-b7de6c8a9241",
   "metadata": {},
   "outputs": [
    {
     "data": {
      "text/plain": [
       "0.8393306944944224"
      ]
     },
     "execution_count": 55,
     "metadata": {},
     "output_type": "execute_result"
    }
   ],
   "source": [
    "accuracy_score(y_test, y_pred)"
   ]
  },
  {
   "cell_type": "code",
   "execution_count": 56,
   "id": "53fa1e95-e7ca-462d-8bb6-9abc0e9ecd33",
   "metadata": {},
   "outputs": [
    {
     "data": {
      "text/plain": [
       "0.8232383963380536"
      ]
     },
     "execution_count": 56,
     "metadata": {},
     "output_type": "execute_result"
    }
   ],
   "source": [
    "roc_auc_score(y_test, y_pred_proba)"
   ]
  },
  {
   "cell_type": "code",
   "execution_count": 57,
   "id": "656ebadc-b870-4335-b973-05ed5d7098c6",
   "metadata": {},
   "outputs": [
    {
     "data": {
      "text/plain": [
       "0.6866256295467263"
      ]
     },
     "execution_count": 57,
     "metadata": {},
     "output_type": "execute_result"
    }
   ],
   "source": [
    "precision_score(y_test, y_pred)"
   ]
  },
  {
   "cell_type": "code",
   "execution_count": 58,
   "id": "db6283c7-3e7c-40c8-9eef-b3089d01b925",
   "metadata": {},
   "outputs": [
    {
     "data": {
      "text/plain": [
       "0.500203832042397"
      ]
     },
     "execution_count": 58,
     "metadata": {},
     "output_type": "execute_result"
    }
   ],
   "source": [
    "recall_score(y_test, y_pred)"
   ]
  },
  {
   "cell_type": "code",
   "execution_count": null,
   "id": "3b7917d0-22fc-4fba-ab97-7cc6951f48ca",
   "metadata": {},
   "outputs": [],
   "source": []
  },
  {
   "cell_type": "code",
   "execution_count": null,
   "id": "dbb1f790-1859-497e-a3a4-b03464f3bfaa",
   "metadata": {},
   "outputs": [],
   "source": []
  },
  {
   "cell_type": "code",
   "execution_count": null,
   "id": "67a12d78-42c4-4a32-a6cd-86b274a1dca9",
   "metadata": {},
   "outputs": [],
   "source": []
  }
 ],
 "metadata": {
  "kernelspec": {
   "display_name": "Python 3 (ipykernel)",
   "language": "python",
   "name": "python3"
  },
  "language_info": {
   "codemirror_mode": {
    "name": "ipython",
    "version": 3
   },
   "file_extension": ".py",
   "mimetype": "text/x-python",
   "name": "python",
   "nbconvert_exporter": "python",
   "pygments_lexer": "ipython3",
   "version": "3.9.9"
  }
 },
 "nbformat": 4,
 "nbformat_minor": 5
}
