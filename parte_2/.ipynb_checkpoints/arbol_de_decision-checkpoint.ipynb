{
 "cells": [
  {
   "cell_type": "markdown",
   "id": "d4be7d9c-c613-4992-ac45-1d3f8346ec0b",
   "metadata": {},
   "source": [
    "# Árboles de decisión"
   ]
  },
  {
   "cell_type": "code",
   "execution_count": 1,
   "id": "252d48ed-cb37-4226-a164-75d60e24e45d",
   "metadata": {
    "id": "252d48ed-cb37-4226-a164-75d60e24e45d"
   },
   "outputs": [],
   "source": [
    "import numpy as np\n",
    "import pandas as pd\n",
    "import matplotlib \n",
    "from matplotlib import pyplot as plt\n",
    "import seaborn as sns\n",
    "from sklearn.metrics import accuracy_score, roc_auc_score, precision_score, recall_score, f1_score, roc_curve, auc, plot_confusion_matrix, RocCurveDisplay\n",
    "from sklearn.model_selection import GridSearchCV, RandomizedSearchCV\n",
    "\n",
    "from sklearn import tree\n",
    "\n",
    "from preprocessing import *\n",
    "\n",
    "plt.rcParams[\"figure.dpi\"] = 60"
   ]
  },
  {
   "cell_type": "markdown",
   "id": "b16c6480-3d1b-4b4e-8857-3815e9b2cbd1",
   "metadata": {
    "id": "b16c6480-3d1b-4b4e-8857-3815e9b2cbd1"
   },
   "source": [
    "# Carga del dataset\n",
    "Leemos el dataset y lo separamos en datos de training y de evaluación."
   ]
  },
  {
   "cell_type": "code",
   "execution_count": 5,
   "id": "6594b067-2d34-4ce7-a63e-c32c065d5b5c",
   "metadata": {
    "id": "6594b067-2d34-4ce7-a63e-c32c065d5b5c"
   },
   "outputs": [],
   "source": [
    "df = pd.read_csv(\"df_train.csv\")\n",
    "X = df.drop(columns=['llovieron_hamburguesas_al_dia_siguiente'])\n",
    "y = df['llovieron_hamburguesas_al_dia_siguiente']\n",
    "X_train, X_eval, y_train, y_eval = train_test_split(X, y, random_state=117, test_size=0.1, stratify=y.astype(str))"
   ]
  },
  {
   "cell_type": "markdown",
   "id": "06ef53ca-fbf8-4d62-9b16-21832e303b29",
   "metadata": {
    "id": "06ef53ca-fbf8-4d62-9b16-21832e303b29"
   },
   "source": [
    "# Selección de modelos\n",
    "\n",
    "Para encontrar el mejor modelo, probaremos utilizando 4 preprocesamientos distintos. Por cada uno de ellos, buscaremos la mejor combinación de hiperparámetros mediante Randomized Search, con el objetivo de maximizar la métrica AUC ROC.\n",
    "\n",
    "Los hiperparámetros que buscaremos son:\n",
    "- **max_depth:** es la máxima profundidad que puede tener el árbol. Probaremos con valores entre 1 y 15, ya que para valores más grandes es muy probable que ocurra overfitting, al acercarse la cantidad de hojas a la cantidad de instancias.\n",
    "- **min_samples_leaf:** la mínima cantidad de muestras en cada nodo hoja. En este caso probaremos con un rango amplio de valores, entre 1 y 300.\n",
    "- **criterion:** es el criterio para determinar qué feature se agrega al arbol en un nodo nuevo en cada iteración. Hay dos criterios: *gini* (busca reducir la impureza de Gini) y *entropy* (busca reducir la entropía). Los dos criterios se suelen utilizar mucho en la práctica, por lo tanto probaremos con ambos."
   ]
  },
  {
   "cell_type": "markdown",
   "id": "5b30cd07-9226-47aa-aa26-a9c68126cf54",
   "metadata": {},
   "source": [
    "En primer lugar probamos con el dataset completo, codificando las variables categóricas con One Hot Encoding:"
   ]
  },
  {
   "cell_type": "code",
   "execution_count": 6,
   "id": "2e9b1fc0-0164-4e26-8be0-37e01dc6e3e1",
   "metadata": {
    "colab": {
     "base_uri": "https://localhost:8080/"
    },
    "id": "2e9b1fc0-0164-4e26-8be0-37e01dc6e3e1",
    "outputId": "2a5e71ef-c2b5-4e34-924b-e13e483d9461"
   },
   "outputs": [
    {
     "name": "stdout",
     "output_type": "stream",
     "text": [
      "Best score: 0.8567452572514875\n",
      "Best params {'min_samples_leaf': 122, 'max_depth': 9, 'criterion': 'entropy'}\n"
     ]
    }
   ],
   "source": [
    "X_train1 = preprocessing_arboles_1(X_train)\n",
    "params = {\n",
    "    'max_depth': np.arange(1, 15),\n",
    "    'min_samples_leaf': np.arange(1, 300),\n",
    "    \"criterion\": [\"gini\", \"entropy\"],\n",
    "}\n",
    "\n",
    "clf1 = tree.DecisionTreeClassifier(random_state=117)\n",
    "\n",
    "rgscv1 = RandomizedSearchCV(\n",
    "    clf1, params, n_iter = 180, scoring='roc_auc', n_jobs=-1, cv=5, return_train_score=True\n",
    ").fit(X_train1, y_train)\n",
    "\n",
    "print(f\"Best score: {rgscv1.best_score_}\")\n",
    "print(f\"Best params {rgscv1.best_params_}\")"
   ]
  },
  {
   "cell_type": "markdown",
   "id": "4e29df9e-26d8-4915-afa1-1e1d76c83346",
   "metadata": {},
   "source": [
    "El segundo preprocesamiento elimina los features categóricos:"
   ]
  },
  {
   "cell_type": "code",
   "execution_count": 7,
   "id": "1ff2aea9-3ac4-418b-a604-47097d53807f",
   "metadata": {
    "colab": {
     "base_uri": "https://localhost:8080/"
    },
    "id": "1ff2aea9-3ac4-418b-a604-47097d53807f",
    "outputId": "4c9f4f09-1053-48c6-8f4c-e4162574f3d4"
   },
   "outputs": [
    {
     "name": "stdout",
     "output_type": "stream",
     "text": [
      "Best score: 0.856347769040689\n",
      "Best params {'min_samples_leaf': 154, 'max_depth': 9, 'criterion': 'entropy'}\n"
     ]
    }
   ],
   "source": [
    "X_train2 = preprocessing_arboles_2(X_train)\n",
    "params = {\n",
    "    'max_depth': np.arange(1, 15),\n",
    "    'min_samples_leaf': np.arange(1, 300),\n",
    "    \"criterion\": [\"gini\", \"entropy\"],\n",
    "}\n",
    "\n",
    "clf2 = tree.DecisionTreeClassifier(random_state=117)\n",
    "\n",
    "rgscv2 = RandomizedSearchCV(\n",
    "    clf2, params, n_iter = 180, scoring='roc_auc', n_jobs=-1, cv=5, return_train_score=True\n",
    ").fit(X_train2, y_train)\n",
    "\n",
    "print(f\"Best score: {rgscv2.best_score_}\")\n",
    "print(f\"Best params {rgscv2.best_params_}\")"
   ]
  },
  {
   "cell_type": "markdown",
   "id": "d5a0f8f1-34d5-4054-8509-86eea1a13590",
   "metadata": {},
   "source": [
    "El tercer preprocesamiento elimina columnas con alta cantidad de valores faltantes, y aplica One Hot Encoding para las variables categóricas:"
   ]
  },
  {
   "cell_type": "code",
   "execution_count": 8,
   "id": "2c893ad2-2217-44be-8059-e04133eb79dc",
   "metadata": {
    "colab": {
     "base_uri": "https://localhost:8080/"
    },
    "id": "2c893ad2-2217-44be-8059-e04133eb79dc",
    "outputId": "1526c1a8-546a-4d22-e3d6-9259fc3e6e03"
   },
   "outputs": [
    {
     "name": "stdout",
     "output_type": "stream",
     "text": [
      "Best score: 0.8500166727120112\n",
      "Best params {'min_samples_leaf': 116, 'max_depth': 10, 'criterion': 'entropy'}\n"
     ]
    }
   ],
   "source": [
    "X_train3 = preprocessing_arboles_3(X_train)\n",
    "params = {\n",
    "    'max_depth': np.arange(1, 15),\n",
    "    'min_samples_leaf': np.arange(1, 300),\n",
    "    \"criterion\": [\"gini\", \"entropy\"],\n",
    "}\n",
    "\n",
    "clf3 = tree.DecisionTreeClassifier(random_state=117)\n",
    "\n",
    "rgscv3 = RandomizedSearchCV(\n",
    "    clf3, params, n_iter = 180, scoring='roc_auc', n_jobs=-1, cv=5, return_train_score=True\n",
    ").fit(X_train3, y_train)\n",
    "\n",
    "print(f\"Best score: {rgscv3.best_score_}\")\n",
    "print(f\"Best params {rgscv3.best_params_}\")"
   ]
  },
  {
   "cell_type": "markdown",
   "id": "c87a21b6-2d88-4999-bd49-1c4acca692e9",
   "metadata": {},
   "source": [
    "Por último, probamos con un preprocesamiento que elimina todos los features que consideramos irrelevantes de acuerdo a los análisis del TP1:"
   ]
  },
  {
   "cell_type": "code",
   "execution_count": 9,
   "id": "1ed4f1f3-5016-46ef-a21d-82a6a86ea2b0",
   "metadata": {
    "colab": {
     "base_uri": "https://localhost:8080/"
    },
    "id": "1ed4f1f3-5016-46ef-a21d-82a6a86ea2b0",
    "outputId": "53761c1e-bbe2-42f8-ffb3-84848b673545"
   },
   "outputs": [
    {
     "name": "stdout",
     "output_type": "stream",
     "text": [
      "Best score: 0.8493119094136488\n",
      "Best params {'min_samples_leaf': 176, 'max_depth': 11, 'criterion': 'gini'}\n"
     ]
    }
   ],
   "source": [
    "X_train4 = preprocessing_arboles_4(X_train)\n",
    "params = {\n",
    "    'max_depth': np.arange(1, 15),\n",
    "    'min_samples_leaf': np.arange(1, 300),\n",
    "    \"criterion\": [\"gini\", \"entropy\"],\n",
    "}\n",
    "\n",
    "clf4 = tree.DecisionTreeClassifier(random_state=117)\n",
    "\n",
    "rgscv4 = RandomizedSearchCV(\n",
    "    clf4, params, n_iter = 180, scoring='roc_auc', n_jobs=-1, cv=5, return_train_score=True\n",
    ").fit(X_train4, y_train)\n",
    "\n",
    "print(f\"Best score: {rgscv4.best_score_}\")\n",
    "print(f\"Best params {rgscv4.best_params_}\")"
   ]
  },
  {
   "cell_type": "markdown",
   "id": "a645ec96-7188-488b-bfe0-d8c9f3e1c4d3",
   "metadata": {},
   "source": [
    "Comparando los resultados obtenidos, se puede ver que el parámetro min_samples_leaf está entre 100 y 200 en todos los casos. No se obtuvieron valores pequeños (cercanos a 1), los cuales favorecerían el overfitting. De igual modo, max_depth está entre 9 y 11, los cuales no son valores altos que favorecen el overfitting. Por último, vemos que el criterio que prevaleció en 3 de las 4 búsquedas es el de entropy.\n",
    "\n",
    "En cuanto a las métricas, el dataset que tuvo mejor performance fue el primero, aunque la diferencia no es muy grande respecto de los otros."
   ]
  },
  {
   "cell_type": "markdown",
   "id": "a99c1ee9-9322-4fc0-9dd4-f80d84d693c6",
   "metadata": {
    "id": "a99c1ee9-9322-4fc0-9dd4-f80d84d693c6"
   },
   "source": [
    "# Evaluación del modelo final\n",
    "\n",
    "El mejor modelo encontrado corresponde al preprocesamiento preprocessing_arboles_1 , con 'min_samples_leaf': 122, 'max_depth': 9, 'criterion': 'entropy'.\n",
    "Entrenamos el modelo y evaluamos utilizando el set de evaluación."
   ]
  },
  {
   "cell_type": "code",
   "execution_count": 14,
   "id": "e19b01d2-8414-46db-8e6c-49bf0806d994",
   "metadata": {
    "id": "e19b01d2-8414-46db-8e6c-49bf0806d994"
   },
   "outputs": [],
   "source": [
    "X_eval = preprocessing_arboles_1(X_eval)\n",
    "\n",
    "clf = tree.DecisionTreeClassifier(random_state=117, max_depth=9, min_samples_leaf=122, criterion='entropy')\n",
    "clf.fit(X_train1, y_train)\n",
    "\n",
    "y_pred = clf.predict(X_eval)\n",
    "y_pred_proba = clf.predict_proba(X_eval)[:,1]"
   ]
  },
  {
   "cell_type": "code",
   "execution_count": 15,
   "id": "6c900bb0-efdd-480d-8bb9-573461e09c09",
   "metadata": {
    "id": "6c900bb0-efdd-480d-8bb9-573461e09c09"
   },
   "outputs": [
    {
     "name": "stdout",
     "output_type": "stream",
     "text": [
      "Auc Roc: 0.8585987020353779\n",
      "Accuracy: 0.8408114319976017\n",
      "Precision: 0.7035076108537393\n",
      "Recall: 0.48143115942028986\n",
      "F1 Score: 0.5716590481312182\n"
     ]
    }
   ],
   "source": [
    "print(f\"Auc Roc: {roc_auc_score(y_eval, y_pred_proba)}\")\n",
    "print(f\"Accuracy: {accuracy_score(y_eval, y_pred)}\")\n",
    "print(f\"Precision: {precision_score(y_eval, y_pred)}\")\n",
    "print(f\"Recall: {recall_score(y_eval, y_pred)}\")\n",
    "print(f\"F1 Score: {f1_score(y_eval, y_pred)}\")"
   ]
  },
  {
   "cell_type": "markdown",
   "id": "26ed5529-f6b1-41b1-955f-c2d922eb65c1",
   "metadata": {},
   "source": [
    "De las métricas podemos destacar que se obtuvo un accuracy de 0.84, ligeramente mayor que el accuracy del baseline obtenido en el TP1 (0.83). Dado que el accuracy no es una buena métrica para evaluar un modelo cuando se usa un dataset desbalanceado como este, la métrica que usamos para comparar los modelos es AUC, la cual tiene un valor de 0.86.\n",
    "\n",
    "También vemos que el recall obtenido (0.48) es mucho menor que el precision (0.70). Esto significa que, de todas las instancias que son realmente positivas (es decir, llueven hamburguesas al día siguiente), el modelo solo detecta correctamente el 48% de ellas. Por otro lado, de las que el modelo predice como positivas, el 70% eran realmente positivas.\n",
    "\n",
    "Particularmente el recall no es bueno, ya que el modelo detecta correctamente menos de la mitad de las instancias positivas.\n",
    "Sin embargo, dado que el árbol de decisión es uno de los modelos más simples, y se suele utilizar como baseline, no se espera que tenga una performance muy alta.\n",
    "\n",
    "Por último, el F1 Score permite tener una única métrica para evaluar el modelo, teniendo en cuenta el recall y el precision:\n",
    "\n",
    "    F1 = 2 x (precision x recall) / (precision + recall) = 0.57\n",
    "\n",
    "Para analizar con más detalle estas métricas, graficaremos la matriz de confusión y la curva ROC."
   ]
  },
  {
   "cell_type": "markdown",
   "id": "5fb4a2f4-761b-408b-803c-4dc19db1563f",
   "metadata": {
    "id": "5fb4a2f4-761b-408b-803c-4dc19db1563f"
   },
   "source": [
    "## Matriz de confusión"
   ]
  },
  {
   "cell_type": "code",
   "execution_count": 16,
   "id": "13a41039-c7a7-4f3c-bace-991ea5a07e07",
   "metadata": {
    "id": "13a41039-c7a7-4f3c-bace-991ea5a07e07"
   },
   "outputs": [
    {
     "name": "stderr",
     "output_type": "stream",
     "text": [
      "/usr/local/lib/python3.9/site-packages/sklearn/utils/deprecation.py:87: FutureWarning: Function plot_confusion_matrix is deprecated; Function `plot_confusion_matrix` is deprecated in 1.0 and will be removed in 1.2. Use one of the class methods: ConfusionMatrixDisplay.from_predictions or ConfusionMatrixDisplay.from_estimator.\n",
      "  warnings.warn(msg, category=FutureWarning)\n"
     ]
    },
    {
     "data": {
      "image/png": "[encoded data removed]",
      "text/plain": [
       "<Figure size 900x420 with 2 Axes>"
      ]
     },
     "metadata": {
      "needs_background": "light"
     },
     "output_type": "display_data"
    }
   ],
   "source": [
    "fig, ax = plt.subplots(figsize=(15, 7))\n",
    "plt.grid(False)\n",
    "plot_confusion_matrix(\n",
    "    clf, X_eval, y_eval, cmap=plt.cm.Blues, display_labels=['1', '0'], ax=ax\n",
    ")\n",
    "plt.show()"
   ]
  },
  {
   "cell_type": "markdown",
   "id": "a5652dda-5f67-407f-b429-cfa3a79f4ac1",
   "metadata": {},
   "source": [
    "En la matriz de confusión podemos observar exactamente cuántas instancias fueron predichas como True Positive, True Negative, False Positive y False Negative. A partir de estos datos se pueden calcular las métricas, verificando los resultados obtenidos anteriormente:\n",
    "- Recall = TP/(TP+FN) = 1063/(1063+1145) = 0.48\n",
    "- Precision = TP/(TP+FP) = 1063/(1063+448) = 0.70\n",
    "- Accuracy = (TP+TN)/total = 8414/10007 = 0.84"
   ]
  },
  {
   "cell_type": "markdown",
   "id": "135f4406-9491-41a3-8888-1f1e1236131d",
   "metadata": {
    "id": "135f4406-9491-41a3-8888-1f1e1236131d"
   },
   "source": [
    "## Curva ROC"
   ]
  },
  {
   "cell_type": "markdown",
   "id": "cb8dcd03-47e9-4d82-b17b-7acc0d5def00",
   "metadata": {},
   "source": [
    "La curva ROC se obtiene al graficar el True Positive Rate (Recall) vs el False Positive Rate, variando el umbral de detección entre 0 y 100%. Si las predicciones hechas fueran completamente aleatorias, la curva sería una recta, con un área bajo la curva de 0.5. El área bajo la curva es la métrica que se obtiene de la curva, y por eso se busca obtener valores mayores que 0.5. En este caso se obtuvo un AUC = 0.86, el cual es menor que la mayoría de los score AUC que se obtuvieron en este TP."
   ]
  },
  {
   "cell_type": "code",
   "execution_count": 17,
   "id": "fb3ff153-0280-41c8-b010-b8ad7eff9997",
   "metadata": {
    "id": "fb3ff153-0280-41c8-b010-b8ad7eff9997"
   },
   "outputs": [
    {
     "data": {
      "image/png": "[encoded data removed]",
      "text/plain": [
       "<Figure size 360x240 with 1 Axes>"
      ]
     },
     "metadata": {
      "needs_background": "light"
     },
     "output_type": "display_data"
    }
   ],
   "source": [
    "fpr, tpr, thresholds = roc_curve(y_eval, y_pred_proba)\n",
    "roc_auc = auc(fpr, tpr)\n",
    "display = RocCurveDisplay(fpr=fpr, tpr=tpr, roc_auc=roc_auc)\n",
    "display.plot()\n",
    "plt.show()"
   ]
  },
  {
   "cell_type": "markdown",
   "id": "745bf6d2-a1c4-4946-8326-52123de159c9",
   "metadata": {},
   "source": [
    "# Predicciones finales\n",
    "Finalmente, utilizaremos el modelo para predecir la lluvia de hamburguesas a partir de datos que no fueron usados en el entrenamiento. Guardaremos las predicciones en un archivo csv."
   ]
  },
  {
   "cell_type": "code",
   "execution_count": 21,
   "id": "91f5b8a4-c83c-47b9-ad57-e265cb7fae18",
   "metadata": {
    "id": "91f5b8a4-c83c-47b9-ad57-e265cb7fae18"
   },
   "outputs": [],
   "source": [
    "X_train1 = preprocessing_arboles_1(X_train)\n",
    "\n",
    "clf = tree.DecisionTreeClassifier(random_state=117, max_depth=9, min_samples_leaf=122, criterion='entropy')\n",
    "clf.fit(X_train1, y_train)\n",
    "\n",
    "df_pred = pd.read_csv(\"pred.csv\")\n",
    "df_pred_preprocess = basic_preprocessing(df_pred, prediction_dataset=True)\n",
    "df_pred_preprocess = fill_numerical_missings(df_pred_preprocess, X_train)\n",
    "df_pred_preprocess = df_pred_preprocess.drop(columns = ['id'])\n",
    "df_pred_preprocess = preprocessing_arboles_1(df_pred_preprocess)\n",
    "\n",
    "y_pred_final = clf.predict(df_pred_preprocess)\n",
    "df_pred_final = pd.DataFrame({'id': df_pred['id'], 'llovieron_hamburguesas_al_dia_siguiente': y_pred_final})\n",
    "df_pred_final.loc[df_pred_final['llovieron_hamburguesas_al_dia_siguiente'] == 1, 'llovieron_hamburguesas_al_dia_siguiente'] = 'si'\n",
    "df_pred_final.loc[df_pred_final['llovieron_hamburguesas_al_dia_siguiente'] == 0, 'llovieron_hamburguesas_al_dia_siguiente'] = 'no'"
   ]
  },
  {
   "cell_type": "code",
   "execution_count": 22,
   "id": "281ca77d-76a6-47de-ac69-48e4343b7de5",
   "metadata": {
    "id": "281ca77d-76a6-47de-ac69-48e4343b7de5"
   },
   "outputs": [],
   "source": [
    "df_pred_final.to_csv('predicciones/arbol_de_decision.csv', index=False)"
   ]
  }
 ],
 "metadata": {
  "colab": {
   "collapsed_sections": [],
   "name": "arbol_de_decision.ipynb",
   "provenance": []
  },
  "kernelspec": {
   "display_name": "Python 3 (ipykernel)",
   "language": "python",
   "name": "python3"
  },
  "language_info": {
   "codemirror_mode": {
    "name": "ipython",
    "version": 3
   },
   "file_extension": ".py",
   "mimetype": "text/x-python",
   "name": "python",
   "nbconvert_exporter": "python",
   "pygments_lexer": "ipython3",
   "version": "3.9.9"
  }
 },
 "nbformat": 4,
 "nbformat_minor": 5
}
