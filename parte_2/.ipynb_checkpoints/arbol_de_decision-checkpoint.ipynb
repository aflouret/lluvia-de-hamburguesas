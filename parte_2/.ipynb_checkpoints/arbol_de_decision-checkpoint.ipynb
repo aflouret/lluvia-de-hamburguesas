{
 "cells": [
  {
   "cell_type": "code",
   "execution_count": 1,
   "id": "252d48ed-cb37-4226-a164-75d60e24e45d",
   "metadata": {},
   "outputs": [],
   "source": [
    "import numpy as np\n",
    "import pandas as pd\n",
    "import matplotlib \n",
    "from matplotlib import pyplot as plt\n",
    "import seaborn as sns\n",
    "from sklearn import preprocessing, tree\n",
    "from sklearn.preprocessing import OneHotEncoder\n",
    "from sklearn.metrics import accuracy_score, roc_auc_score, precision_score, recall_score\n",
    "from sklearn.dummy import DummyClassifier\n",
    "\n",
    "#from preprocessing import preprocess\n",
    "plt.rcParams[\"figure.dpi\"] = 150"
   ]
  },
  {
   "cell_type": "code",
   "execution_count": 2,
   "id": "918671b8-fc01-469a-8ba3-79dd8912270c",
   "metadata": {},
   "outputs": [],
   "source": [
    "# from collections import Counter\n",
    "# import requests\n",
    "\n",
    "# with requests.get(\n",
    "#     \"https://docs.google.com/spreadsheets/d/1wduqo5WyYmCpaGnE81sLNGU0VSodIekMfpmEwU0fGqs/export?format=csv\") as r, open(\"features.csv\", \"wb\") as f:\n",
    "#     for chunk in r.iter_content():\n",
    "#         f.write(chunk)\n",
    "\n",
    "# with requests.get(\n",
    "#     \"https://docs.google.com/spreadsheets/d/1gvZ03uAL6THwd04Y98GtIj6SeAHiKyQY5UisuuyFSUs/export?format=csv\") as r, open(\"target.csv\", \"wb\") as f:\n",
    "#     for chunk in r.iter_content():\n",
    "#         f.write(chunk)"
   ]
  },
  {
   "cell_type": "code",
   "execution_count": 3,
   "id": "6594b067-2d34-4ce7-a63e-c32c065d5b5c",
   "metadata": {},
   "outputs": [
    {
     "name": "stderr",
     "output_type": "stream",
     "text": [
      "/usr/local/lib/python3.9/site-packages/IPython/core/interactiveshell.py:3444: DtypeWarning: Columns (13) have mixed types.Specify dtype option on import or set low_memory=False.\n",
      "  exec(code_obj, self.user_global_ns, self.user_ns)\n"
     ]
    }
   ],
   "source": [
    "df_features = pd.read_csv(\"features.csv\")\n",
    "df_target = pd.read_csv(\"target.csv\")\n",
    "df = df_features.merge(df_target, left_on='id', right_on='id')"
   ]
  },
  {
   "cell_type": "code",
   "execution_count": 4,
   "id": "54d06036-4979-4501-bfc6-3b4b08024a73",
   "metadata": {},
   "outputs": [
    {
     "data": {
      "text/html": [
       "<div>\n",
       "<style scoped>\n",
       "    .dataframe tbody tr th:only-of-type {\n",
       "        vertical-align: middle;\n",
       "    }\n",
       "\n",
       "    .dataframe tbody tr th {\n",
       "        vertical-align: top;\n",
       "    }\n",
       "\n",
       "    .dataframe thead th {\n",
       "        text-align: right;\n",
       "    }\n",
       "</style>\n",
       "<table border=\"1\" class=\"dataframe\">\n",
       "  <thead>\n",
       "    <tr style=\"text-align: right;\">\n",
       "      <th></th>\n",
       "      <th>direccion_viento_tarde</th>\n",
       "      <th>direccion_viento_temprano</th>\n",
       "      <th>horas_de_sol</th>\n",
       "      <th>humedad_tarde</th>\n",
       "      <th>humedad_temprano</th>\n",
       "      <th>llovieron_hamburguesas_hoy</th>\n",
       "      <th>mm_evaporados_agua</th>\n",
       "      <th>mm_lluvia_dia</th>\n",
       "      <th>nubosidad_tarde</th>\n",
       "      <th>nubosidad_temprano</th>\n",
       "      <th>...</th>\n",
       "      <th>presion_atmosferica_temprano</th>\n",
       "      <th>rafaga_viento_max_direccion</th>\n",
       "      <th>rafaga_viento_max_velocidad</th>\n",
       "      <th>temp_max</th>\n",
       "      <th>temp_min</th>\n",
       "      <th>temperatura_tarde</th>\n",
       "      <th>temperatura_temprano</th>\n",
       "      <th>velocidad_viendo_tarde</th>\n",
       "      <th>velocidad_viendo_temprano</th>\n",
       "      <th>llovieron_hamburguesas_al_dia_siguiente</th>\n",
       "    </tr>\n",
       "  </thead>\n",
       "  <tbody>\n",
       "  </tbody>\n",
       "</table>\n",
       "<p>0 rows × 21 columns</p>\n",
       "</div>"
      ],
      "text/plain": [
       "Empty DataFrame\n",
       "Columns: [direccion_viento_tarde, direccion_viento_temprano, horas_de_sol, humedad_tarde, humedad_temprano, llovieron_hamburguesas_hoy, mm_evaporados_agua, mm_lluvia_dia, nubosidad_tarde, nubosidad_temprano, presion_atmosferica_tarde, presion_atmosferica_temprano, rafaga_viento_max_direccion, rafaga_viento_max_velocidad, temp_max, temp_min, temperatura_tarde, temperatura_temprano, velocidad_viendo_tarde, velocidad_viendo_temprano, llovieron_hamburguesas_al_dia_siguiente]\n",
       "Index: []\n",
       "\n",
       "[0 rows x 21 columns]"
      ]
     },
     "execution_count": 4,
     "metadata": {},
     "output_type": "execute_result"
    }
   ],
   "source": [
    "df.drop(columns=['id', 'dia', 'barrio'])[df.duplicated(keep=False)]"
   ]
  },
  {
   "cell_type": "code",
   "execution_count": 5,
   "id": "576c7d84-ac17-4cbd-bb3b-28b3adf6a5b7",
   "metadata": {},
   "outputs": [],
   "source": [
    "#Convertimos la presion a un tipo numérico, establecimos los valores inválidos como NaN.\n",
    "df['presion_atmosferica_tarde'] = pd.to_numeric(df['presion_atmosferica_tarde'],errors='coerce')    \n",
    "#Convertimos las fechas al tipo datetime.\n",
    "df['dia'] = pd.to_datetime(df['dia'])\n",
    "\n",
    "#Eliminamos todas las filas del dataframe donde haya valores faltantes\n",
    "df = df.dropna(subset=['llovieron_hamburguesas_al_dia_siguiente']) \n",
    "df = df.dropna(subset=['llovieron_hamburguesas_hoy']) \n",
    "\n",
    "\n",
    "#Eliminamos las dos columnas con mayor porcentaje de missings\n",
    "df = df.drop(columns = ['horas_de_sol', 'mm_evaporados_agua']) \n",
    "#df = df.drop(columns = ['nubosidad_tarde', 'nubosidad_temprano']) \n",
    "\n",
    "df = df.drop(columns = ['id'])\n",
    "\n",
    "#Llenamos las columnas con grandes porcentajes de missings con la mean\n",
    "#df['horas_de_sol'] = df['horas_de_sol'].fillna(df['horas_de_sol'].mean())\n",
    "#df['mm_evaporados_agua'] = df['mm_evaporados_agua'].fillna(df['mm_evaporados_agua'].mean())\n",
    "\n",
    "df['nubosidad_tarde'] = df['nubosidad_tarde'].fillna(df['nubosidad_tarde'].mean())\n",
    "df['nubosidad_temprano'] = df['nubosidad_temprano'].fillna(df['nubosidad_temprano'].mean())\n",
    "df['presion_atmosferica_temprano'] = df['presion_atmosferica_temprano'].fillna(df['presion_atmosferica_temprano'].mean())\n",
    "df['presion_atmosferica_tarde'] = df['presion_atmosferica_tarde'].fillna(df['presion_atmosferica_tarde'].mean())\n",
    "df['rafaga_viento_max_velocidad'] = df['rafaga_viento_max_velocidad'].fillna(df['rafaga_viento_max_velocidad'].mean())\n",
    "df['humedad_tarde'] = df['humedad_tarde'].fillna(df['humedad_tarde'].mean())\n",
    "df['temperatura_tarde'] = df['temperatura_tarde'].fillna(df['temperatura_tarde'].mean())\n",
    "df['mm_lluvia_dia'] = df['mm_lluvia_dia'].fillna(df['mm_lluvia_dia'].mean())\n",
    "df['velocidad_viendo_tarde'] = df['velocidad_viendo_tarde'].fillna(df['velocidad_viendo_tarde'].mean())\n",
    "df['humedad_temprano'] = df['humedad_temprano'].fillna(df['humedad_temprano'].mean())\n",
    "df['velocidad_viendo_tarde'] = df['velocidad_viendo_tarde'].fillna(df['velocidad_viendo_tarde'].mean())\n",
    "df['velocidad_viendo_temprano'] = df['velocidad_viendo_temprano'].fillna(df['velocidad_viendo_temprano'].mean())\n",
    "df['temperatura_temprano'] = df['temperatura_temprano'].fillna(df['temperatura_temprano'].mean())\n",
    "df['temp_min'] = df['temp_min'].fillna(df['temp_min'].mean())\n",
    "df['temp_max'] = df['temp_max'].fillna(df['temp_max'].mean())"
   ]
  },
  {
   "cell_type": "code",
   "execution_count": 6,
   "id": "a2e4a28c-3d5e-4055-9229-3bdececb54b0",
   "metadata": {},
   "outputs": [],
   "source": [
    "df = df.drop(columns = ['direccion_viento_temprano', 'rafaga_viento_max_direccion', 'direccion_viento_tarde']) "
   ]
  },
  {
   "cell_type": "code",
   "execution_count": 7,
   "id": "2486f09a-c405-4c79-9c9f-ded87e42d865",
   "metadata": {},
   "outputs": [],
   "source": [
    "df = df.drop(columns = ['dia', 'barrio'])"
   ]
  },
  {
   "cell_type": "code",
   "execution_count": 8,
   "id": "f0d6c542-0fa1-494b-a7ed-1e5e06cec118",
   "metadata": {},
   "outputs": [],
   "source": [
    "def feature_engineering(df):\n",
    "    \"\"\"Hace las transformaciones de datos necesarias.\"\"\"\n",
    "    #df = pd.get_dummies(df, drop_first=True, columns=['direccion_viento_temprano', 'rafaga_viento_max_direccion', 'direccion_viento_tarde'])\n",
    "\n",
    "    label_encoder = preprocessing.LabelEncoder()\n",
    "    label_encoder.fit(df['llovieron_hamburguesas_al_dia_siguiente'])\n",
    "    label_encoder.fit(df['llovieron_hamburguesas_hoy'])\n",
    "    df['llovieron_hamburguesas_hoy'] = label_encoder.transform(df['llovieron_hamburguesas_hoy'])\n",
    "    X = df.drop(columns=['llovieron_hamburguesas_al_dia_siguiente'])\n",
    "    y = label_encoder.transform(df['llovieron_hamburguesas_al_dia_siguiente'])\n",
    "\n",
    "    return X, y, df, label_encoder\n",
    "\n",
    "\n",
    "X, y, df, y_encoder = feature_engineering(df)"
   ]
  },
  {
   "cell_type": "code",
   "execution_count": 9,
   "id": "ba1bdd95-215a-4103-9b15-8cc7ea5c44bc",
   "metadata": {},
   "outputs": [
    {
     "data": {
      "text/plain": [
       "DecisionTreeClassifier(max_depth=9, min_samples_leaf=20)"
      ]
     },
     "execution_count": 9,
     "metadata": {},
     "output_type": "execute_result"
    }
   ],
   "source": [
    "clf = tree.DecisionTreeClassifier(\n",
    "        max_depth=9, min_samples_leaf=20\n",
    "    )\n",
    "clf.fit(X, y)"
   ]
  },
  {
   "cell_type": "code",
   "execution_count": 10,
   "id": "d2643f63-acba-4f5c-8684-66f2832ebdbd",
   "metadata": {},
   "outputs": [
    {
     "data": {
      "text/plain": [
       "[('humedad_tarde', 0.6506873559068188),\n",
       " ('rafaga_viento_max_velocidad', 0.10921563732111203),\n",
       " ('presion_atmosferica_tarde', 0.07364458711896953),\n",
       " ('mm_lluvia_dia', 0.05588932280310155),\n",
       " ('nubosidad_tarde', 0.032984209107390215),\n",
       " ('temperatura_temprano', 0.014911893261966194),\n",
       " ('humedad_temprano', 0.012349775710600542),\n",
       " ('temp_max', 0.01054103839746618),\n",
       " ('velocidad_viendo_tarde', 0.008181822424434377),\n",
       " ('temperatura_tarde', 0.00814258964253319),\n",
       " ('temp_min', 0.008029431796261947),\n",
       " ('presion_atmosferica_temprano', 0.007081653530292175),\n",
       " ('velocidad_viendo_temprano', 0.004973492779120138),\n",
       " ('nubosidad_temprano', 0.003367190199933043),\n",
       " ('llovieron_hamburguesas_hoy', 0.0)]"
      ]
     },
     "execution_count": 10,
     "metadata": {},
     "output_type": "execute_result"
    }
   ],
   "source": [
    "sorted(list(zip(X.columns, clf.feature_importances_)), key=lambda x: -x[1])"
   ]
  },
  {
   "cell_type": "code",
   "execution_count": 11,
   "id": "4a9ea3ef-ad9b-4faa-a39c-30f2e1acbe2d",
   "metadata": {},
   "outputs": [],
   "source": [
    "pred = clf.predict(X)"
   ]
  },
  {
   "cell_type": "code",
   "execution_count": 12,
   "id": "c247a651-8155-4c8b-a01f-4a78722a9537",
   "metadata": {},
   "outputs": [
    {
     "data": {
      "text/plain": [
       "0.8545699975134098"
      ]
     },
     "execution_count": 12,
     "metadata": {},
     "output_type": "execute_result"
    }
   ],
   "source": [
    "accuracy_score(y, pred)"
   ]
  },
  {
   "cell_type": "code",
   "execution_count": 13,
   "id": "115256c7-be0d-4a6b-86bd-826540d8eda5",
   "metadata": {},
   "outputs": [
    {
     "data": {
      "text/plain": [
       "0.7327130816640154"
      ]
     },
     "execution_count": 13,
     "metadata": {},
     "output_type": "execute_result"
    }
   ],
   "source": [
    "roc_auc_score(y, pred)"
   ]
  },
  {
   "cell_type": "code",
   "execution_count": 14,
   "id": "497c69cd-7d80-4cbd-95b9-41c4ebcf3ee9",
   "metadata": {},
   "outputs": [
    {
     "data": {
      "text/plain": [
       "0.7494293239683933"
      ]
     },
     "execution_count": 14,
     "metadata": {},
     "output_type": "execute_result"
    }
   ],
   "source": [
    "precision_score(y, pred)"
   ]
  },
  {
   "cell_type": "code",
   "execution_count": 15,
   "id": "b44f1192-72a1-4f2d-a4ab-1eb512b8576b",
   "metadata": {},
   "outputs": [
    {
     "data": {
      "text/plain": [
       "0.5142375195790996"
      ]
     },
     "execution_count": 15,
     "metadata": {},
     "output_type": "execute_result"
    }
   ],
   "source": [
    "recall_score(y, pred)"
   ]
  },
  {
   "cell_type": "code",
   "execution_count": null,
   "id": "85133f8b-f6aa-4ed4-92a9-5fbf859e1ea1",
   "metadata": {},
   "outputs": [],
   "source": []
  },
  {
   "cell_type": "code",
   "execution_count": null,
   "id": "37bccc81-0616-41d3-ac2a-771ae3442da5",
   "metadata": {},
   "outputs": [],
   "source": []
  },
  {
   "cell_type": "code",
   "execution_count": null,
   "id": "067112f2-e1c2-43af-a416-8577e1251ee2",
   "metadata": {},
   "outputs": [],
   "source": []
  }
 ],
 "metadata": {
  "kernelspec": {
   "display_name": "Python 3 (ipykernel)",
   "language": "python",
   "name": "python3"
  },
  "language_info": {
   "codemirror_mode": {
    "name": "ipython",
    "version": 3
   },
   "file_extension": ".py",
   "mimetype": "text/x-python",
   "name": "python",
   "nbconvert_exporter": "python",
   "pygments_lexer": "ipython3",
   "version": "3.9.9"
  }
 },
 "nbformat": 4,
 "nbformat_minor": 5
}
