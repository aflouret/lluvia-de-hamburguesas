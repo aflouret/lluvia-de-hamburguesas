{
 "cells": [
  {
   "cell_type": "code",
   "execution_count": 1,
   "id": "252d48ed-cb37-4226-a164-75d60e24e45d",
   "metadata": {},
   "outputs": [],
   "source": [
    "import numpy as np\n",
    "import pandas as pd\n",
    "import matplotlib \n",
    "from matplotlib import pyplot as plt\n",
    "import seaborn as sns\n",
    "from sklearn.metrics import accuracy_score, roc_auc_score, precision_score, recall_score, f1_score, roc_curve, auc, plot_confusion_matrix, RocCurveDisplay\n",
    "from sklearn.model_selection import GridSearchCV, RandomizedSearchCV\n",
    "\n",
    "from sklearn import tree\n",
    "\n",
    "from preprocessing import *\n",
    "\n",
    "plt.rcParams[\"figure.dpi\"] = 60"
   ]
  },
  {
   "cell_type": "markdown",
   "id": "b16c6480-3d1b-4b4e-8857-3815e9b2cbd1",
   "metadata": {},
   "source": [
    "# Carga del dataset"
   ]
  },
  {
   "cell_type": "code",
   "execution_count": 2,
   "id": "6594b067-2d34-4ce7-a63e-c32c065d5b5c",
   "metadata": {},
   "outputs": [],
   "source": [
    "df = pd.read_csv(\"df_train.csv\")\n",
    "X = df.drop(columns=['llovieron_hamburguesas_al_dia_siguiente'])\n",
    "y = df['llovieron_hamburguesas_al_dia_siguiente']\n",
    "X_train, X_eval, y_train, y_eval = train_test_split(X, y, random_state=117, test_size=0.1, stratify=y.astype(str))"
   ]
  },
  {
   "cell_type": "markdown",
   "id": "06ef53ca-fbf8-4d62-9b16-21832e303b29",
   "metadata": {},
   "source": [
    "# Selección de modelos\n",
    "\n",
    "Buscamos la mejor combinación de los hiperparámetros max_depth, min_samples_leaf y criterion, con 4 datasets distintos, utilizando Randomized Search."
   ]
  },
  {
   "cell_type": "code",
   "execution_count": 3,
   "id": "2e9b1fc0-0164-4e26-8be0-37e01dc6e3e1",
   "metadata": {},
   "outputs": [
    {
     "name": "stdout",
     "output_type": "stream",
     "text": [
      "Best score: 0.8566906156083679\n",
      "Best params {'min_samples_leaf': 192, 'max_depth': 12, 'criterion': 'entropy'}\n"
     ]
    }
   ],
   "source": [
    "X_train1 = preprocessing_arboles_1(X_train)\n",
    "params = {\n",
    "    'max_depth': np.arange(1, 15),\n",
    "    'min_samples_leaf': np.arange(1, 300),\n",
    "    \"criterion\": [\"gini\", \"entropy\"],\n",
    "}\n",
    "\n",
    "clf1 = tree.DecisionTreeClassifier(random_state=117)\n",
    "\n",
    "rgscv1 = RandomizedSearchCV(\n",
    "    clf1, params, n_iter = 180, scoring='roc_auc', n_jobs=-1, cv=5, return_train_score=True\n",
    ").fit(X_train1, y_train)\n",
    "\n",
    "print(f\"Best score: {rgscv1.best_score_}\")\n",
    "print(f\"Best params {rgscv1.best_params_}\")"
   ]
  },
  {
   "cell_type": "code",
   "execution_count": 4,
   "id": "1ff2aea9-3ac4-418b-a604-47097d53807f",
   "metadata": {},
   "outputs": [
    {
     "name": "stdout",
     "output_type": "stream",
     "text": [
      "Best score: 0.855802051884415\n",
      "Best params {'min_samples_leaf': 165, 'max_depth': 10, 'criterion': 'gini'}\n"
     ]
    }
   ],
   "source": [
    "X_train2 = preprocessing_arboles_2(X_train)\n",
    "params = {\n",
    "    'max_depth': np.arange(1, 15),\n",
    "    'min_samples_leaf': np.arange(1, 300),\n",
    "    \"criterion\": [\"gini\", \"entropy\"],\n",
    "}\n",
    "\n",
    "clf2 = tree.DecisionTreeClassifier(random_state=117)\n",
    "\n",
    "rgscv2 = RandomizedSearchCV(\n",
    "    clf2, params, n_iter = 180, scoring='roc_auc', n_jobs=-1, cv=5, return_train_score=True\n",
    ").fit(X_train2, y_train)\n",
    "\n",
    "print(f\"Best score: {rgscv2.best_score_}\")\n",
    "print(f\"Best params {rgscv2.best_params_}\")"
   ]
  },
  {
   "cell_type": "code",
   "execution_count": 5,
   "id": "2c893ad2-2217-44be-8059-e04133eb79dc",
   "metadata": {},
   "outputs": [
    {
     "name": "stdout",
     "output_type": "stream",
     "text": [
      "Best score: 0.8498530197082499\n",
      "Best params {'min_samples_leaf': 156, 'max_depth': 12, 'criterion': 'entropy'}\n"
     ]
    }
   ],
   "source": [
    "X_train3 = preprocessing_arboles_3(X_train)\n",
    "params = {\n",
    "    'max_depth': np.arange(1, 15),\n",
    "    'min_samples_leaf': np.arange(1, 300),\n",
    "    \"criterion\": [\"gini\", \"entropy\"],\n",
    "}\n",
    "\n",
    "clf3 = tree.DecisionTreeClassifier(random_state=117)\n",
    "\n",
    "rgscv3 = RandomizedSearchCV(\n",
    "    clf3, params, n_iter = 180, scoring='roc_auc', n_jobs=-1, cv=5, return_train_score=True\n",
    ").fit(X_train3, y_train)\n",
    "\n",
    "print(f\"Best score: {rgscv3.best_score_}\")\n",
    "print(f\"Best params {rgscv3.best_params_}\")"
   ]
  },
  {
   "cell_type": "code",
   "execution_count": 6,
   "id": "1ed4f1f3-5016-46ef-a21d-82a6a86ea2b0",
   "metadata": {},
   "outputs": [
    {
     "name": "stdout",
     "output_type": "stream",
     "text": [
      "Best score: 0.8483057143398456\n",
      "Best params {'min_samples_leaf': 117, 'max_depth': 9, 'criterion': 'gini'}\n"
     ]
    }
   ],
   "source": [
    "X_train4 = preprocessing_arboles_4(X_train)\n",
    "params = {\n",
    "    'max_depth': np.arange(1, 15),\n",
    "    'min_samples_leaf': np.arange(1, 300),\n",
    "    \"criterion\": [\"gini\", \"entropy\"],\n",
    "}\n",
    "\n",
    "clf4 = tree.DecisionTreeClassifier(random_state=117)\n",
    "\n",
    "rgscv4 = RandomizedSearchCV(\n",
    "    clf4, params, n_iter = 180, scoring='roc_auc', n_jobs=-1, cv=5, return_train_score=True\n",
    ").fit(X_train4, y_train)\n",
    "\n",
    "print(f\"Best score: {rgscv4.best_score_}\")\n",
    "print(f\"Best params {rgscv4.best_params_}\")"
   ]
  },
  {
   "cell_type": "markdown",
   "id": "a99c1ee9-9322-4fc0-9dd4-f80d84d693c6",
   "metadata": {},
   "source": [
    "# Evaluación del modelo final\n",
    "\n",
    "El mejor modelo encontrado corresponde al preprocesamiento preprocessing_arboles_1 , con 'min_samples_leaf': 111, 'max_depth': 13, 'criterion': 'entropy'.\n",
    "Entrenamos el modelo y evaluamos utilizando el set de holdout."
   ]
  },
  {
   "cell_type": "code",
   "execution_count": 34,
   "id": "e19b01d2-8414-46db-8e6c-49bf0806d994",
   "metadata": {},
   "outputs": [],
   "source": [
    "X_eval = preprocessing_arboles_1(X_eval)\n",
    "\n",
    "clf = tree.DecisionTreeClassifier(random_state=117, max_depth=13, min_samples_leaf=111, criterion='entropy')\n",
    "clf.fit(X_train1, y_train)\n",
    "\n",
    "y_pred = clf.predict(X_eval)\n",
    "y_pred_proba = clf.predict_proba(X_eval)[:,1]"
   ]
  },
  {
   "cell_type": "code",
   "execution_count": 35,
   "id": "6c900bb0-efdd-480d-8bb9-573461e09c09",
   "metadata": {},
   "outputs": [
    {
     "name": "stdout",
     "output_type": "stream",
     "text": [
      "Auc Roc: 0.858229397209973\n",
      "Accuracy: 0.8402118517038073\n",
      "Precision: 0.6991497710922171\n",
      "Recall: 0.4841485507246377\n",
      "F1 Score: 0.5721166711265722\n"
     ]
    }
   ],
   "source": [
    "print(f\"Auc Roc: {roc_auc_score(y_eval, y_pred_proba)}\")\n",
    "print(f\"Accuracy: {accuracy_score(y_eval, y_pred)}\")\n",
    "print(f\"Precision: {precision_score(y_eval, y_pred)}\")\n",
    "print(f\"Recall: {recall_score(y_eval, y_pred)}\")\n",
    "print(f\"F1 Score: {f1_score(y_eval, y_pred)}\")"
   ]
  },
  {
   "cell_type": "markdown",
   "id": "5fb4a2f4-761b-408b-803c-4dc19db1563f",
   "metadata": {},
   "source": [
    "## Matriz de confusión"
   ]
  },
  {
   "cell_type": "code",
   "execution_count": 36,
   "id": "13a41039-c7a7-4f3c-bace-991ea5a07e07",
   "metadata": {},
   "outputs": [
    {
     "name": "stderr",
     "output_type": "stream",
     "text": [
      "/usr/local/lib/python3.9/site-packages/sklearn/utils/deprecation.py:87: FutureWarning: Function plot_confusion_matrix is deprecated; Function `plot_confusion_matrix` is deprecated in 1.0 and will be removed in 1.2. Use one of the class methods: ConfusionMatrixDisplay.from_predictions or ConfusionMatrixDisplay.from_estimator.\n",
      "  warnings.warn(msg, category=FutureWarning)\n"
     ]
    },
    {
     "data": {
      "image/png": "[encoded data removed]",
      "text/plain": [
       "<Figure size 900x420 with 2 Axes>"
      ]
     },
     "metadata": {
      "needs_background": "light"
     },
     "output_type": "display_data"
    }
   ],
   "source": [
    "fig, ax = plt.subplots(figsize=(15, 7))\n",
    "plt.grid(False)\n",
    "plot_confusion_matrix(\n",
    "    clf, X_eval, y_eval, cmap=plt.cm.Blues, display_labels=['1', '0'], ax=ax\n",
    ")\n",
    "plt.show()"
   ]
  },
  {
   "cell_type": "markdown",
   "id": "135f4406-9491-41a3-8888-1f1e1236131d",
   "metadata": {},
   "source": [
    "## Curva ROC"
   ]
  },
  {
   "cell_type": "code",
   "execution_count": 37,
   "id": "fb3ff153-0280-41c8-b010-b8ad7eff9997",
   "metadata": {},
   "outputs": [
    {
     "data": {
      "image/png": "[encoded data removed]",
      "text/plain": [
       "<Figure size 360x240 with 1 Axes>"
      ]
     },
     "metadata": {
      "needs_background": "light"
     },
     "output_type": "display_data"
    }
   ],
   "source": [
    "fpr, tpr, thresholds = roc_curve(y_eval, y_pred_proba)\n",
    "roc_auc = auc(fpr, tpr)\n",
    "display = RocCurveDisplay(fpr=fpr, tpr=tpr, roc_auc=roc_auc)\n",
    "display.plot()\n",
    "plt.show()"
   ]
  },
  {
   "cell_type": "markdown",
   "id": "7b284708-dd2a-481f-8005-91077ad904f3",
   "metadata": {},
   "source": [
    "## Feature Importance:"
   ]
  },
  {
   "cell_type": "code",
   "execution_count": 38,
   "id": "dde31a98-20f9-46f3-acb1-c40b85ca9f55",
   "metadata": {},
   "outputs": [
    {
     "data": {
      "text/plain": [
       "[('direccion_viento_tarde', 0.5826763302943901),\n",
       " ('nubosidad_temprano', 0.09873495578263713),\n",
       " ('barrio', 0.08337122235881247),\n",
       " ('mm_lluvia_dia', 0.07145548099459716),\n",
       " ('humedad_temprano', 0.04047594848262197),\n",
       " ('nubosidad_tarde', 0.03071267359174938),\n",
       " ('llovieron_hamburguesas_hoy', 0.013629994880310504),\n",
       " ('rafaga_viento_max_velocidad', 0.010417720253662773),\n",
       " ('presion_atmosferica_temprano', 0.009210910014060956),\n",
       " ('direccion_viento_temprano', 0.008158055593831023),\n",
       " ('presion_atmosferica_tarde', 0.007802847553875011),\n",
       " ('rafaga_viento_max_direccion', 0.005921388276603922),\n",
       " ('temp_max', 0.00520371594231964),\n",
       " ('temp_min', 0.004190424877595453),\n",
       " ('humedad_tarde', 0.003583631175498717),\n",
       " ('temperatura_tarde', 0.0021655702392880754),\n",
       " ('mm_evaporados_agua', 0.002003053075563433),\n",
       " ('mes', 0.001012185493349197),\n",
       " ('horas_de_sol', 0.0),\n",
       " ('temperatura_temprano', 0.0),\n",
       " ('velocidad_viendo_tarde', 0.0),\n",
       " ('velocidad_viendo_temprano', 0.0)]"
      ]
     },
     "execution_count": 38,
     "metadata": {},
     "output_type": "execute_result"
    }
   ],
   "source": [
    "sorted(list(zip(X_train.columns, clf.feature_importances_)), key=lambda x: -x[1])"
   ]
  },
  {
   "cell_type": "code",
   "execution_count": 13,
   "id": "91f5b8a4-c83c-47b9-ad57-e265cb7fae18",
   "metadata": {},
   "outputs": [
    {
     "data": {
      "text/plain": [
       "no    24607\n",
       "si     4485\n",
       "Name: llovieron_hamburguesas_al_dia_siguiente, dtype: int64"
      ]
     },
     "execution_count": 13,
     "metadata": {},
     "output_type": "execute_result"
    }
   ],
   "source": [
    "X_train1 = preprocessing_arboles_1(X_train)\n",
    "\n",
    "clf = tree.DecisionTreeClassifier(random_state=117, max_depth=13, min_samples_leaf=111, criterion='entropy')\n",
    "clf.fit(X_train1, y_train)\n",
    "\n",
    "df_pred = pd.read_csv(\"pred.csv\")\n",
    "df_pred_preprocess = basic_preprocessing(df_pred, prediction_dataset=True)\n",
    "df_pred_preprocess = fill_numerical_missings(df_pred_preprocess, X_train)\n",
    "df_pred_preprocess = df_pred_preprocess.drop(columns = ['id'])\n",
    "df_pred_preprocess = preprocessing_arboles_1(df_pred_preprocess)\n",
    "\n",
    "y_pred_final = clf.predict(df_pred_preprocess)\n",
    "df_pred_final = pd.DataFrame({'id': df_pred['id'], 'llovieron_hamburguesas_al_dia_siguiente': y_pred_final})\n",
    "df_pred_final.loc[df_pred_final['llovieron_hamburguesas_al_dia_siguiente'] == 1, 'llovieron_hamburguesas_al_dia_siguiente'] = 'si'\n",
    "df_pred_final.loc[df_pred_final['llovieron_hamburguesas_al_dia_siguiente'] == 0, 'llovieron_hamburguesas_al_dia_siguiente'] = 'no'\n",
    "\n",
    "df_pred_final['llovieron_hamburguesas_al_dia_siguiente'].value_counts()"
   ]
  },
  {
   "cell_type": "code",
   "execution_count": 9,
   "id": "281ca77d-76a6-47de-ac69-48e4343b7de5",
   "metadata": {},
   "outputs": [],
   "source": [
    "df_pred_final.to_csv('predicciones/arbol_de_decision.csv', index=False)"
   ]
  },
  {
   "cell_type": "code",
   "execution_count": null,
   "id": "6fa36ccc-3ee2-4c38-8d00-75c200dec1fe",
   "metadata": {},
   "outputs": [],
   "source": []
  }
 ],
 "metadata": {
  "kernelspec": {
   "display_name": "Python 3 (ipykernel)",
   "language": "python",
   "name": "python3"
  },
  "language_info": {
   "codemirror_mode": {
    "name": "ipython",
    "version": 3
   },
   "file_extension": ".py",
   "mimetype": "text/x-python",
   "name": "python",
   "nbconvert_exporter": "python",
   "pygments_lexer": "ipython3",
   "version": "3.9.9"
  }
 },
 "nbformat": 4,
 "nbformat_minor": 5
}
