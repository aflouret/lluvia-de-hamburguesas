{
 "cells": [
  {
   "cell_type": "code",
   "execution_count": 4,
   "id": "252d48ed-cb37-4226-a164-75d60e24e45d",
   "metadata": {},
   "outputs": [],
   "source": [
    "import numpy as np\n",
    "import pandas as pd\n",
    "import matplotlib \n",
    "from matplotlib import pyplot as plt\n",
    "import seaborn as sns\n",
    "from sklearn.metrics import accuracy_score, roc_auc_score, precision_score, recall_score, f1_score, roc_curve, auc, plot_confusion_matrix, RocCurveDisplay\n",
    "from sklearn.model_selection import GridSearchCV, RandomizedSearchCV\n",
    "\n",
    "from sklearn.naive_bayes import GaussianNB\n",
    "\n",
    "from preprocessing import *\n",
    "\n",
    "plt.rcParams[\"figure.dpi\"] = 60"
   ]
  },
  {
   "cell_type": "markdown",
   "id": "c3162fb6-89d5-4322-a1a1-8ce79471477a",
   "metadata": {},
   "source": [
    "# Carga del dataset"
   ]
  },
  {
   "cell_type": "code",
   "execution_count": 5,
   "id": "918671b8-fc01-469a-8ba3-79dd8912270c",
   "metadata": {},
   "outputs": [],
   "source": [
    "df = pd.read_csv(\"df_train.csv\")\n",
    "X = df.drop(columns=['llovieron_hamburguesas_al_dia_siguiente'])\n",
    "y = df['llovieron_hamburguesas_al_dia_siguiente']\n",
    "X_train, X_eval, y_train, y_eval = train_test_split(X, y, random_state=117, test_size=0.1, stratify=y.astype(str))"
   ]
  },
  {
   "cell_type": "markdown",
   "id": "9812f45f-7c59-4251-8fd2-abcb6688c05d",
   "metadata": {},
   "source": [
    "# Selección de modelos\n",
    "\n",
    "Buscamos el mejor valor del parámetro var_smoothing, en dos datasets distintos: preprocessing_arboles_2(df) y preprocessing_arboles_4(df), utilizando Randomized Search."
   ]
  },
  {
   "cell_type": "code",
   "execution_count": 6,
   "id": "dd307073-d711-4c09-bc13-65291077cf3d",
   "metadata": {},
   "outputs": [
    {
     "name": "stdout",
     "output_type": "stream",
     "text": [
      "Best score: 0.8350176147858086\n",
      "Best params {'var_smoothing': 0.008}\n"
     ]
    }
   ],
   "source": [
    "X_train1 = preprocessing_arboles_2(X_train)\n",
    "\n",
    "params = {\n",
    "    'var_smoothing': np.arange(0.0001, 1, 0.0001)\n",
    "}\n",
    "\n",
    "gnb1 = GaussianNB()\n",
    "\n",
    "rgscv1 = RandomizedSearchCV(\n",
    "    gnb1, params, n_iter=60, scoring='roc_auc', n_jobs=-1, cv=5, return_train_score=True\n",
    ").fit(X_train1, y_train)\n",
    "\n",
    "print(f\"Best score: {rgscv1.best_score_}\")\n",
    "print(f\"Best params {rgscv1.best_params_}\")"
   ]
  },
  {
   "cell_type": "code",
   "execution_count": 7,
   "id": "d9051e16-cfb9-430a-a877-5a6b961ee784",
   "metadata": {},
   "outputs": [
    {
     "name": "stdout",
     "output_type": "stream",
     "text": [
      "Best score: 0.825158020220149\n",
      "Best params {'var_smoothing': 0.161}\n"
     ]
    }
   ],
   "source": [
    "X_train2 = preprocessing_arboles_4(X_train)\n",
    "\n",
    "params = {\n",
    "    'var_smoothing': np.arange(0.0001, 1, 0.0001)\n",
    "}\n",
    "\n",
    "gnb2 = GaussianNB()\n",
    "\n",
    "rgscv2 = RandomizedSearchCV(\n",
    "    gnb2, params, n_iter=60, scoring='roc_auc', n_jobs=-1, cv=5, return_train_score=True\n",
    ").fit(X_train2, y_train)\n",
    "\n",
    "print(f\"Best score: {rgscv2.best_score_}\")\n",
    "print(f\"Best params {rgscv2.best_params_}\")"
   ]
  },
  {
   "cell_type": "markdown",
   "id": "84278ab4-f755-4d23-8d2e-5903ce8ac5a6",
   "metadata": {},
   "source": [
    "# Evaluación del modelo final\n",
    "\n",
    "El mejor modelo encontrado corresponde al preprocesamiento preprocessing_arboles_2(), con 'var_smoothing' = 0.0353.\n",
    "Entrenamos el modelo y evaluamos utilizando el set de holdout."
   ]
  },
  {
   "cell_type": "code",
   "execution_count": 8,
   "id": "13fc6edc-4d72-4061-94b7-b8c72a604497",
   "metadata": {},
   "outputs": [],
   "source": [
    "X_eval = preprocessing_arboles_2(X_eval)\n",
    "\n",
    "gnb = GaussianNB(var_smoothing=0.008)\n",
    "gnb.fit(X_train1, y_train)\n",
    "\n",
    "y_pred = gnb.predict(X_eval)\n",
    "y_pred_proba = gnb.predict_proba(X_eval)[:,1]"
   ]
  },
  {
   "cell_type": "code",
   "execution_count": 9,
   "id": "338028b8-73ce-42a0-b283-93426e628839",
   "metadata": {},
   "outputs": [
    {
     "name": "stdout",
     "output_type": "stream",
     "text": [
      "Auc Roc: 0.8417041459235761\n",
      "Accuracy: 0.8260217847506746\n",
      "Precision: 0.6132945172246482\n",
      "Recall: 0.572463768115942\n",
      "F1 Score: 0.592176153665964\n"
     ]
    }
   ],
   "source": [
    "print(f\"Auc Roc: {roc_auc_score(y_eval, y_pred_proba)}\")\n",
    "print(f\"Accuracy: {accuracy_score(y_eval, y_pred)}\")\n",
    "print(f\"Precision: {precision_score(y_eval, y_pred)}\")\n",
    "print(f\"Recall: {recall_score(y_eval, y_pred)}\")\n",
    "print(f\"F1 Score: {f1_score(y_eval, y_pred)}\")"
   ]
  },
  {
   "cell_type": "markdown",
   "id": "3e6bdb31-0609-485c-8c6c-d4638b112834",
   "metadata": {},
   "source": [
    "## Matriz de confusión"
   ]
  },
  {
   "cell_type": "code",
   "execution_count": 10,
   "id": "673283a6-af7c-4730-9134-fcd3577e416e",
   "metadata": {},
   "outputs": [
    {
     "name": "stderr",
     "output_type": "stream",
     "text": [
      "/usr/local/lib/python3.9/site-packages/sklearn/utils/deprecation.py:87: FutureWarning: Function plot_confusion_matrix is deprecated; Function `plot_confusion_matrix` is deprecated in 1.0 and will be removed in 1.2. Use one of the class methods: ConfusionMatrixDisplay.from_predictions or ConfusionMatrixDisplay.from_estimator.\n",
      "  warnings.warn(msg, category=FutureWarning)\n"
     ]
    },
    {
     "data": {
      "image/png": "[encoded data removed]",
      "text/plain": [
       "<Figure size 900x420 with 2 Axes>"
      ]
     },
     "metadata": {
      "needs_background": "light"
     },
     "output_type": "display_data"
    }
   ],
   "source": [
    "fig, ax = plt.subplots(figsize=(15, 7))\n",
    "plt.grid(False)\n",
    "plot_confusion_matrix(\n",
    "    gnb, X_eval, y_eval, cmap=plt.cm.Blues, display_labels=['1', '0'], ax=ax\n",
    ")\n",
    "plt.show()"
   ]
  },
  {
   "cell_type": "markdown",
   "id": "edb13146-3c17-4407-a25c-69739f5f3d6f",
   "metadata": {},
   "source": [
    "## Curva ROC"
   ]
  },
  {
   "cell_type": "code",
   "execution_count": 11,
   "id": "3b7917d0-22fc-4fba-ab97-7cc6951f48ca",
   "metadata": {},
   "outputs": [
    {
     "data": {
      "image/png": "[encoded data removed]",
      "text/plain": [
       "<Figure size 360x240 with 1 Axes>"
      ]
     },
     "metadata": {
      "needs_background": "light"
     },
     "output_type": "display_data"
    }
   ],
   "source": [
    "fpr, tpr, thresholds = roc_curve(y_eval, y_pred_proba)\n",
    "roc_auc = auc(fpr, tpr)\n",
    "display = RocCurveDisplay(fpr=fpr, tpr=tpr, roc_auc=roc_auc)\n",
    "display.plot()\n",
    "plt.show()"
   ]
  },
  {
   "cell_type": "markdown",
   "id": "78570a27-ac36-4246-ab49-a2e286d750e3",
   "metadata": {},
   "source": [
    "# Predicciones finales"
   ]
  },
  {
   "cell_type": "code",
   "execution_count": 13,
   "id": "9a573a22-fd7f-493f-9232-93d407c27272",
   "metadata": {},
   "outputs": [
    {
     "data": {
      "text/plain": [
       "no    23117\n",
       "si     5975\n",
       "Name: llovieron_hamburguesas_al_dia_siguiente, dtype: int64"
      ]
     },
     "execution_count": 13,
     "metadata": {},
     "output_type": "execute_result"
    }
   ],
   "source": [
    "df_pred = pd.read_csv(\"pred.csv\")\n",
    "df_pred_preprocess = basic_preprocessing(df_pred, prediction_dataset=True)\n",
    "df_pred_preprocess = fill_numerical_missings(df_pred_preprocess, X_train)\n",
    "df_pred_preprocess = df_pred_preprocess.drop(columns = ['id'])\n",
    "df_pred_preprocess = preprocessing_arboles_2(df_pred_preprocess)\n",
    "\n",
    "y_pred_final = gnb.predict(df_pred_preprocess)\n",
    "df_pred_final = pd.DataFrame({'id': df_pred['id'], 'llovieron_hamburguesas_al_dia_siguiente': y_pred_final})\n",
    "df_pred_final.loc[df_pred_final['llovieron_hamburguesas_al_dia_siguiente'] == 1, 'llovieron_hamburguesas_al_dia_siguiente'] = 'si'\n",
    "df_pred_final.loc[df_pred_final['llovieron_hamburguesas_al_dia_siguiente'] == 0, 'llovieron_hamburguesas_al_dia_siguiente'] = 'no'\n",
    "\n",
    "df_pred_final['llovieron_hamburguesas_al_dia_siguiente'].value_counts()"
   ]
  },
  {
   "cell_type": "code",
   "execution_count": 14,
   "id": "66844afd-ef31-4be8-b454-c718f1638cde",
   "metadata": {},
   "outputs": [],
   "source": [
    "df_pred_final.to_csv('predicciones/naive_bayes.csv', index=False)"
   ]
  },
  {
   "cell_type": "code",
   "execution_count": null,
   "id": "fadb2449-1176-4117-9285-6feac113bd20",
   "metadata": {},
   "outputs": [],
   "source": []
  }
 ],
 "metadata": {
  "kernelspec": {
   "display_name": "Python 3 (ipykernel)",
   "language": "python",
   "name": "python3"
  },
  "language_info": {
   "codemirror_mode": {
    "name": "ipython",
    "version": 3
   },
   "file_extension": ".py",
   "mimetype": "text/x-python",
   "name": "python",
   "nbconvert_exporter": "python",
   "pygments_lexer": "ipython3",
   "version": "3.9.9"
  }
 },
 "nbformat": 4,
 "nbformat_minor": 5
}
