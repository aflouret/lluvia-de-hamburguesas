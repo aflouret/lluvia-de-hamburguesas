{
 "cells": [
  {
   "cell_type": "markdown",
   "id": "fae605cb-b911-472b-a01f-9e72b83749e9",
   "metadata": {},
   "source": [
    "# Gaussian Naive Bayes"
   ]
  },
  {
   "cell_type": "code",
   "execution_count": 26,
   "id": "252d48ed-cb37-4226-a164-75d60e24e45d",
   "metadata": {},
   "outputs": [],
   "source": [
    "import numpy as np\n",
    "import pandas as pd\n",
    "import matplotlib \n",
    "from matplotlib import pyplot as plt\n",
    "import seaborn as sns\n",
    "from sklearn.metrics import accuracy_score, roc_auc_score, precision_score, recall_score, f1_score, roc_curve, auc, confusion_matrix, RocCurveDisplay\n",
    "from sklearn.model_selection import GridSearchCV, RandomizedSearchCV\n",
    "\n",
    "from sklearn.naive_bayes import GaussianNB\n",
    "\n",
    "from preprocessing import *\n",
    "\n",
    "plt.rcParams[\"figure.dpi\"] = 60"
   ]
  },
  {
   "cell_type": "markdown",
   "id": "c3162fb6-89d5-4322-a1a1-8ce79471477a",
   "metadata": {},
   "source": [
    "# Carga del dataset\n",
    "Leemos el dataset y lo separamos en datos de training y de evaluación."
   ]
  },
  {
   "cell_type": "code",
   "execution_count": 22,
   "id": "918671b8-fc01-469a-8ba3-79dd8912270c",
   "metadata": {},
   "outputs": [],
   "source": [
    "df = pd.read_csv(\"df_train.csv\")\n",
    "X = df.drop(columns=['llovieron_hamburguesas_al_dia_siguiente'])\n",
    "y = df['llovieron_hamburguesas_al_dia_siguiente']\n",
    "X_train, X_eval, y_train, y_eval = train_test_split(X, y, random_state=117, test_size=0.1, stratify=y.astype(str))"
   ]
  },
  {
   "cell_type": "markdown",
   "id": "9812f45f-7c59-4251-8fd2-abcb6688c05d",
   "metadata": {},
   "source": [
    "# Selección de modelos\n",
    "\n",
    "Para encontrar el mejor modelo, probaremos utilizando 2 preprocesamientos distintos: los preprocesamientos 2 y 4 de árboles de decisión, ya que eliminan los features categóricos, y GaussianNB funciona con features numéricos. Por cada uno de ellos, buscaremos la mejor combinación de hiperparámetros mediante Randomized Search, con el objetivo de maximizar la métrica AUC ROC.\n",
    "\n",
    "El único hipeparámetro que tendremos en cuenta es **var_smoothing**, que es la proporción de la varianza máxima que se suma a todas las varianzas. Su finalidad es evitar que haya clases con probabilidad cero. Este hiperparámetro tiene un valor por defecto de 1e-9, pero también probaremos con valores mayores, hasta 1.\n"
   ]
  },
  {
   "cell_type": "markdown",
   "id": "74c20b19-3fa3-4cd9-8c5d-a7af8b269d3e",
   "metadata": {},
   "source": [
    "Primero probamos con un preprocesamiento que elimina todos los features categóricos:"
   ]
  },
  {
   "cell_type": "code",
   "execution_count": 17,
   "id": "dd307073-d711-4c09-bc13-65291077cf3d",
   "metadata": {},
   "outputs": [
    {
     "name": "stdout",
     "output_type": "stream",
     "text": [
      "Best score: 0.8354399090868581\n",
      "Best params {'var_smoothing': 0.015088692}\n"
     ]
    }
   ],
   "source": [
    "X_train1 = preprocessing_arboles_2(X_train)\n",
    "\n",
    "params = {\n",
    "    'var_smoothing': np.arange(1e-9, 1, 1e-9)\n",
    "}\n",
    "\n",
    "gnb1 = GaussianNB()\n",
    "\n",
    "rgscv1 = RandomizedSearchCV(\n",
    "    gnb1, params, n_iter=60, scoring='roc_auc', n_jobs=-1, cv=5, return_train_score=True\n",
    ").fit(X_train1, y_train)\n",
    "\n",
    "print(f\"Best score: {rgscv1.best_score_}\")\n",
    "print(f\"Best params {rgscv1.best_params_}\")"
   ]
  },
  {
   "cell_type": "markdown",
   "id": "71ead251-22e8-47fe-8f90-5aaa55b8e88a",
   "metadata": {},
   "source": [
    "Por último, probamos con un preprocesamiento que elimina todos los features que consideramos irrelevantes de acuerdo a los análisis del TP1"
   ]
  },
  {
   "cell_type": "code",
   "execution_count": 18,
   "id": "d9051e16-cfb9-430a-a877-5a6b961ee784",
   "metadata": {},
   "outputs": [
    {
     "name": "stdout",
     "output_type": "stream",
     "text": [
      "Best score: 0.8251461946979395\n",
      "Best params {'var_smoothing': 0.175878672}\n"
     ]
    }
   ],
   "source": [
    "X_train2 = preprocessing_arboles_4(X_train)\n",
    "\n",
    "params = {\n",
    "    'var_smoothing': np.arange(1e-9, 1, 1e-9)\n",
    "}\n",
    "\n",
    "gnb2 = GaussianNB()\n",
    "\n",
    "rgscv2 = RandomizedSearchCV(\n",
    "    gnb2, params, n_iter=60, scoring='roc_auc', n_jobs=-1, cv=5, return_train_score=True\n",
    ").fit(X_train2, y_train)\n",
    "\n",
    "print(f\"Best score: {rgscv2.best_score_}\")\n",
    "print(f\"Best params {rgscv2.best_params_}\")"
   ]
  },
  {
   "cell_type": "markdown",
   "id": "84278ab4-f755-4d23-8d2e-5903ce8ac5a6",
   "metadata": {},
   "source": [
    "# Evaluación del modelo final\n",
    "\n",
    "El mejor modelo encontrado corresponde al preprocesamiento preprocessing_arboles_2(), con 'var_smoothing' = 0.0151.\n",
    "Entrenamos el modelo y evaluamos utilizando el set de holdout."
   ]
  },
  {
   "cell_type": "code",
   "execution_count": 23,
   "id": "13fc6edc-4d72-4061-94b7-b8c72a604497",
   "metadata": {},
   "outputs": [],
   "source": [
    "X_eval = preprocessing_arboles_2(X_eval)\n",
    "\n",
    "gnb = GaussianNB(var_smoothing=0.0151)\n",
    "gnb.fit(X_train1, y_train)\n",
    "\n",
    "y_pred = gnb.predict(X_eval)\n",
    "y_pred_proba = gnb.predict_proba(X_eval)[:,1]"
   ]
  },
  {
   "cell_type": "code",
   "execution_count": 24,
   "id": "338028b8-73ce-42a0-b283-93426e628839",
   "metadata": {},
   "outputs": [
    {
     "name": "stdout",
     "output_type": "stream",
     "text": [
      "Auc Roc: 0.8426510575491841\n",
      "Accuracy: 0.8295193364644748\n",
      "Precision: 0.6292481977342945\n",
      "Recall: 0.5534420289855072\n",
      "F1 Score: 0.5889156626506025\n"
     ]
    }
   ],
   "source": [
    "print(f\"Auc Roc: {roc_auc_score(y_eval, y_pred_proba)}\")\n",
    "print(f\"Accuracy: {accuracy_score(y_eval, y_pred)}\")\n",
    "print(f\"Precision: {precision_score(y_eval, y_pred)}\")\n",
    "print(f\"Recall: {recall_score(y_eval, y_pred)}\")\n",
    "print(f\"F1 Score: {f1_score(y_eval, y_pred)}\")"
   ]
  },
  {
   "cell_type": "markdown",
   "id": "95dc14b1-5d4e-4a8e-b8f7-cfb3ed6f51f9",
   "metadata": {},
   "source": [
    "De las métricas podemos destacar que se obtuvo un accuracy de 0.83, igual que el accuracy del baseline obtenido en el TP1. Dado que el accuracy no es una buena métrica para evaluar un modelo cuando se usa un dataset desbalanceado como este, la métrica que usamos para comparar los modelos es AUC, la cual tiene un valor de 0.84.\n",
    "\n",
    "También vemos que el recall obtenido (0.55) es menor que el precision (0.63). Esto significa que, de todas las instancias que son realmente positivas (es decir, llueven hamburguesas al día siguiente), el modelo solo detecta correctamente el 55% de ellas. Por otro lado, de las que el modelo predice como positivas, el 63% eran realmente positivas.\n",
    "\n",
    "Es evidente que los resultados obtenidos no son buenos en comparación con otros modelos utilizados en este TP. Sin embargo, se destaca que el Recall obtenido es relativamente alto, lo cual hace que el modelo sea útil si se quiere detectar la mayor cantidad posible de positivos.\n",
    "\n",
    "Por último, el F1 Score permite tener una única métrica para evaluar el modelo, teniendo en cuenta el recall y el precision:\n",
    "\n",
    "    F1 = 2 x (precision x recall) / (precision + recall) = 0.59\n",
    "    \n",
    "Vemos que el F1 Score es mayor que el de los árboles de decisión, lo cual se debe a que el score de Recall es mucho mayor.\n",
    "\n",
    "Para analizar con más detalle estas métricas, graficaremos la matriz de confusión y la curva ROC."
   ]
  },
  {
   "cell_type": "markdown",
   "id": "3e6bdb31-0609-485c-8c6c-d4638b112834",
   "metadata": {},
   "source": [
    "## Matriz de confusión"
   ]
  },
  {
   "cell_type": "code",
   "execution_count": 27,
   "id": "673283a6-af7c-4730-9134-fcd3577e416e",
   "metadata": {},
   "outputs": [
    {
     "data": {
      "image/png": "[encoded data removed]",
      "text/plain": [
       "<Figure size 600x400 with 2 Axes>"
      ]
     },
     "metadata": {
      "needs_background": "light"
     },
     "output_type": "display_data"
    }
   ],
   "source": [
    "names = sorted(set(y_eval))\n",
    "cm = confusion_matrix(y_eval, y_pred)\n",
    "df_cm = pd.DataFrame(cm, names, names)\n",
    "\n",
    "plt.figure(dpi=100)\n",
    "plt.title(\"Matriz de confusion\")\n",
    "sns.heatmap(df_cm, annot=True, annot_kws={\"size\": 16}, fmt='g', square=True)\n",
    "plt.ylabel(\"True label\")\n",
    "plt.xlabel(\"Predicted label\")\n",
    "plt.show()"
   ]
  },
  {
   "cell_type": "markdown",
   "id": "8c56c1bb-7e7f-4b30-b2bb-2a722701adc8",
   "metadata": {},
   "source": [
    "En la matriz de confusión podemos observar exactamente cuántas instancias fueron predichas como True Positive, True Negative, False Positive y False Negative. Nuevamente destacamos la alta cantidad de instancias predecidas como positivas. A partir de estos datos se pueden calcular las métricas, verificando los resultados obtenidos anteriormente:\n",
    "- Recall = TP/(TP+FN) = 1222/(1222+986) = 0.55\n",
    "- Precision = TP/(TP+FP) = 1222/(1222+720) = 0.63\n",
    "- Accuracy = (TP+TN)/total = 8301/10007 = 0.83"
   ]
  },
  {
   "cell_type": "markdown",
   "id": "edb13146-3c17-4407-a25c-69739f5f3d6f",
   "metadata": {},
   "source": [
    "## Curva ROC"
   ]
  },
  {
   "cell_type": "markdown",
   "id": "7cb22443-7212-4f79-9dbb-79137c30406c",
   "metadata": {},
   "source": [
    "La curva ROC se obtiene al graficar el True Positive Rate (Recall) vs el False Positive Rate, variando el umbral de detección entre 0 y 100%. Si las predicciones hechas fueran completamente aleatorias, la curva sería una recta, con un área bajo la curva de 0.5. El área bajo la curva es la métrica que se obtiene de la curva, y por eso se busca obtener valores mayores que 0.5. En este caso se obtuvo un AUC = 0.84, el cual es el valor más bajo obtenido en este TP."
   ]
  },
  {
   "cell_type": "code",
   "execution_count": 28,
   "id": "3b7917d0-22fc-4fba-ab97-7cc6951f48ca",
   "metadata": {},
   "outputs": [
    {
     "data": {
      "image/png": "[encoded data removed]",
      "text/plain": [
       "<Figure size 360x240 with 1 Axes>"
      ]
     },
     "metadata": {
      "needs_background": "light"
     },
     "output_type": "display_data"
    }
   ],
   "source": [
    "fpr, tpr, thresholds = roc_curve(y_eval, y_pred_proba)\n",
    "roc_auc = auc(fpr, tpr)\n",
    "display = RocCurveDisplay(fpr=fpr, tpr=tpr, roc_auc=roc_auc)\n",
    "display.plot()\n",
    "plt.show()"
   ]
  },
  {
   "cell_type": "markdown",
   "id": "78570a27-ac36-4246-ab49-a2e286d750e3",
   "metadata": {},
   "source": [
    "# Predicciones finales\n",
    "Finalmente, utilizaremos el modelo para predecir la lluvia de hamburguesas a partir de datos que no fueron usados en el entrenamiento. Guardaremos las predicciones en un archivo csv."
   ]
  },
  {
   "cell_type": "code",
   "execution_count": 31,
   "id": "9a573a22-fd7f-493f-9232-93d407c27272",
   "metadata": {},
   "outputs": [],
   "source": [
    "df_pred = pd.read_csv(\"pred.csv\")\n",
    "df_pred_preprocess = basic_preprocessing(df_pred, prediction_dataset=True)\n",
    "df_pred_preprocess = fill_numerical_missings(df_pred_preprocess, X_train)\n",
    "df_pred_preprocess = df_pred_preprocess.drop(columns = ['id'])\n",
    "df_pred_preprocess = preprocessing_arboles_2(df_pred_preprocess)\n",
    "\n",
    "y_pred_final = gnb.predict(df_pred_preprocess)\n",
    "df_pred_final = pd.DataFrame({'id': df_pred['id'], 'llovieron_hamburguesas_al_dia_siguiente': y_pred_final})\n",
    "df_pred_final.loc[df_pred_final['llovieron_hamburguesas_al_dia_siguiente'] == 1, 'llovieron_hamburguesas_al_dia_siguiente'] = 'si'\n",
    "df_pred_final.loc[df_pred_final['llovieron_hamburguesas_al_dia_siguiente'] == 0, 'llovieron_hamburguesas_al_dia_siguiente'] = 'no'"
   ]
  },
  {
   "cell_type": "code",
   "execution_count": 32,
   "id": "66844afd-ef31-4be8-b454-c718f1638cde",
   "metadata": {},
   "outputs": [],
   "source": [
    "df_pred_final.to_csv('predicciones/naive_bayes.csv', index=False)"
   ]
  },
  {
   "cell_type": "code",
   "execution_count": null,
   "id": "fadb2449-1176-4117-9285-6feac113bd20",
   "metadata": {},
   "outputs": [],
   "source": []
  }
 ],
 "metadata": {
  "kernelspec": {
   "display_name": "Python 3 (ipykernel)",
   "language": "python",
   "name": "python3"
  },
  "language_info": {
   "codemirror_mode": {
    "name": "ipython",
    "version": 3
   },
   "file_extension": ".py",
   "mimetype": "text/x-python",
   "name": "python",
   "nbconvert_exporter": "python",
   "pygments_lexer": "ipython3",
   "version": "3.9.9"
  }
 },
 "nbformat": 4,
 "nbformat_minor": 5
}
