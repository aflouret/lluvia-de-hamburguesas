{
 "cells": [
  {
   "cell_type": "code",
   "execution_count": 14,
   "id": "252d48ed-cb37-4226-a164-75d60e24e45d",
   "metadata": {
    "id": "252d48ed-cb37-4226-a164-75d60e24e45d"
   },
   "outputs": [],
   "source": [
    "import numpy as np\n",
    "import pandas as pd\n",
    "import matplotlib \n",
    "from matplotlib import pyplot as plt\n",
    "import seaborn as sns\n",
    "from sklearn.metrics import accuracy_score, roc_auc_score, precision_score, recall_score, f1_score, roc_curve, auc, plot_confusion_matrix, RocCurveDisplay\n",
    "from sklearn.model_selection import GridSearchCV, RandomizedSearchCV\n",
    "\n",
    "from sklearn.neighbors import KNeighborsClassifier\n",
    "\n",
    "from preprocessing import *\n",
    "\n",
    "plt.rcParams[\"figure.dpi\"] = 60"
   ]
  },
  {
   "cell_type": "markdown",
   "id": "2492d5b7-9ac8-4601-9357-f57252fd07ad",
   "metadata": {
    "id": "2492d5b7-9ac8-4601-9357-f57252fd07ad"
   },
   "source": [
    "# Carga del dataset"
   ]
  },
  {
   "cell_type": "code",
   "execution_count": 15,
   "id": "918671b8-fc01-469a-8ba3-79dd8912270c",
   "metadata": {
    "id": "918671b8-fc01-469a-8ba3-79dd8912270c"
   },
   "outputs": [],
   "source": [
    "df = pd.read_csv(\"df_train.csv\")\n",
    "X = df.drop(columns=['llovieron_hamburguesas_al_dia_siguiente'])\n",
    "y = df['llovieron_hamburguesas_al_dia_siguiente']\n",
    "X_train, X_eval, y_train, y_eval = train_test_split(X, y, random_state=117, test_size=0.1, stratify=y.astype(str))"
   ]
  },
  {
   "cell_type": "markdown",
   "id": "d7384aa6-f8a7-4788-9867-86b93df0b67a",
   "metadata": {
    "id": "d7384aa6-f8a7-4788-9867-86b93df0b67a"
   },
   "source": [
    "# Selección de modelos\n",
    "\n",
    "Buscamos la mejor combinación de los hiperparámetros n_neighbors y weights, con 3 tipos de scaler (Standard, MinMax y Normalizer), utilizando Grid Search."
   ]
  },
  {
   "cell_type": "code",
   "execution_count": 3,
   "id": "m4vMTsrX-wz9",
   "metadata": {
    "colab": {
     "base_uri": "https://localhost:8080/"
    },
    "id": "m4vMTsrX-wz9",
    "outputId": "9ecb7d7d-5acb-406b-873a-2905206574ef"
   },
   "outputs": [
    {
     "name": "stdout",
     "output_type": "stream",
     "text": [
      "Best score: 0.8693663877178902\n",
      "Best params {'weights': 'distance', 'n_neighbors': 100}\n"
     ]
    }
   ],
   "source": [
    "X_train1 = preprocessing_knn_standard(X_train)\n",
    "params = {\n",
    "    'n_neighbors': np.arange(10, 150, 10),\n",
    "    'weights': ['uniform', 'distance'],\n",
    "}\n",
    "\n",
    "knn1 = KNeighborsClassifier(algorithm='kd_tree')\n",
    "\n",
    "gscv1 = RandomizedSearchCV(\n",
    "    knn1, params, n_iter=10, scoring='roc_auc', n_jobs=-1, cv=3, return_train_score=True\n",
    ").fit(X_train1, y_train)\n",
    "\n",
    "print(f\"Best score: {gscv1.best_score_}\")\n",
    "print(f\"Best params {gscv1.best_params_}\")"
   ]
  },
  {
   "cell_type": "code",
   "execution_count": 4,
   "id": "Dia5nw-BXK-s",
   "metadata": {
    "colab": {
     "base_uri": "https://localhost:8080/"
    },
    "id": "Dia5nw-BXK-s",
    "outputId": "44767f41-88a9-4dd8-8428-1d7c27a75990"
   },
   "outputs": [
    {
     "name": "stdout",
     "output_type": "stream",
     "text": [
      "Best score: 0.8675784662465255\n",
      "Best params {'weights': 'distance', 'n_neighbors': 120}\n"
     ]
    }
   ],
   "source": [
    "X_train2 = preprocessing_knn_min_max(X_train)\n",
    "params = {\n",
    "    'n_neighbors': np.arange(10, 150, 10),\n",
    "    'weights': ['uniform', 'distance'],\n",
    "}\n",
    "\n",
    "knn2 = KNeighborsClassifier(algorithm='kd_tree')\n",
    "\n",
    "gscv2 = RandomizedSearchCV(\n",
    "    knn2, params, n_iter=10, scoring='roc_auc', n_jobs=-1, cv=3, return_train_score=True\n",
    ").fit(X_train2, y_train)\n",
    "\n",
    "print(f\"Best score: {gscv2.best_score_}\")\n",
    "print(f\"Best params {gscv2.best_params_}\")"
   ]
  },
  {
   "cell_type": "code",
   "execution_count": 5,
   "id": "vceBZ4A1XLD_",
   "metadata": {
    "colab": {
     "base_uri": "https://localhost:8080/"
    },
    "id": "vceBZ4A1XLD_",
    "outputId": "5e2b134d-d54e-4c48-e132-6450062d7d9b"
   },
   "outputs": [
    {
     "name": "stdout",
     "output_type": "stream",
     "text": [
      "Best score: 0.8570203863271639\n",
      "Best params {'weights': 'distance', 'n_neighbors': 140}\n"
     ]
    }
   ],
   "source": [
    "X_train3 = preprocessing_knn_normalizer(X_train)\n",
    "params = {\n",
    "    'n_neighbors': np.arange(10, 150, 10),\n",
    "    'weights': ['uniform', 'distance'],\n",
    "}\n",
    "\n",
    "knn3 = KNeighborsClassifier(algorithm='kd_tree')\n",
    "\n",
    "gscv3 = RandomizedSearchCV(\n",
    "    knn3, params, n_iter=10, scoring='roc_auc', n_jobs=-1, cv=3, return_train_score=True\n",
    ").fit(X_train3, y_train)\n",
    "\n",
    "print(f\"Best score: {gscv3.best_score_}\")\n",
    "print(f\"Best params {gscv3.best_params_}\")"
   ]
  },
  {
   "cell_type": "markdown",
   "id": "c4210a52-87ca-4c41-aa21-ea4908fd1218",
   "metadata": {
    "id": "c4210a52-87ca-4c41-aa21-ea4908fd1218"
   },
   "source": [
    "# Evaluación del modelo final\n",
    "\n",
    "El mejor modelo encontrado corresponde al preprocesamiento preprocessing_knn_standard, con weights': 'distance', 'n_neighbors': 100.\n",
    "Entrenamos el modelo y evaluamos utilizando el set de holdout."
   ]
  },
  {
   "cell_type": "code",
   "execution_count": 6,
   "id": "LLcZrJqZT7e3",
   "metadata": {
    "id": "LLcZrJqZT7e3"
   },
   "outputs": [],
   "source": [
    "X_eval = preprocessing_knn_standard(X_eval)\n",
    "\n",
    "knn = KNeighborsClassifier(algorithm='kd_tree', n_neighbors=100, weights='distance')\n",
    "knn.fit(X_train1, y_train)\n",
    "\n",
    "y_pred = knn.predict(X_eval)\n",
    "y_pred_proba = knn.predict_proba(X_eval)[:,1]"
   ]
  },
  {
   "cell_type": "code",
   "execution_count": 7,
   "id": "67a12d78-42c4-4a32-a6cd-86b274a1dca9",
   "metadata": {
    "colab": {
     "base_uri": "https://localhost:8080/"
    },
    "id": "67a12d78-42c4-4a32-a6cd-86b274a1dca9",
    "outputId": "29ea9396-90df-40d5-bdc6-409c663e3e81"
   },
   "outputs": [
    {
     "name": "stdout",
     "output_type": "stream",
     "text": [
      "Auc Roc: 0.8765817477528707\n",
      "Accuracy: 0.8474068152293395\n",
      "Precision: 0.7593297791317594\n",
      "Recall: 0.45153985507246375\n",
      "F1 Score: 0.566316387389946\n"
     ]
    }
   ],
   "source": [
    "print(f\"Auc Roc: {roc_auc_score(y_eval, y_pred_proba)}\")\n",
    "print(f\"Accuracy: {accuracy_score(y_eval, y_pred)}\")\n",
    "print(f\"Precision: {precision_score(y_eval, y_pred)}\")\n",
    "print(f\"Recall: {recall_score(y_eval, y_pred)}\")\n",
    "print(f\"F1 Score: {f1_score(y_eval, y_pred)}\")"
   ]
  },
  {
   "cell_type": "markdown",
   "id": "07e4eaaa-6ce0-48c1-9fa0-ae660a786fb0",
   "metadata": {
    "id": "07e4eaaa-6ce0-48c1-9fa0-ae660a786fb0"
   },
   "source": [
    "## Matriz de confusión"
   ]
  },
  {
   "cell_type": "code",
   "execution_count": 8,
   "id": "ff74de6c-54cd-4eb7-9559-a8445a31300e",
   "metadata": {
    "colab": {
     "base_uri": "https://localhost:8080/",
     "height": 497
    },
    "id": "ff74de6c-54cd-4eb7-9559-a8445a31300e",
    "outputId": "c289fdfd-f234-4218-f5e5-0dc77ca92398"
   },
   "outputs": [
    {
     "name": "stderr",
     "output_type": "stream",
     "text": [
      "/usr/local/lib/python3.7/dist-packages/sklearn/utils/deprecation.py:87: FutureWarning: Function plot_confusion_matrix is deprecated; Function `plot_confusion_matrix` is deprecated in 1.0 and will be removed in 1.2. Use one of the class methods: ConfusionMatrixDisplay.from_predictions or ConfusionMatrixDisplay.from_estimator.\n",
      "  warnings.warn(msg, category=FutureWarning)\n"
     ]
    },
    {
     "data": {
      "image/png": "[encoded data removed]",
      "text/plain": [
       "<Figure size 1080x504 with 2 Axes>"
      ]
     },
     "metadata": {
      "needs_background": "light"
     },
     "output_type": "display_data"
    }
   ],
   "source": [
    "fig, ax = plt.subplots(figsize=(15, 7))\n",
    "plt.grid(False)\n",
    "plot_confusion_matrix(\n",
    "    knn, X_eval, y_eval, cmap=plt.cm.Blues, display_labels=['1', '0'], ax=ax\n",
    ")\n",
    "plt.show()"
   ]
  },
  {
   "cell_type": "markdown",
   "id": "b2684fe3-a9cf-47fb-a896-e16e263d6be0",
   "metadata": {
    "id": "b2684fe3-a9cf-47fb-a896-e16e263d6be0"
   },
   "source": [
    "## Curva ROC"
   ]
  },
  {
   "cell_type": "code",
   "execution_count": 9,
   "id": "43513d4b-89e6-458e-ad4e-0b580c581f08",
   "metadata": {
    "colab": {
     "base_uri": "https://localhost:8080/",
     "height": 279
    },
    "id": "43513d4b-89e6-458e-ad4e-0b580c581f08",
    "outputId": "7f54b0b2-e4c2-457e-b408-79203b9472d5"
   },
   "outputs": [
    {
     "data": {
      "image/png": "[encoded data removed]",
      "text/plain": [
       "<Figure size 432x288 with 1 Axes>"
      ]
     },
     "metadata": {
      "needs_background": "light"
     },
     "output_type": "display_data"
    }
   ],
   "source": [
    "fpr, tpr, thresholds = roc_curve(y_eval, y_pred_proba)\n",
    "roc_auc = auc(fpr, tpr)\n",
    "display = RocCurveDisplay(fpr=fpr, tpr=tpr, roc_auc=roc_auc)\n",
    "display.plot()\n",
    "plt.show()"
   ]
  },
  {
   "cell_type": "markdown",
   "id": "99695d16-85c8-4e10-bf8b-b822bd53ef12",
   "metadata": {
    "id": "99695d16-85c8-4e10-bf8b-b822bd53ef12"
   },
   "source": [
    "# Predicciones finales"
   ]
  },
  {
   "cell_type": "code",
   "execution_count": null,
   "id": "2e0ae43d-3ab5-4e15-b857-f63653cb1ec7",
   "metadata": {
    "colab": {
     "base_uri": "https://localhost:8080/"
    },
    "id": "2e0ae43d-3ab5-4e15-b857-f63653cb1ec7",
    "outputId": "7b4a029f-f1f2-42e8-bbfb-8d43a01fbf2b"
   },
   "outputs": [],
   "source": [
    "X_train1 = preprocessing_knn_standard(X_train)\n",
    "\n",
    "knn = KNeighborsClassifier(algorithm='kd_tree', n_neighbors=100, weights='distance')\n",
    "knn.fit(X_train1, y_train)\n",
    "\n",
    "df_pred = pd.read_csv(\"pred.csv\")\n",
    "df_pred_preprocess = basic_preprocessing(df_pred, prediction_dataset=True)\n",
    "df_pred_preprocess = fill_numerical_missings(df_pred_preprocess, X_train)\n",
    "df_pred_preprocess = df_pred_preprocess.drop(columns = ['id'])\n",
    "df_pred_preprocess = preprocessing_knn_standard(df_pred_preprocess)\n",
    "\n",
    "y_pred_final = knn.predict(df_pred_preprocess)\n",
    "df_pred_final = pd.DataFrame({'id': df_pred['id'], 'llovieron_hamburguesas_al_dia_siguiente': y_pred_final})\n",
    "df_pred_final.loc[df_pred_final['llovieron_hamburguesas_al_dia_siguiente'] == 1, 'llovieron_hamburguesas_al_dia_siguiente'] = 'si'\n",
    "df_pred_final.loc[df_pred_final['llovieron_hamburguesas_al_dia_siguiente'] == 0, 'llovieron_hamburguesas_al_dia_siguiente'] = 'no'"
   ]
  },
  {
   "cell_type": "code",
   "execution_count": 17,
   "id": "c80e96c4-fa72-4d55-adc2-b4cc515a53d7",
   "metadata": {
    "id": "c80e96c4-fa72-4d55-adc2-b4cc515a53d7"
   },
   "outputs": [],
   "source": [
    "df_pred_final.to_csv('predicciones/knn.csv', index=False)"
   ]
  },
  {
   "cell_type": "code",
   "execution_count": null,
   "id": "1c603880-5e9c-47a5-8dae-d94c7e4aa49a",
   "metadata": {
    "id": "1c603880-5e9c-47a5-8dae-d94c7e4aa49a"
   },
   "outputs": [],
   "source": []
  }
 ],
 "metadata": {
  "colab": {
   "collapsed_sections": [],
   "name": "knn.ipynb",
   "provenance": [],
   "toc_visible": true
  },
  "kernelspec": {
   "display_name": "Python 3 (ipykernel)",
   "language": "python",
   "name": "python3"
  },
  "language_info": {
   "codemirror_mode": {
    "name": "ipython",
    "version": 3
   },
   "file_extension": ".py",
   "mimetype": "text/x-python",
   "name": "python",
   "nbconvert_exporter": "python",
   "pygments_lexer": "ipython3",
   "version": "3.9.9"
  }
 },
 "nbformat": 4,
 "nbformat_minor": 5
}
