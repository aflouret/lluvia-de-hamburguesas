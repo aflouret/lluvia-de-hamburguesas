{
 "cells": [
  {
   "cell_type": "code",
   "execution_count": 23,
   "id": "252d48ed-cb37-4226-a164-75d60e24e45d",
   "metadata": {
    "id": "252d48ed-cb37-4226-a164-75d60e24e45d"
   },
   "outputs": [],
   "source": [
    "import numpy as np\n",
    "import pandas as pd\n",
    "import matplotlib \n",
    "from matplotlib import pyplot as plt\n",
    "import seaborn as sns\n",
    "from sklearn.metrics import accuracy_score, roc_auc_score, precision_score, recall_score, f1_score, roc_curve, auc, plot_confusion_matrix, RocCurveDisplay, confusion_matrix\n",
    "from sklearn.model_selection import GridSearchCV, RandomizedSearchCV\n",
    "\n",
    "from sklearn.ensemble import RandomForestClassifier\n",
    "\n",
    "from preprocessing import *\n",
    "\n",
    "plt.rcParams[\"figure.dpi\"] = 60"
   ]
  },
  {
   "cell_type": "markdown",
   "id": "439d7054-b2eb-4879-9a5b-d0a72dcba03b",
   "metadata": {
    "id": "439d7054-b2eb-4879-9a5b-d0a72dcba03b"
   },
   "source": [
    "# Carga del dataset"
   ]
  },
  {
   "cell_type": "code",
   "execution_count": 2,
   "id": "918671b8-fc01-469a-8ba3-79dd8912270c",
   "metadata": {
    "id": "918671b8-fc01-469a-8ba3-79dd8912270c"
   },
   "outputs": [],
   "source": [
    "df = pd.read_csv(\"df_train.csv\")\n",
    "X = df.drop(columns=['llovieron_hamburguesas_al_dia_siguiente'])\n",
    "y = df['llovieron_hamburguesas_al_dia_siguiente']\n",
    "X_train, X_eval, y_train, y_eval = train_test_split(X, y, random_state=117, test_size=0.1, stratify=y.astype(str))"
   ]
  },
  {
   "cell_type": "markdown",
   "id": "408fc29f-e133-4779-b262-7b365f7b477d",
   "metadata": {
    "id": "408fc29f-e133-4779-b262-7b365f7b477d"
   },
   "source": [
    "# Selección de modelos\n",
    "\n",
    "Para encontrar el mejor modelo, probaremos utilizando 2 preprocesamientos distintos. Dado que boosting es un ensamble de árboles, los preprocesamientos serán los mismos que usamos para los árboles de decisión (particularmente los 2 primeros, ya que son los que obtuvieron mejores resultados en el notebook de árboles). Por cada uno de ellos, buscaremos la mejor combinación de hiperparámetros mediante Randomized Search, con el objetivo de maximizar la métrica AUC ROC.\n",
    "\n",
    "Los hiperparámetros que buscaremos son:\n",
    "- **min_samples_split:** es la mínima cantidad de muestras en cada nodo interno del árbol.\n",
    "- **n_estimators:** es la cantidad de árboles que forman parte del ensamble. En Random Forest se utilizan árboles con alta varianza (por esa razón no se limita la profundidad de los árboles), y al juntar en un ensamble muchos de ellos se busca reducir esa varianza y que clasifiquen mejor. Como el entrenamiento puede tardar mucho si se usan muchos estimadores, usaremos entre 5 y 20 estimadores."
   ]
  },
  {
   "cell_type": "markdown",
   "id": "b4e1b7a2-8a61-45f2-8df6-27fafe7ffb12",
   "metadata": {},
   "source": [
    "En primer lugar probamos con el dataset completo, codificando las variables categóricas con One Hot Encoding:"
   ]
  },
  {
   "cell_type": "code",
   "execution_count": 3,
   "id": "2e9b1fc0-0164-4e26-8be0-37e01dc6e3e1",
   "metadata": {
    "colab": {
     "base_uri": "https://localhost:8080/"
    },
    "id": "2e9b1fc0-0164-4e26-8be0-37e01dc6e3e1",
    "outputId": "39d4450e-81e5-4176-e0cc-36eecc9a6283"
   },
   "outputs": [
    {
     "name": "stdout",
     "output_type": "stream",
     "text": [
      "Best score: 0.8733066185623768\n",
      "Best params {'n_estimators': 18, 'min_samples_split': 8}\n"
     ]
    }
   ],
   "source": [
    "X_train1 = preprocessing_arboles_1(X_train)\n",
    "params = {\n",
    "    'min_samples_split': np.arange(2, 10),\n",
    "    'n_estimators': np.arange(5, 20),\n",
    "}\n",
    "\n",
    "clf = RandomForestClassifier(random_state=0)\n",
    "\n",
    "rgscv = RandomizedSearchCV(\n",
    "    clf, params, n_iter = 60, scoring='roc_auc', n_jobs=-1, cv=5, return_train_score=True\n",
    ").fit(X_train1, y_train)\n",
    "\n",
    "print(f\"Best score: {rgscv.best_score_}\")\n",
    "print(f\"Best params {rgscv.best_params_}\")"
   ]
  },
  {
   "cell_type": "markdown",
   "id": "d3cc26cd-1884-44e1-bb4c-b0ae0be30213",
   "metadata": {},
   "source": [
    "El segundo preprocesamiento elimina los features categóricos:"
   ]
  },
  {
   "cell_type": "code",
   "execution_count": 4,
   "id": "1ff2aea9-3ac4-418b-a604-47097d53807f",
   "metadata": {
    "colab": {
     "base_uri": "https://localhost:8080/"
    },
    "id": "1ff2aea9-3ac4-418b-a604-47097d53807f",
    "outputId": "fdcfcfaf-95c8-423d-bc06-514a64c61f9f"
   },
   "outputs": [
    {
     "name": "stdout",
     "output_type": "stream",
     "text": [
      "Best score: 0.8699407934259418\n",
      "Best params {'n_estimators': 19, 'min_samples_split': 9}\n"
     ]
    }
   ],
   "source": [
    "X_train2 = preprocessing_arboles_2(X_train)\n",
    "params = {\n",
    "    'min_samples_split': np.arange(2, 10),\n",
    "    'n_estimators': np.arange(5, 20),\n",
    "}\n",
    "\n",
    "clf = RandomForestClassifier(random_state=0)\n",
    "\n",
    "\n",
    "rgscv = RandomizedSearchCV(\n",
    "    clf, params,  n_iter = 60, scoring='roc_auc', n_jobs=-1, cv=5, return_train_score=True\n",
    ").fit(X_train2, y_train)\n",
    "\n",
    "print(f\"Best score: {rgscv.best_score_}\")\n",
    "print(f\"Best params {rgscv.best_params_}\")"
   ]
  },
  {
   "cell_type": "markdown",
   "id": "b00ef147-f4c3-4089-a9d2-2818a5fe2c11",
   "metadata": {
    "id": "b00ef147-f4c3-4089-a9d2-2818a5fe2c11"
   },
   "source": [
    "# Evaluación del modelo final\n",
    "\n",
    "El mejor modelo encontrado corresponde al preprocesamiento preprocessing_arboles_1, con 'n_estimators': 18, 'min_samples_split': 8.\n",
    "Entrenamos el modelo y evaluamos utilizando el set de evaluacion."
   ]
  },
  {
   "cell_type": "code",
   "execution_count": 17,
   "id": "e19b01d2-8414-46db-8e6c-49bf0806d994",
   "metadata": {
    "id": "e19b01d2-8414-46db-8e6c-49bf0806d994"
   },
   "outputs": [],
   "source": [
    "X_eval = preprocessing_arboles_1(X_eval)\n",
    "\n",
    "clf = RandomForestClassifier(n_estimators= 18, min_samples_split= 8)\n",
    "clf.fit(X_train1, y_train)\n",
    "\n",
    "y_pred = clf.predict(X_eval)\n",
    "y_pred_proba = clf.predict_proba(X_eval)[:,1]"
   ]
  },
  {
   "cell_type": "code",
   "execution_count": 18,
   "id": "3e248e03-36ba-4c9b-8733-b04a726bfc96",
   "metadata": {
    "id": "3e248e03-36ba-4c9b-8733-b04a726bfc96",
    "outputId": "cb53b4a6-b8f7-4eec-a6cf-522ed3af1df8"
   },
   "outputs": [
    {
     "name": "stdout",
     "output_type": "stream",
     "text": [
      "Auc Roc: 0.8804423318857304\n",
      "Accuracy: 0.8550014989507345\n",
      "Precision: 0.7541974479516454\n",
      "Recall: 0.5086050724637681\n",
      "F1 Score: 0.6075196104949958\n"
     ]
    }
   ],
   "source": [
    "print(f\"Auc Roc: {roc_auc_score(y_eval, y_pred_proba)}\")\n",
    "print(f\"Accuracy: {accuracy_score(y_eval, y_pred)}\")\n",
    "print(f\"Precision: {precision_score(y_eval, y_pred)}\")\n",
    "print(f\"Recall: {recall_score(y_eval, y_pred)}\")\n",
    "print(f\"F1 Score: {f1_score(y_eval, y_pred)}\")"
   ]
  },
  {
   "cell_type": "markdown",
   "id": "c4849ce3-4c21-4ebf-a684-2e9b91971a53",
   "metadata": {},
   "source": [
    "De las métricas podemos destacar que se obtuvo un accuracy de 0.86, mayor que el accuracy del baseline obtenido en el TP1 (0.83). Dado que el accuracy no es una buena métrica para evaluar un modelo cuando se usa un dataset desbalanceado como este, la métrica que usamos para comparar los modelos es AUC, la cual tiene un valor de 0.88.\n",
    "\n",
    "También vemos que el recall obtenido (0.51) es mucho menor que el precision (0.75). Esto significa que, de todas las instancias que son realmente positivas (es decir, llueven hamburguesas al día siguiente), el modelo solo detecta correctamente el 51% de ellas. Por otro lado, de las que el modelo predice como positivas, el 75% eran realmente positivas.\n",
    "\n",
    "Si comparamos estos resultados con los del otro ensamble (Boosting), vemos que el recall obtenido fue menor, pero el precision fue mayor. Esto significa que nuestro modelo de Random Forest puede ser más útil que Boosting si se quisiera obtener una menor cantidad de falsos positivos.\n",
    "\n",
    "Por último, el F1 Score permite tener una única métrica para evaluar el modelo, teniendo en cuenta el recall y el precision:\n",
    "\n",
    "    F1 = 2 x (precision x recall) / (precision + recall) = 0.61\n",
    "\n",
    "Para analizar con más detalle estas métricas, graficaremos la matriz de confusión y la curva ROC."
   ]
  },
  {
   "cell_type": "markdown",
   "id": "c34cbc64-6865-4056-8bc3-d8b09ba118f5",
   "metadata": {
    "id": "c34cbc64-6865-4056-8bc3-d8b09ba118f5"
   },
   "source": [
    "## Matriz de confusion"
   ]
  },
  {
   "cell_type": "code",
   "execution_count": 24,
   "id": "8b3c907d-8444-43cf-94b6-76d0560f5510",
   "metadata": {
    "id": "8b3c907d-8444-43cf-94b6-76d0560f5510",
    "outputId": "01f2a0db-2392-4aec-a12c-0f5a32dcae0e"
   },
   "outputs": [
    {
     "data": {
      "image/png": "[encoded data removed]",
      "text/plain": [
       "<Figure size 600x400 with 2 Axes>"
      ]
     },
     "metadata": {
      "needs_background": "light"
     },
     "output_type": "display_data"
    }
   ],
   "source": [
    "names = sorted(set(y_eval))\n",
    "cm = confusion_matrix(y_eval, y_pred)\n",
    "df_cm = pd.DataFrame(cm, names, names)\n",
    "\n",
    "plt.figure(dpi=100)\n",
    "plt.title(\"Matriz de confusion\")\n",
    "sns.heatmap(df_cm, annot=True, annot_kws={\"size\": 16}, fmt='g', square=True)\n",
    "plt.ylabel(\"True label\")\n",
    "plt.xlabel(\"Predicted label\")\n",
    "plt.show()"
   ]
  },
  {
   "cell_type": "markdown",
   "id": "4c4a0e06-1d20-476b-b83d-d9d16f3ec56d",
   "metadata": {},
   "source": [
    "En la matriz de confusión podemos observar exactamente cuántas instancias fueron predichas como True Positive, True Negative, False Positive y False Negative. A partir de estos datos se pueden calcular las métricas, verificando los resultados obtenidos anteriormente:\n",
    "- Recall = TP/(TP+FN) = 1123/(1123+1085) = 0.51\n",
    "- Precision = TP/(TP+FP) = 1123/(1123+366) = 0.75\n",
    "- Accuracy = (TP+TN)/total = 8556/10007 = 0.86"
   ]
  },
  {
   "cell_type": "markdown",
   "id": "8df12007-cb64-40ab-818c-9929778cd4cf",
   "metadata": {
    "id": "8df12007-cb64-40ab-818c-9929778cd4cf"
   },
   "source": [
    "## Curva ROC"
   ]
  },
  {
   "cell_type": "markdown",
   "id": "6c02c6a6-be3c-4060-af18-4c8c5852e589",
   "metadata": {},
   "source": [
    "La curva ROC se obtiene al graficar el True Positive Rate (Recall) vs el False Positive Rate, variando el umbral de detección entre 0 y 100%. Si las predicciones hechas fueran completamente aleatorias, la curva sería una recta, con un área bajo la curva de 0.5. El área bajo la curva es la métrica que se obtiene de la curva, y por eso se busca obtener valores mayores que 0.5. En este caso se obtuvo un AUC = 0.88, el cual es un buen valor comparado con otros modelos utilizados en este TP."
   ]
  },
  {
   "cell_type": "code",
   "execution_count": 21,
   "id": "a4c439f6-8362-45d0-b724-47f403562596",
   "metadata": {
    "id": "a4c439f6-8362-45d0-b724-47f403562596",
    "outputId": "98fa7798-f4b7-4fd5-c508-2a4f5b47b065"
   },
   "outputs": [
    {
     "data": {
      "image/png": "[encoded data removed]",
      "text/plain": [
       "<Figure size 360x240 with 1 Axes>"
      ]
     },
     "metadata": {
      "needs_background": "light"
     },
     "output_type": "display_data"
    }
   ],
   "source": [
    "fpr, tpr, thresholds = roc_curve(y_eval, y_pred_proba)\n",
    "roc_auc = auc(fpr, tpr)\n",
    "display = RocCurveDisplay(fpr=fpr, tpr=tpr, roc_auc=roc_auc)\n",
    "display.plot()\n",
    "plt.show()"
   ]
  },
  {
   "cell_type": "markdown",
   "id": "826652b9-72df-4df9-bb3c-cf0bc41f4912",
   "metadata": {
    "id": "826652b9-72df-4df9-bb3c-cf0bc41f4912"
   },
   "source": [
    "# Predicciones finales\n",
    "Finalmente, utilizaremos el modelo para predecir la lluvia de hamburguesas a partir de datos que no fueron usados en el entrenamiento. Guardaremos las predicciones en un archivo csv."
   ]
  },
  {
   "cell_type": "code",
   "execution_count": 25,
   "id": "016b69e3-cf33-4cc5-b5ae-de47ce1e9b5d",
   "metadata": {
    "id": "016b69e3-cf33-4cc5-b5ae-de47ce1e9b5d",
    "outputId": "6614a01e-8171-4e74-e9d2-bece9519e748"
   },
   "outputs": [
    {
     "data": {
      "text/plain": [
       "no    24690\n",
       "si     4402\n",
       "Name: llovieron_hamburguesas_al_dia_siguiente, dtype: int64"
      ]
     },
     "execution_count": 25,
     "metadata": {},
     "output_type": "execute_result"
    }
   ],
   "source": [
    "X_train1 = preprocessing_arboles_1(X_train)\n",
    "\n",
    "clf = RandomForestClassifier(n_estimators= 19, min_samples_split= 4)\n",
    "clf.fit(X_train1, y_train)\n",
    "\n",
    "df_pred = pd.read_csv(\"pred.csv\")\n",
    "df_pred_preprocess = basic_preprocessing(df_pred, prediction_dataset=True)\n",
    "df_pred_preprocess = fill_numerical_missings(df_pred_preprocess, X_train)\n",
    "df_pred_preprocess = df_pred_preprocess.drop(columns = ['id'])\n",
    "df_pred_preprocess = preprocessing_arboles_1(df_pred_preprocess)\n",
    "\n",
    "y_pred_final = clf.predict(df_pred_preprocess)\n",
    "df_pred_final = pd.DataFrame({'id': df_pred['id'], 'llovieron_hamburguesas_al_dia_siguiente': y_pred_final})\n",
    "df_pred_final.loc[df_pred_final['llovieron_hamburguesas_al_dia_siguiente'] == 1, 'llovieron_hamburguesas_al_dia_siguiente'] = 'si'\n",
    "df_pred_final.loc[df_pred_final['llovieron_hamburguesas_al_dia_siguiente'] == 0, 'llovieron_hamburguesas_al_dia_siguiente'] = 'no'\n",
    "\n",
    "df_pred_final['llovieron_hamburguesas_al_dia_siguiente'].value_counts()"
   ]
  },
  {
   "cell_type": "code",
   "execution_count": 26,
   "id": "0dfb8e43-8d4d-49d3-a68d-8b6e375ec873",
   "metadata": {
    "id": "0dfb8e43-8d4d-49d3-a68d-8b6e375ec873"
   },
   "outputs": [],
   "source": [
    "df_pred_final.to_csv('predicciones/random_forest.csv', index=False)"
   ]
  },
  {
   "cell_type": "code",
   "execution_count": null,
   "id": "d54b0a3f-fc91-4bcc-b1a4-3f74034ff0b1",
   "metadata": {
    "id": "d54b0a3f-fc91-4bcc-b1a4-3f74034ff0b1"
   },
   "outputs": [],
   "source": []
  }
 ],
 "metadata": {
  "colab": {
   "name": "random_forest.ipynb",
   "provenance": []
  },
  "kernelspec": {
   "display_name": "Python 3 (ipykernel)",
   "language": "python",
   "name": "python3"
  },
  "language_info": {
   "codemirror_mode": {
    "name": "ipython",
    "version": 3
   },
   "file_extension": ".py",
   "mimetype": "text/x-python",
   "name": "python",
   "nbconvert_exporter": "python",
   "pygments_lexer": "ipython3",
   "version": "3.9.9"
  }
 },
 "nbformat": 4,
 "nbformat_minor": 5
}
